{
 "cells": [
  {
   "cell_type": "markdown",
   "metadata": {},
   "source": [
    "## Spam classifier"
   ]
  },
  {
   "cell_type": "markdown",
   "metadata": {},
   "source": [
    "First, let's fetch the data:"
   ]
  },
  {
   "cell_type": "code",
   "execution_count": 1,
   "metadata": {},
   "outputs": [],
   "source": [
    "import os\n",
    "import tarfile\n",
    "import urllib.request\n",
    "\n",
    "DOWNLOAD_ROOT = \"http://spamassassin.apache.org/old/publiccorpus/\"\n",
    "HAM_URL = DOWNLOAD_ROOT + \"20030228_hard_ham.tar.bz2\"  # for the homework, use: \t20030228_hard_ham.tar.bz2\n",
    "SPAM_URL = DOWNLOAD_ROOT + \"20030228_spam.tar.bz2\"\n",
    "SPAM_PATH = os.path.join(\"datasets\", \"spam\")\n",
    "\n",
    "def fetch_spam_data(spam_url=SPAM_URL, spam_path=SPAM_PATH):\n",
    "    if not os.path.isdir(spam_path):\n",
    "        os.makedirs(spam_path)\n",
    "    for filename, url in ((\"ham.tar.bz2\", HAM_URL), (\"spam.tar.bz2\", SPAM_URL)):\n",
    "        path = os.path.join(spam_path, filename)\n",
    "        if not os.path.isfile(path):\n",
    "            urllib.request.urlretrieve(url, path)\n",
    "        tar_bz2_file = tarfile.open(path)\n",
    "        tar_bz2_file.extractall(path=SPAM_PATH)\n",
    "        tar_bz2_file.close()"
   ]
  },
  {
   "cell_type": "code",
   "execution_count": 2,
   "metadata": {},
   "outputs": [],
   "source": [
    "fetch_spam_data()"
   ]
  },
  {
   "cell_type": "markdown",
   "metadata": {},
   "source": [
    "Next, let's load all the emails:"
   ]
  },
  {
   "cell_type": "code",
   "execution_count": 3,
   "metadata": {},
   "outputs": [],
   "source": [
    "HAM_DIR = os.path.join(SPAM_PATH, \"hard_ham\")\n",
    "SPAM_DIR = os.path.join(SPAM_PATH, \"spam\")\n",
    "ham_filenames = [name for name in sorted(os.listdir(HAM_DIR)) if len(name) > 20]\n",
    "spam_filenames = [name for name in sorted(os.listdir(SPAM_DIR)) if len(name) > 20]"
   ]
  },
  {
   "cell_type": "code",
   "execution_count": 4,
   "metadata": {},
   "outputs": [
    {
     "data": {
      "text/plain": [
       "250"
      ]
     },
     "execution_count": 4,
     "metadata": {},
     "output_type": "execute_result"
    }
   ],
   "source": [
    "len(ham_filenames)"
   ]
  },
  {
   "cell_type": "code",
   "execution_count": 5,
   "metadata": {},
   "outputs": [
    {
     "data": {
      "text/plain": [
       "500"
      ]
     },
     "execution_count": 5,
     "metadata": {},
     "output_type": "execute_result"
    }
   ],
   "source": [
    "len(spam_filenames)"
   ]
  },
  {
   "cell_type": "markdown",
   "metadata": {},
   "source": [
    "We can use Python's `email` module to parse these emails (this handles headers, encoding, and so on):"
   ]
  },
  {
   "cell_type": "code",
   "execution_count": 6,
   "metadata": {},
   "outputs": [],
   "source": [
    "import email\n",
    "import email.policy\n",
    "\n",
    "def load_email(is_spam, filename, spam_path=SPAM_PATH):\n",
    "    directory = \"spam\" if is_spam else \"hard_ham\"\n",
    "    with open(os.path.join(spam_path, directory, filename), \"rb\") as f:\n",
    "        return email.parser.BytesParser(policy=email.policy.default).parse(f)"
   ]
  },
  {
   "cell_type": "code",
   "execution_count": 7,
   "metadata": {},
   "outputs": [],
   "source": [
    "ham_emails = [load_email(is_spam=False, filename=name) for name in ham_filenames]\n",
    "spam_emails = [load_email(is_spam=True, filename=name) for name in spam_filenames]"
   ]
  },
  {
   "cell_type": "markdown",
   "metadata": {},
   "source": [
    "Let's look at one example of ham and one example of spam, to get a feel of what the data looks like:"
   ]
  },
  {
   "cell_type": "code",
   "execution_count": 8,
   "metadata": {},
   "outputs": [
    {
     "name": "stdout",
     "output_type": "stream",
     "text": [
      "May 7, 2002\n",
      "\n",
      "\n",
      "Dear rod-3ds@arsecandle.org:\n",
      "\n",
      "\n",
      "Congratulations!  On behalf of Frito-Lay, Inc., we are pleased to advise you\n",
      " that you've won Fourth Prize in the 3D's(R) Malcolm in the Middle(TM)\n",
      " Sweepstakes.   Fourth Prize consists of 1 manufacturer's coupon redeemable at\n",
      " participating retailers for 1 free bag of 3D's(R) brand snacks (up to 7 oz.\n",
      " size), with an approximate retail value of $2.59 and an expiration date of\n",
      " 12/31/02.\n",
      "\n",
      "Follow these instructions to claim your prize:\n",
      "\n",
      "1.\tPrint out this email message.\n",
      "\n",
      "2.\tComplete ALL of the information requested.  Print clearly and legibly.  Sign\n",
      " where indicated.\n",
      "\n",
      "3.\tIf you are under 18 or otherwise under the legal age of majority in your\n",
      " state, your parent or legal guardian must co-sign where indicated below.\n",
      "\n",
      "4.\tMail the completed and signed form to:  3D's(R) Malcolm in the Middle(TM)\n",
      " Sweepstakes, Redemption Center, PO Box 1520, Elmhurst IL 60126.  WE MUST\n",
      " RECEIVE THIS FORM NO LATER THAN MAY 28, 2002 IN ORDER TO SEND YOU THE PRIZE.\n",
      "\n",
      "PLEASE DO NOT ATTEMPT TO REPLY TO THIS EMAIL.  THE ONLY WAY TO CLAIM THE PRIZE\n",
      " IS TO FOLLOW THE INSTRUCTIONS ABOVE.  YOUR PRIZE WILL BE MAILED TO YOU WITHIN 6\n",
      " TO 8 WEEKS OF RECEIPT OF THIS FORM.\n",
      "\n",
      "Once again, on behalf of Frito-Lay, Inc., congratulations and thank you for\n",
      " participating in the Game.\n",
      "\n",
      "\t\t\t\t\t\n",
      "Sincerely,\n",
      "\n",
      "\n",
      "Game Security Services\n",
      "\n",
      "\n",
      "\n",
      "\n",
      "\n",
      "\n",
      "\n",
      "\n",
      "\n",
      "\n",
      "PRIZE ACCEPTANCE/RELEASE AND INDEMNIFICATION FORM\n",
      "3D's(R) Malcolm in the Middle(TM) Sweepstakes\n",
      "\n",
      "\n",
      "1.\tMy social security number is:  _______________________________\n",
      "\n",
      "2.\tMy date of birth is:   _______________________________________\n",
      "\n",
      "3.\tMy telephone number is:   __________________________________\n",
      "\n",
      "4.\tMy home address is:   _____________________________________\n",
      "\n",
      "\t\t\t      _____________________________________\n",
      "\n",
      "5.\tMy email address is:   _____________________________________\n",
      "\n",
      "6.\tI am a legal resident of the State of:   _________________________\n",
      "\n",
      "7.\tI am above the legal age of majority in my state of residence or my parent or\n",
      " legal guardian has co-signed below.\n",
      "\n",
      "8.\tI represent that I (1) have fully complied with all of the Official Rules of\n",
      " the Sweepstakes, and (2) have not committed any fraud or deception in\n",
      " participating in the Sweepstakes or in accepting the Prize.\n",
      "\n",
      "9.\tBy accepting the prize, I (and my parent/legal guardian if I am a minor)\n",
      " agree to release Frito-Lay, Inc. (\"Sponsor\"), FOX Broadcasting Company, 20th\n",
      " Century FOX Television, Regency Entertainment, their respective parent,\n",
      " subsidiary or affiliated companies, distributors, printing suppliers for this\n",
      " promotion, advertising, fulfillment, judging or promotion agencies,\n",
      " participating retailers, and all of their respective officers, directors,\n",
      " employees, representatives and agents from any liability for, and to hold them\n",
      " harmless against, any liability for injuries, losses or damages of any kind to\n",
      " persons or property resulting in whole or in part, directly or indirectly, from\n",
      " participation in the sweepstakes or acceptance, possession, misuse or use of\n",
      " any prize. \n",
      "\n",
      "\n",
      "\n",
      "Name [print full name]:\t_______________________________\n",
      "\n",
      "Signature:\t\t_______________________________\n",
      "\n",
      "Date:\t\t\t_______________________________\n",
      "\n",
      "\n",
      "\n",
      "IF WINNER IS A MINOR IN HIS OR HER STATE OF RESIDENCE, WINNER'S PARENT OR LEGAL\n",
      " GUARDIAN MUST COMPLETE THE INFORMATION BELOW: \n",
      "\n",
      "I am the parent or legal guardian of the winner who has signed the foregoing\n",
      " Release. I AGREE TO THE TERMS OF THE RELEASE AND CONSENT TO THE ACCEPTANCE OF\n",
      " THE PRIZE ON THE WINNER'S BEHALF.\n",
      "\n",
      "\n",
      "\n",
      "Parent/Guardian's Name [print full name]:\t_______________________________\n",
      "\n",
      "Parent/Guardian's Signature:\t\t\t_______________________________\n",
      "\n",
      "Date:\t\t\t\t\t\t_______________________________\n",
      "\n",
      "\n",
      "\n",
      "\n",
      "\n",
      "\n",
      "\n",
      "2002 OFFICIAL RULES\n",
      "3D's(R) Malcolm in the Middle(TM) Sweepstakes\n",
      "\n",
      "OPEN ONLY TO LEGAL U.S. RESIDENTS LOCATED IN THE U.S. AT THE TIME OF ENTRY. VOID\n",
      " ELSEWHERE AND WHEREVER PROHIBITED BY LAW, INCLUDING BUT NOT LIMITED TO,\n",
      " FLORIDA, PUERTO RICO, U.S. VIRGIN ISLANDS AND U.S. MILITARY INSTALLATIONS\n",
      " LOCATED IN A FOREIGN COUNTRY.\n",
      "\n",
      "NO PURCHASE NECESSARY. PURCHASE DOES NOT IMPROVE CHANCE OF WINNING. MANY WILL\n",
      " ENTER. FEW WILL WIN. ODDS DEPEND ON NUMBER OF ENTRIES RECEIVED.\n",
      "\n",
      "1. ELIGIBILITY: Open only to legal U.S. residents located in the U.S. at the\n",
      " time of entry, excluding residents of Florida, Puerto Rico, the U.S. Virgin\n",
      " Islands and U.S. military installations located in a foreign country, who had\n",
      " online access on or before 1/26/02. Employees, contractors, directors and\n",
      " officers of Frito-Lay, Inc. (\"Sponsor\"), FOX Broadcasting Company, 20th Century\n",
      " FOX Television, Regency Entertainment, their respective parent, subsidiary and\n",
      " affiliated companies, distributors, printing suppliers for this promotion,\n",
      " advertising, fulfillment, judging and promotion agencies (collectively,\n",
      " \"Promotion Parties\"), and their immediate family members and those living in\n",
      " their same households are not eligible.\n",
      "\n",
      "2. TO ENTER: Beginning 12:00:01 a.m. E.T. 1/27/02, log on to www.3DsFun.com and\n",
      " click on the link on the home page to locate the official entry form. Follow\n",
      " on-screen directions to properly complete an entry form and send it\n",
      " electronically by 11:59:59 p.m. E.T. 2/11/02. In order for entry to be valid,\n",
      " entrants must click on the \"I accept\" button on the web site. All entries must\n",
      " be received no later than 11:59:59 p.m. E.T. on 2/13/02. LIMIT ONE ENTRY PER\n",
      " PERSON AND/OR E-MAIL ADDRESS. SUBSEQUENT ENTRIES WILL BE DISQUALIFIED.\n",
      " Promotion Parties assume no responsibility for lost, late, misdirected, stolen,\n",
      " undelivered, garbled, damaged, or incomplete entries, or for any computer,\n",
      " online, telephone or technical malfunctions that may occur. Promotion Parties\n",
      " also assume no responsibility for any technical problems in connection with\n",
      " transmission or receipt of online entries including faulty electronic data\n",
      " transmission, traffic congestion on the Internet or on the web site, hardware\n",
      " or software error, equipment failure or malfunction, or other online\n",
      " communications problems. In the event of a dispute regarding the identity of\n",
      " the person submitting an online entry, entries will be declared made by the\n",
      " authorized account holder of the e-mail address submitted at the time of entry.\n",
      " \"Authorized account holder\" is defined as the natural person who is assigned to\n",
      " an e-mail address by an Internet Access provider, online service provider, or\n",
      " other organization (e.g., business, educational institution, etc.) responsible\n",
      " for assigning e-mail addresses for the domain associated with the submitted\n",
      " e-mail address. All entries become the property of Sponsor and will not be\n",
      " returned to entrant. Automated entries (including but not limited to entries\n",
      " made using any script, macro, bot, or sweepstakes service) and facsimiles are\n",
      " not allowed. Potential winner may be requested to provide Sponsor with proof\n",
      " that the potential winner is the authorized account holder of the e-mail\n",
      " address associated with the winning entry.\n",
      "\n",
      "3. WINNER SELECTION: Winners will be selected in a random drawing to take place\n",
      " on or about 2/28/02 by an independent judging organization, the judge, whose\n",
      " decisions are final and binding on all matters related to the sweepstakes. Odds\n",
      " of winning depend on the number of eligible entries received. Winners will be\n",
      " notified by e-mail. If any prize or correspondence (including e-mail) regarding\n",
      " any prize is returned as non-deliverable, prize may be forfeited and an\n",
      " alternate winner selected.  Winners (or winner's parent or legal guardian, if\n",
      " winner is a minor) and Grand Prize winner's travel companions (or companion's\n",
      " parent or legal guardian for any companion who is a minor) will be required to\n",
      " complete, sign and return either a Prize Acceptance/Release and Indemnification\n",
      " form or an Affidavit of Eligibility/Liability Release (as directed by Sponsor),\n",
      " and, where lawful, a Publicity Release within twenty-one (21) days of winners'\n",
      " receipt of documents via e-mail or prize may be forfeited. Grand prize winner\n",
      " (or winner's parent or legal guardian, if winner is a minor) and winner's\n",
      " travel companions will also be required to complete, sign and return a set\n",
      " visit release together with completed I-9 and W-4 forms in order to visit the\n",
      " set of Malcolm in the Middle(TM) as described below in paragraph 4. Prizes won\n",
      " by minors will be awarded to a parent or legal guardian who must sign all\n",
      " required documents.\n",
      "\n",
      "4. PRIZES: ONE (1) GRAND PRIZE: One trip for winner and 3 travel companions of\n",
      " winner's choosing to Los Angeles, CA to be completed on or before 12/31/02.\n",
      " Trip is for 4 persons but can include up to 8 persons under the following\n",
      " conditions: Among winner and the 3 selected travel companions, each traveler\n",
      " who is a minor in his/her state of residence must be accompanied by a parent or\n",
      " legal guardian of such minor at all times; Sponsor will provide trip\n",
      " accommodations for one parent or legal guardian to accompany him/her. Trip\n",
      " includes round-trip coach air transportation from a major gateway airport near\n",
      " winner's residence within the U.S.; 3 days/2 nights double occupancy standard\n",
      " hotel accommodations in the Los Angeles, CA metropolitan area (airport, carrier\n",
      " and hotel to be selected by Sponsor); accompanied admission to the set of FOX's\n",
      " Malcolm in the Middle(TM) (\"MIM\") during a non-filming period selected by FOX\n",
      " to meet Frankie Muniz; and ground transportation between the California airport\n",
      " and hotel, and between the hotel and the MIM set. Grand Prize winner will also\n",
      " receive a check for $2,500, 1 MIM script autographed by Frankie Muniz, one\n",
      " MIM/3D's(R) brand snacks VIP pack (including 1 backpack, 1 book, 1 hat, 1\n",
      " t-shirt, and 1 case consisting of fifteen 7 oz. bags of RUFFLES(R) 3D's(R)\n",
      " brand Maximum Cheddar flavored snacks). Approximate Retail Value (\"ARV\"):\n",
      " Between $7,500 and $15,000, depending on winner's point of travel origin and\n",
      " how many persons (up to 8) take the trip. All meals, gratuities, and other\n",
      " expenses associated with prize trip not specifically mentioned in these rules\n",
      " are the winner's sole responsibility. All travel must be taken by the date\n",
      " specified; no alternative travel dates are available. Winner, travel\n",
      " companions, and any necessary parent(s)/legal guardian(s) (the \"travel party\")\n",
      " must travel on same itinerary. In the event that circumstances prevent the\n",
      " travel party from being able to attend the set visit or meet Frankie Muniz, or\n",
      " limit this portion of the Grand Prize in any way, the winner agrees that the\n",
      " Promotion Parties shall have no obligations other than to deliver the remainder\n",
      " of the Grand Prize. FIVE (5) FIRST PRIZES: Manufacturer's coupons redeemable at\n",
      " participating retailers for 52 free 7 oz. bags of any 3D'S(R) brand snacks\n",
      " (with a retail value up to $2.59). ARV: $135. TEN (10) SECOND PRIZES: One\n",
      " MIM/3D's(R) brand snacks VIP pack (including 1 backpack, 1 book, 1 hat, ,1\n",
      " t-shirt, and 1 case consisting of fifteen 7 oz. bags of RUFFLES(R) 3D's(R)\n",
      " brand Maximum Cheddar flavored snacks). ARV: $100. TWENTY (20) THIRD PRIZES:\n",
      " One MIM t-shirt and one MIM hat. ARV: $30. 100 FOURTH PRIZES: One\n",
      " manufacturer's coupon redeemable at participating retailers for 1 free bag of\n",
      " 3D's(R) brand snacks (up to 7 oz. size). ARV: $2.59. Free product coupons\n",
      " expire and must be redeemed by 12/31/02. No substitution, cash redemptions or\n",
      " transfer of prizes is permitted except at Sponsor's sole discretion. If a prize\n",
      " cannot be awarded for any reason, Sponsor reserves the right to substitute any\n",
      " prize with another prize of equal or greater value. Any portion of a prize not\n",
      " accepted by a winner shall be forfeited. All prizes will be awarded.\n",
      "\n",
      "5. GENERAL CONDITIONS: Sweepstakes is not to be used in connection with any form\n",
      " of gambling. Prizes will be awarded and/or delivered only to addresses within\n",
      " the United States. Prize winners are solely responsible for any taxes on\n",
      " Prizes. This sweepstakes is subject to all federal, state and local laws, and\n",
      " Grand Prize winner will receive an IRS Form 1099 for the approximate retail\n",
      " value of the prize. By participating, entrants (and their parent(s)/legal\n",
      " guardian(s) if entrants are minors) agree to these Official Rules, Sponsor's\n",
      " Privacy Policy (available at www.3DsFun.com) and to the decisions of the judge,\n",
      " which are final and binding in all respects. If for any reason the sweepstakes\n",
      " is not capable of running as planned; including infection by computer virus,\n",
      " bugs, tampering, unauthorized intervention, fraud, technical failures, or any\n",
      " other causes which corrupt or affect the administration, security, fairness,\n",
      " integrity or proper conduct of the sweepstakes, Sponsor reserves the right, at\n",
      " its sole discretion, to disqualify any individual who is responsible or who\n",
      " tampers with the entry process, and to cancel or terminate the sweepstakes and\n",
      " select the winners from all eligible entries received prior to the cancellation\n",
      " or termination. This sweepstakes is offered only in the United States and is\n",
      " governed by the laws of the state of Texas, with venue in Dallas County, Texas,\n",
      " and all claims must be resolved in the federal or state courts of Dallas\n",
      " County, Texas.\n",
      "\n",
      "6. LIMITATIONS OF LIABILITY AND RELEASE: By accepting prize, winners (and\n",
      " winners' parent(s)/legal guardian(s) if winners are minors) agree that the\n",
      " Promotion Parties, participating retailers, and all of their respective\n",
      " officers, directors, employees, representatives and agents will have no\n",
      " liability whatsoever for, and shall be held harmless by winners against, any\n",
      " liability for injuries, losses or damages of any kind to persons or property\n",
      " resulting in whole or in part, directly or indirectly, from participation in\n",
      " the sweepstakes or acceptance, possession, misuse or use of any prize. Except\n",
      " if winners are residents of TN or where prohibited by law, winners (and\n",
      " winners' parent(s)/legal guardian(s) if winners are minors) grant (and agree to\n",
      " confirm this grant in writing, if requested) permission for Sponsor and those\n",
      " acting under its authority to use his/her name, photograph, voice and/or\n",
      " likeness, for advertising and/or publicity purposes without additional\n",
      " compensation.\n",
      "\n",
      "7. WINNERS' LIST: For a list of winners of prizes valued over $25, mail a\n",
      " self-addressed, stamped envelope to be postmarked by 2/11/02 and received by\n",
      " 2/18/02 to: Malcolm in the Middle(TM) Sweepstakes, Winners' List Requests, P.O.\n",
      " Box 1518, Elmhurst, IL 60126.\n",
      "\n",
      "8. SPONSOR: Frito-Lay, Inc., 7701 Legacy Drive, Plano, TX 75024-4099.\n",
      "\n",
      "(c)2002. Frito-Lay, Inc. All rights reserved.\n",
      "\n",
      "Malcolm in the Middle(TM) and (c)2002 Twentieth Century Fox Film Corporation,\n",
      " Regency Entertainment (USA) Inc. and Monarchy Enterprises S.a.r.l. All rights\n",
      " reserved.\n",
      "(c)2002. FOX BROADCASTING COMPANY\n"
     ]
    }
   ],
   "source": [
    "print(ham_emails[1].get_content().strip())"
   ]
  },
  {
   "cell_type": "code",
   "execution_count": 9,
   "metadata": {},
   "outputs": [
    {
     "name": "stdout",
     "output_type": "stream",
     "text": [
      "Help wanted.  We are a 14 year old fortune 500 company, that is\n",
      "growing at a tremendous rate.  We are looking for individuals who\n",
      "want to work from home.\n",
      "\n",
      "This is an opportunity to make an excellent income.  No experience\n",
      "is required.  We will train you.\n",
      "\n",
      "So if you are looking to be employed from home with a career that has\n",
      "vast opportunities, then go:\n",
      "\n",
      "http://www.basetel.com/wealthnow\n",
      "\n",
      "We are looking for energetic and self motivated people.  If that is you\n",
      "than click on the link and fill out the form, and one of our\n",
      "employement specialist will contact you.\n",
      "\n",
      "To be removed from our link simple go to:\n",
      "\n",
      "http://www.basetel.com/remove.html\n",
      "\n",
      "\n",
      "4139vOLW7-758DoDY1425FRhM1-764SMFc8513fCsLl40\n"
     ]
    }
   ],
   "source": [
    "print(spam_emails[6].get_content().strip())"
   ]
  },
  {
   "cell_type": "markdown",
   "metadata": {},
   "source": [
    "Some emails are actually multipart, with images and attachments (which can have their own attachments). Let's look at the various types of structures we have:"
   ]
  },
  {
   "cell_type": "code",
   "execution_count": 10,
   "metadata": {},
   "outputs": [],
   "source": [
    "def get_email_structure(email):\n",
    "    if isinstance(email, str):\n",
    "        return email\n",
    "    payload = email.get_payload()\n",
    "    if isinstance(payload, list):\n",
    "        return \"multipart({})\".format(\", \".join([\n",
    "            get_email_structure(sub_email)\n",
    "            for sub_email in payload\n",
    "        ]))\n",
    "    else:\n",
    "        return email.get_content_type()"
   ]
  },
  {
   "cell_type": "code",
   "execution_count": 11,
   "metadata": {},
   "outputs": [],
   "source": [
    "from collections import Counter\n",
    "\n",
    "def structures_counter(emails):\n",
    "    structures = Counter()\n",
    "    for email in emails:\n",
    "        structure = get_email_structure(email)\n",
    "        structures[structure] += 1\n",
    "    return structures"
   ]
  },
  {
   "cell_type": "code",
   "execution_count": 12,
   "metadata": {},
   "outputs": [
    {
     "data": {
      "text/plain": [
       "[('text/html', 118),\n",
       " ('text/plain', 81),\n",
       " ('multipart(text/plain, text/html)', 43),\n",
       " ('multipart(text/html)', 2),\n",
       " ('multipart(text/plain, image/bmp)', 1),\n",
       " ('multipart(multipart(text/plain, text/html))', 1),\n",
       " ('multipart(text/plain, application/x-pkcs7-signature)', 1),\n",
       " ('multipart(text/plain, image/png, image/png)', 1),\n",
       " ('multipart(multipart(text/plain, text/html), image/gif, image/gif, image/gif, image/gif, image/gif, image/gif, image/gif, image/gif, image/gif, image/gif, image/gif, image/jpeg, image/gif, image/gif, image/gif, image/gif, image/gif, image/gif)',\n",
       "  1),\n",
       " ('multipart(text/plain, text/plain)', 1)]"
      ]
     },
     "execution_count": 12,
     "metadata": {},
     "output_type": "execute_result"
    }
   ],
   "source": [
    "structures_counter(ham_emails).most_common()"
   ]
  },
  {
   "cell_type": "code",
   "execution_count": 13,
   "metadata": {},
   "outputs": [
    {
     "data": {
      "text/plain": [
       "[('text/plain', 218),\n",
       " ('text/html', 183),\n",
       " ('multipart(text/plain, text/html)', 45),\n",
       " ('multipart(text/html)', 20),\n",
       " ('multipart(text/plain)', 19),\n",
       " ('multipart(multipart(text/html))', 5),\n",
       " ('multipart(text/plain, image/jpeg)', 3),\n",
       " ('multipart(text/html, application/octet-stream)', 2),\n",
       " ('multipart(text/plain, application/octet-stream)', 1),\n",
       " ('multipart(text/html, text/plain)', 1),\n",
       " ('multipart(multipart(text/html), application/octet-stream, image/jpeg)', 1),\n",
       " ('multipart(multipart(text/plain, text/html), image/gif)', 1),\n",
       " ('multipart/alternative', 1)]"
      ]
     },
     "execution_count": 13,
     "metadata": {},
     "output_type": "execute_result"
    }
   ],
   "source": [
    "structures_counter(spam_emails).most_common()"
   ]
  },
  {
   "cell_type": "markdown",
   "metadata": {},
   "source": [
    "It seems that the ham emails are more often plain text, while spam has quite a lot of HTML. Moreover, quite a few ham emails are signed using PGP, while no spam is. In short, it seems that the email structure is useful information to have."
   ]
  },
  {
   "cell_type": "markdown",
   "metadata": {},
   "source": [
    "Now let's take a look at the email headers:"
   ]
  },
  {
   "cell_type": "code",
   "execution_count": 14,
   "metadata": {},
   "outputs": [
    {
     "name": "stdout",
     "output_type": "stream",
     "text": [
      "Return-Path : <12a1mailbot1@web.de>\n",
      "Delivered-To : zzzz@localhost.spamassassin.taint.org\n",
      "Received : from localhost (localhost [127.0.0.1])\tby phobos.labs.spamassassin.taint.org (Postfix) with ESMTP id 136B943C32\tfor <zzzz@localhost>; Thu, 22 Aug 2002 08:17:21 -0400 (EDT)\n",
      "Received : from mail.webnote.net [193.120.211.219]\tby localhost with POP3 (fetchmail-5.9.0)\tfor zzzz@localhost (single-drop); Thu, 22 Aug 2002 13:17:21 +0100 (IST)\n",
      "Received : from dd_it7 ([210.97.77.167])\tby webnote.net (8.9.3/8.9.3) with ESMTP id NAA04623\tfor <zzzz@spamassassin.taint.org>; Thu, 22 Aug 2002 13:09:41 +0100\n",
      "From : 12a1mailbot1@web.de\n",
      "Received : from r-smtp.korea.com - 203.122.2.197 by dd_it7  with Microsoft SMTPSVC(5.5.1775.675.6);\t Sat, 24 Aug 2002 09:42:10 +0900\n",
      "To : dcek1a1@netsgo.com\n",
      "Subject : Life Insurance - Why Pay More?\n",
      "Date : Wed, 21 Aug 2002 20:31:57 -1600\n",
      "MIME-Version : 1.0\n",
      "Message-ID : <0103c1042001882DD_IT7@dd_it7>\n",
      "Content-Type : text/html; charset=\"iso-8859-1\"\n",
      "Content-Transfer-Encoding : quoted-printable\n"
     ]
    }
   ],
   "source": [
    "for header, value in spam_emails[0].items():\n",
    "    print(header,\":\",value)"
   ]
  },
  {
   "cell_type": "markdown",
   "metadata": {},
   "source": [
    "There's probably a lot of useful information in there, such as the sender's email address (12a1mailbot1@web.de looks fishy), but we will just focus on the `Subject` header:"
   ]
  },
  {
   "cell_type": "code",
   "execution_count": 15,
   "metadata": {},
   "outputs": [
    {
     "data": {
      "text/plain": [
       "'Life Insurance - Why Pay More?'"
      ]
     },
     "execution_count": 15,
     "metadata": {},
     "output_type": "execute_result"
    }
   ],
   "source": [
    "spam_emails[0][\"Subject\"]"
   ]
  },
  {
   "cell_type": "markdown",
   "metadata": {},
   "source": [
    "Okay, before we learn too much about the data, let's not forget to split it into a training set and a test set:"
   ]
  },
  {
   "cell_type": "code",
   "execution_count": 16,
   "metadata": {},
   "outputs": [],
   "source": [
    "import numpy as np\n",
    "from sklearn.model_selection import train_test_split\n",
    "\n",
    "X = np.array(ham_emails + spam_emails)\n",
    "y = np.array([0] * len(ham_emails) + [1] * len(spam_emails))\n",
    "\n",
    "X_train, X_test, y_train, y_test = train_test_split(X, y, test_size=0.2, random_state=42)"
   ]
  },
  {
   "cell_type": "markdown",
   "metadata": {},
   "source": [
    "Okay, let's start writing the preprocessing functions. First, we will need a function to convert HTML to plain text. Arguably the best way to do this would be to use the great [BeautifulSoup](https://www.crummy.com/software/BeautifulSoup/) library, but I would like to avoid adding another dependency to this project, so let's hack a quick & dirty solution using regular expressions (at the risk of [un̨ho͞ly radiańcé destro҉ying all enli̍̈́̂̈́ghtenment](https://stackoverflow.com/a/1732454/38626)). The following function first drops the `<head>` section, then converts all `<a>` tags to the word HYPERLINK, then it gets rid of all HTML tags, leaving only the plain text. For readability, it also replaces multiple newlines with single newlines, and finally it unescapes html entities (such as `&gt;` or `&nbsp;`):"
   ]
  },
  {
   "cell_type": "code",
   "execution_count": 17,
   "metadata": {},
   "outputs": [],
   "source": [
    "import re\n",
    "from html import unescape\n",
    "\n",
    "def html_to_plain_text(html):\n",
    "    text = re.sub('<head.*?>.*?</head>', '', html, flags=re.M | re.S | re.I)\n",
    "    text = re.sub('<a\\s.*?>', ' HYPERLINK ', text, flags=re.M | re.S | re.I)\n",
    "    text = re.sub('<.*?>', '', text, flags=re.M | re.S)\n",
    "    text = re.sub(r'(\\s*\\n)+', '\\n', text, flags=re.M | re.S)\n",
    "    return unescape(text)"
   ]
  },
  {
   "cell_type": "markdown",
   "metadata": {},
   "source": [
    "Let's see if it works. This is HTML spam:"
   ]
  },
  {
   "cell_type": "code",
   "execution_count": 18,
   "metadata": {},
   "outputs": [
    {
     "name": "stdout",
     "output_type": "stream",
     "text": [
      "Me and my friends have this brand new idea, a Live Webcam <a href=\"http://%31%30%31%31%30%31%31%31%30%31%31%31%31%30%31%30%31%30%31%30%31%30%31%31%31%30%31%30%31%30%31%30%31%30%31%30%31%30%31%30%31%30%31%31%30%31%30%31%30%31%30%31%30%31%30%31%30%31%30%31%30%31%31%30%31%30%31%31%30%31%30%31%30%31%30%31%30%31%30%31%30%31%30%31%30%31%30%31%30%31%31%30%31%30%31%30%31%30%31%30%31%30%31%30%31%30%31%31%30%30%30%31%30%31%31%30%31%31%31%30%31%30%31%30%31%30%31%30%31%30%30%30%31%31%30%31%30%31%30%31%31%30%31%30%31%30%31%30%31%31%30%31@%34%2E%34%37%2E%39%36%2E%31%34%31/msga.html\"> Click Here <a/>\n",
      "<br>\n",
      "<br>\n",
      "<br>\n",
      "<font size=\"1\">This is NOT SPAM - You have received this e-mail because \n",
      "at one time or another you entered the weekly draw at one of\n",
      "our portals or FFA sites. We comply with all proposed and current laws \n",
      "on commercial e-mail under (Bill s. 1618 TITLE III passed by the 105th \n",
      "Congress).\n",
      " If you have received this e-mail in error, we apologize for the \n",
      "inconvenience and ask that you remove ...\n"
     ]
    }
   ],
   "source": [
    "html_spam_emails = [email for email in X_train[y_train==1]\n",
    "                    if get_email_structure(email) == \"text/html\"]\n",
    "sample_html_spam = html_spam_emails[7]\n",
    "print(sample_html_spam.get_content().strip()[:1000], \"...\")"
   ]
  },
  {
   "cell_type": "markdown",
   "metadata": {},
   "source": [
    "And this is the resulting plain text:"
   ]
  },
  {
   "cell_type": "code",
   "execution_count": 19,
   "metadata": {},
   "outputs": [
    {
     "name": "stdout",
     "output_type": "stream",
     "text": [
      "Me and my friends have this brand new idea, a Live Webcam  HYPERLINK  Click Here\n",
      "This is NOT SPAM - You have received this e-mail because\n",
      "at one time or another you entered the weekly draw at one of\n",
      "our portals or FFA sites. We comply with all proposed and current laws\n",
      "on commercial e-mail under (Bill s. 1618 TITLE III passed by the 105th\n",
      "Congress).\n",
      " If you have received this e-mail in error, we apologize for the\n",
      "inconvenience and ask that you remove yourself.\n",
      "Click   HYPERLINK Here to Unsubscribe\n",
      "fysibvcgjyuwinmyvbpjtaebsymyukbrkn\n",
      " ...\n"
     ]
    }
   ],
   "source": [
    "print(html_to_plain_text(sample_html_spam.get_content())[:1000], \"...\")"
   ]
  },
  {
   "cell_type": "markdown",
   "metadata": {},
   "source": [
    "Great! Now let's write a function that takes an email as input and returns its content as plain text, whatever its format is:"
   ]
  },
  {
   "cell_type": "code",
   "execution_count": 20,
   "metadata": {},
   "outputs": [],
   "source": [
    "def email_to_text(email):\n",
    "    html = None\n",
    "    for part in email.walk():\n",
    "        ctype = part.get_content_type()\n",
    "        if not ctype in (\"text/plain\", \"text/html\"):\n",
    "            continue\n",
    "        try:\n",
    "            content = part.get_content()\n",
    "        except: # in case of encoding issues\n",
    "            content = str(part.get_payload())\n",
    "        if ctype == \"text/plain\":\n",
    "            return content\n",
    "        else:\n",
    "            html = content\n",
    "    if html:\n",
    "        return html_to_plain_text(html)"
   ]
  },
  {
   "cell_type": "code",
   "execution_count": 21,
   "metadata": {},
   "outputs": [
    {
     "name": "stdout",
     "output_type": "stream",
     "text": [
      "Me and my friends have this brand new idea, a Live Webcam  HYPERLINK  Click Here\n",
      "This is NOT SPAM -  ...\n"
     ]
    }
   ],
   "source": [
    "print(email_to_text(sample_html_spam)[:100], \"...\")"
   ]
  },
  {
   "cell_type": "markdown",
   "metadata": {},
   "source": [
    "Let's throw in some stemming! For this to work, you need to install the Natural Language Toolkit ([NLTK](http://www.nltk.org/)). It's as simple as running the following command (don't forget to activate your virtualenv first; if you don't have one, you will likely need administrator rights, or use the `--user` option):\n",
    "\n",
    "`$ pip3 install nltk`"
   ]
  },
  {
   "cell_type": "code",
   "execution_count": 22,
   "metadata": {},
   "outputs": [
    {
     "name": "stdout",
     "output_type": "stream",
     "text": [
      "Error: stemming requires the NLTK module.\n"
     ]
    }
   ],
   "source": [
    "try:\n",
    "    import nltk\n",
    "\n",
    "    stemmer = nltk.PorterStemmer()\n",
    "    for word in (\"Computations\", \"Computation\", \"Computing\", \"Computed\", \"Compute\", \"Compulsive\"):\n",
    "        print(word, \"=>\", stemmer.stem(word))\n",
    "except ImportError:\n",
    "    print(\"Error: stemming requires the NLTK module.\")\n",
    "    stemmer = None"
   ]
  },
  {
   "cell_type": "markdown",
   "metadata": {},
   "source": [
    "We will also need a way to replace URLs with the word \"URL\". For this, we could use hard core [regular expressions](https://mathiasbynens.be/demo/url-regex) but we will just use the [urlextract](https://github.com/lipoja/URLExtract) library. You can install it with the following command (don't forget to activate your virtualenv first; if you don't have one, you will likely need administrator rights, or use the `--user` option):\n",
    "\n",
    "`$ pip3 install urlextract`"
   ]
  },
  {
   "cell_type": "code",
   "execution_count": 23,
   "metadata": {},
   "outputs": [
    {
     "name": "stdout",
     "output_type": "stream",
     "text": [
      "Error: replacing URLs requires the urlextract module.\n"
     ]
    }
   ],
   "source": [
    "try:\n",
    "    import urlextract # may require an Internet connection to download root domain names\n",
    "    \n",
    "    url_extractor = urlextract.URLExtract()\n",
    "    print(url_extractor.find_urls(\"Will it detect github.com and https://youtu.be/7Pq-S557XQU?t=3m32s\"))\n",
    "except ImportError:\n",
    "    print(\"Error: replacing URLs requires the urlextract module.\")\n",
    "    url_extractor = None"
   ]
  },
  {
   "cell_type": "markdown",
   "metadata": {},
   "source": [
    "We are ready to put all this together into a transformer that we will use to convert emails to word counters. Note that we split sentences into words using Python's `split()` method, which uses whitespaces for word boundaries. This works for many written languages, but not all. For example, Chinese and Japanese scripts generally don't use spaces between words, and Vietnamese often uses spaces even between syllables. It's okay in this exercise, because the dataset is (mostly) in English."
   ]
  },
  {
   "cell_type": "code",
   "execution_count": 24,
   "metadata": {},
   "outputs": [],
   "source": [
    "from sklearn.base import BaseEstimator, TransformerMixin\n",
    "\n",
    "class EmailToWordCounterTransformer(BaseEstimator, TransformerMixin):\n",
    "    def __init__(self, strip_headers=True, lower_case=True, remove_punctuation=True,\n",
    "                 replace_urls=True, replace_numbers=True, stemming=True):\n",
    "        self.strip_headers = strip_headers\n",
    "        self.lower_case = lower_case\n",
    "        self.remove_punctuation = remove_punctuation\n",
    "        self.replace_urls = replace_urls\n",
    "        self.replace_numbers = replace_numbers\n",
    "        self.stemming = stemming\n",
    "    def fit(self, X, y=None):\n",
    "        return self\n",
    "    def transform(self, X, y=None):\n",
    "        X_transformed = []\n",
    "        for email in X:\n",
    "            text = email_to_text(email) or \"\"\n",
    "            if self.lower_case:\n",
    "                text = text.lower()\n",
    "            if self.replace_urls and url_extractor is not None:\n",
    "                urls = list(set(url_extractor.find_urls(text)))\n",
    "                urls.sort(key=lambda url: len(url), reverse=True)\n",
    "                for url in urls:\n",
    "                    text = text.replace(url, \" URL \")\n",
    "            if self.replace_numbers:\n",
    "                text = re.sub(r'\\d+(?:\\.\\d*(?:[eE]\\d+))?', 'NUMBER', text)\n",
    "            if self.remove_punctuation:\n",
    "                text = re.sub(r'\\W+', ' ', text, flags=re.M)\n",
    "            word_counts = Counter(text.split())\n",
    "            if self.stemming and stemmer is not None:\n",
    "                stemmed_word_counts = Counter()\n",
    "                for word, count in word_counts.items():\n",
    "                    stemmed_word = stemmer.stem(word)\n",
    "                    stemmed_word_counts[stemmed_word] += count\n",
    "                word_counts = stemmed_word_counts\n",
    "            X_transformed.append(word_counts)\n",
    "        return np.array(X_transformed)"
   ]
  },
  {
   "cell_type": "markdown",
   "metadata": {},
   "source": [
    "Let's try this transformer on a few emails:"
   ]
  },
  {
   "cell_type": "code",
   "execution_count": 25,
   "metadata": {},
   "outputs": [
    {
     "data": {
      "text/plain": [
       "array([Counter({'of': 30, 'to': 28, 'the': 28, 'and': 20, 'this': 17, 'your': 14, 'in': 12, 'we': 12, 'a': 11, 'you': 11, 'kabila': 9, 'congo': 8, 'NUMBER': 8, 'is': 8, 'my': 8, 'us': 8, 'country': 7, 'i': 7, 'president': 7, 'out': 6, 'by': 5, 'laurent': 5, 'our': 5, 'as': 5, 'fund': 5, 'with': 5, 'from': 4, 'col': 4, 'democratic': 4, 'republic': 4, 'code': 4, 'that': 4, 'money': 4, 'security': 4, 'for': 4, 'who': 4, 'move': 4, 'will': 4, 'are': 4, 'linux': 4, 'michael': 3, 'bundu': 3, 'intl': 3, 'access': 3, 'email': 3, 'please': 3, 'me': 3, 'need': 3, 'one': 3, 'his': 3, 'were': 3, 'late': 3, 'then': 3, 'other': 3, 'here': 3, 'can': 3, 'assist': 3, 'have': 3, 'not': 3, 'through': 3, 'worked': 3, 'information': 3, 'be': 3, 'dial': 3, 'ie': 3, 'tel': 2, 'no': 2, 'rediffmail': 2, 'com': 2, 'assistance': 2, 'so': 2, 'trust': 2, 'foreign': 2, 'partner': 2, 'may': 2, 'but': 2, 'indulgence': 2, 'view': 2, 'it': 2, 'name': 2, 'aides': 2, 'military': 2, 'some': 2, 'group': 2, 'when': 2, 'immediately': 2, 'company': 2, 'said': 2, 'son': 2, 'beneficiary': 2, 'under': 2, 'diplomatic': 2, 'europe': 2, 'confidential': 2, 'while': 2, 'has': 2, 'sincere': 2, 'hence': 2, 'if': 2, 'contact': 2, 'addresses': 2, 'fax': 2, 'above': 2, 'deal': 2, 'ilug': 2, 'mikebundu': 1, 'dear': 1, 'sir': 1, 'madam': 1, 'seeking': 1, 'immediate': 1, 'permit': 1, 'make': 1, 'acquaintance': 1, 'informal': 1, 'manner': 1, 'necessitated': 1, 'urgent': 1, 'reach': 1, 'dependable': 1, 'worthy': 1, 'request': 1, 'seem': 1, 'strange': 1, 'unsolicited': 1, 'crave': 1, 'pray': 1, 'seriously': 1, 'close': 1, 'former': 1, 'blessed': 1, 'memory': 1, 'soul': 1, 'rest': 1, 'peace': 1, 'due': 1, 'campaign': 1, 'force': 1, 'rebels': 1, 'colleagues': 1, 'instructed': 1, 'go': 1, 'abroad': 1, 'purchase': 1, 'arms': 1, 'ammunition': 1, 'worth': 1, 'twenty': 1, 'million': 1, 'five': 1, 'hundred': 1, 'thousand': 1, 'united': 1, 'states': 1, 'dollars': 1, 'only': 1, 'fight': 1, 'rebel': 1, 'given': 1, 'privately': 1, 'without': 1, 'knowledge': 1, 'cabinet': 1, 'members': 1, 'was': 1, 'killed': 1, 'bloody': 1, 'shoot': 1, 'bodyguards': 1, 'day': 1, 'before': 1, 'schedule': 1, 'travel': 1, 'decided': 1, 'put': 1, 'funds': 1, 'into': 1, 'private': 1, 'safe': 1, 'keeping': 1, 'amount': 1, 'presently': 1, 'being': 1, 'threatened': 1, 'following': 1, 'arrest': 1, 'seizure': 1, 'properties': 1, 'rasheidi': 1, 'karesava': 1, 'tribesman': 1, 'personnel': 1, 'same': 1, 'tribe': 1, 'new': 1, 'joseph': 1, 'reliable': 1, 'trustworthy': 1, 'sufficient': 1, 'contacts': 1, 'cover': 1, 'ensure': 1, 'baggage': 1, 'marked': 1, 'pass': 1, 'normal': 1, 'custom': 1, 'airport': 1, 'screening': 1, 'clearance': 1, 'inability': 1, 'all': 1, 'stems': 1, 'lack': 1, 'supposed': 1, 'good': 1, 'friends': 1, 'western': 1, 'countries': 1, 'suddenly': 1, 'became': 1, 'hostile': 1, 'those': 1, 'after': 1, 'took': 1, 'office': 1, 'though': 1, 'neither': 1, 'seen': 1, 'nor': 1, 'met': 1, 'each': 1, 'gathered': 1, 'an': 1, 'associate': 1, 'encouraged': 1, 'convinced': 1, 'transaction': 1, 'properly': 1, 'handled': 1, 'modesty': 1, 'honesty': 1, 'huge': 1, 'success': 1, 'within': 1, 'two': 1, 'weeks': 1, 'state': 1, 'therefore': 1, 'requires': 1, 'total': 1, 'confidentiality': 1, 'would': 1, 'stand': 1, 'on': 1, 'behalf': 1, 'because': 1, 'restricted': 1, 'movement': 1, 'watch': 1, 'want': 1, 'very': 1, 'careful': 1, 'order': 1, 'lose': 1, 'which': 1, 'hard': 1, 'thus': 1, 'willing': 1, 'nos': 1, 'telephone': 1, 'number': 1, 'personal': 1, 'enable': 1, 'discuss': 1, 'modalities': 1, 'what': 1, 'share': 1, 'percentage': 1, 'assisting': 1, 'note': 1, 'there': 1, 'risks': 1, 'involved': 1, 'everyone': 1, 's': 1, 'guaranteed': 1, 'follow': 1, 'required': 1, 'guidelines': 1, 'furnish': 1, 'further': 1, 'details': 1, 'soon': 1, 'am': 1, 'assured': 1, 'interest': 1, 'must': 1, 'use': 1, 'opportunity': 1, 'medium': 1, 'implore': 1, 'exercise': 1, 'utmost': 1, 'keep': 1, 'matter': 1, 'extraordinarily': 1, 'whatever': 1, 'decision': 1, 'await': 1, 'prompt': 1, 'response': 1, 'thank': 1, 'god': 1, 'bless': 1, 'best': 1, 'regards': 1, 'rtd': 1, 'm_bundu': 1, 'n': 1, 'b': 1, 'calling': 1, 'line': 1, 'directly': 1, 'do': 1, 'include': 1, 'e': 1, 'just': 1, 'also': 1, 'irish': 1, 'users': 1, 'http': 1, 'www': 1, 'mailman': 1, 'listinfo': 1, 'un': 1, 'subscription': 1, 'list': 1, 'maintainer': 1, 'listmaster': 1}),\n",
       "       Counter({'the': 48, 'divx': 38, 'of': 30, 'com': 30, 'NUMBER': 24, 'to': 24, 'you': 21, 'in': 19, 'mailshell': 19, 'this': 16, 'and': 14, 'a': 14, 'http': 14, 'skins': 13, 'rd': 13, 'video': 11, 'www': 11, 'your': 9, 's': 8, 'battle': 8, 'planets': 8, 'is': 8, 'email': 7, 'if': 7, 'for': 7, 'that': 7, 'warcraft': 6, 'iii': 6, 'unsubscribe': 6, 'from': 6, 'php': 6, 'by': 6, 'about': 5, 'newsletter': 5, 'not': 5, 'skin': 5, 'news': 4, 'week': 4, 'sent': 4, 'at': 4, 'message': 4, 'with': 4, 'more': 4, 'be': 4, 'on': 4, 'can': 4, 'showcase': 4, 'future': 4, 'detail': 4, 'id': 4, 'divxnetworks': 4, 'number': 3, 'what': 3, 'latest': 3, 'over': 3, 'cool': 3, 'are': 3, 'like': 3, 'up': 3, 'series': 3, 'as': 3, 'forward': 3, 'read': 3, 'player': 3, 'have': 3, 'will': 3, 'submitted': 3, 'all': 3, 'please': 3, 'hot': 2, 'world': 2, 'now': 2, 'million': 2, 'fans': 2, 'weekly': 2, 'd': 2, 'follow': 2, 'instructions': 2, 'classic': 2, 'one': 2, 'way': 2, 'it': 2, 'has': 2, 'great': 2, 'new': 2, 'entertainment': 2, 'NUMBERs': 2, 'popular': 2, 'was': 2, 'anime': 2, 'adventures': 2, 'protected': 2, 'who': 2, 're': 2, 'high': 2, 'quality': 2, 'mammoth': 2, 'shark': 2, 'menace': 2, 'watch': 2, 'we': 2, 'reign': 2, 'chaos': 2, 'blizzard': 2, 'would': 2, 'experience': 2, 'design': 2, 'create': 2, 'send': 2, 'us': 2, 'friends': 2, 'inc': 2, 'advertising': 2, 'an': 2, 'replies': 2, 'do': 2, 'receive': 2, 'list': 2, 'address': 2, 'tm': 1, 'worldwide': 1, 'welcome': 1, 'edition': 1, 'fix': 1, 'information': 1, 'being': 1, 'because': 1, 'subscribed': 1, 'end': 1, 'issue': 1, 'sells': 1, 'hotcakes': 1, 'best': 1, 'things': 1, 'opened': 1, 'distribution': 1, 'possibilities': 1, 'lot': 1, 'videos': 1, 'may': 1, 'otherwise': 1, 'widely': 1, 'seen': 1, 'independent': 1, 'short': 1, 'films': 1, 'cult': 1, 'movies': 1, 'strong': 1, 'underground': 1, 'followings': 1, 'filmmakers': 1, 'distributors': 1, 'discovering': 1, 'provides': 1, 'get': 1, 'their': 1, 'content': 1, 'front': 1, 'audiences': 1, 'perfect': 1, 'example': 1, 'phenomenon': 1, 'groundbreaking': 1, 'animated': 1, 'sandy': 1, 'frank': 1, 'originally': 1, 'shown': 1, 'american': 1, 'television': 1, 'late': 1, 'gained': 1, 'following': 1, 'forerunners': 1, 'wildly': 1, 'style': 1, 'chronicled': 1, 'group': 1, 'intergalactic': 1, 'adventurers': 1, 'they': 1, 'battled': 1, 'evil': 1, 'universe': 1, 'invaders': 1, 'beloved': 1, 'among': 1, 'nostalgia': 1, 'buffs': 1, 'anyone': 1, 'enjoys': 1, 'sci': 1, 'fi': 1, 'animation': 1, 'subject': 1, 'fan': 1, 'sites': 1, 'discussion': 1, 'groups': 1, 'throughout': 1, 'internet': 1, 'live': 1, 'crew': 1, 'episode': 1, 'currently': 1, 'featured': 1, 'stay': 1, 'tuned': 1, 'episodes': 1, 'come': 1, 'sets': 1, 'sales': 1, 'records': 1, 'while': 1, 'ago': 1, 'told': 1, 'highly': 1, 'anticipated': 1, 'game': 1, 'feature': 1, 'cinematic': 1, 'cut': 1, 'scenes': 1, 'early': 1, 'july': 1, 'released': 1, 'record': 1, 'setting': 1, 'results': 1, 'shipping': 1, 'copies': 1, 'retailers': 1, 'coincidence': 1, 'judge': 1, 'look': 1, 'announcements': 1, 'technology': 1, 'some': 1, 'favorite': 1, 'games': 1, 'near': 1, 'trailer': 1, 'successful': 1, 'launch': 1, 'money': 1, 'cnn': 1, 'commentary': 1, 'game_over': 1, 'column_gaming': 1, 'index': 1, 'ht': 1, 'm': 1, 'let': 1, 'face': 1, 'don': 1, 't': 1, 'just': 1, 'displayer': 1, 'sleek': 1, 'stylish': 1, 'full': 1, 'screen': 1, 'give': 1, 'home': 1, 'theatre': 1, 'pc': 1, 'budman': 1, 'coldfusion': 1, 'futuristic': 1, 'dripping': 1, 'coolness': 1, 'gryphix': 1, 'dvdesque': 1, 'title': 1, 'suggests': 1, 'groovy': 1, 'dvd': 1, 'complement': 1, 'nellynel': 1, 'check': 1, 'out': 1, 'section': 1, 'make': 1, 'own': 1, 'how': 1, 'page': 1, 'thanks': 1, 'supporting': 1, 'feel': 1, 'free': 1, 'any': 1, 'comments': 1, 'suggestions': 1, 'info': 1, 'until': 1, 'next': 1, 'time': 1, 'team': 1, 'p': 1, 'think': 1, 'enjoy': 1, 'receiving': 1, 'them': 1, 'copyright': 1, 'c': 1, 'rights': 1, 'reserved': 1, 'trademark': 1, 'opt': 1, 'subscribers': 1, 'interested': 1, 'write': 1, 'automated': 1, 'account': 1, 'below': 1, 'want': 1, 'wish': 1, 'newsletters': 1, 'visiting': 1, 'entering': 1, 'alternately': 1, 'lists': 1, 'removed': 1, 'requested': 1, 'forwarded': 1, 'keep': 1, 'private': 1, 'safe': 1, 'safely': 1, 'easily': 1, 'using': 1, 'or': 1, 'stop': 1, 'forwarding': 1, 'control': 1, 'html': 1, 'b_faNUMBEReeqNUMBERzNUMBERxlNUMBERzjrNUMBERcpNUMBERvNUMBERadNUMBERadmz': 1, 'freshaddress': 1, 'adNUMBER': 1, 'earn': 1, 'each': 1, 'signs': 1, 'spNUMBER': 1}),\n",
       "       Counter({'hyperlink': 62, 'NUMBER': 54, 'the': 21, 'to': 19, 'and': 17, 'you': 17, 'a': 15, 'it': 14, 'of': 13, 'usb': 11, 'in': 10, 'for': 10, 'on': 9, 'that': 9, 'is': 9, 'cnet': 8, 'your': 8, 'be': 8, 'computer': 7, 'windows': 7, 'with': 7, 's': 7, 'if': 7, 'this': 7, 'all': 6, 'from': 6, 'or': 6, 'have': 6, 'up': 6, 'downloads': 5, 'xp': 5, 'out': 5, 'one': 5, 'more': 5, 'are': 5, 'discussions': 5, 't': 5, 'i': 5, 'discussion': 5, 'what': 5, 'may': 5, 'font': 4, 'as': 4, 'canon': 4, 'powershot': 4, 'use': 4, 'system': 4, 'me': 3, 'security': 3, 'opinions': 3, 'votes': 3, 'our': 3, 'live': 3, 'type': 3, 'who': 3, 'can': 3, 'well': 3, 'boards': 3, 'tech': 3, 'there': 3, 'no': 3, 'better': 3, 'so': 3, 'why': 3, 'some': 3, 'but': 3, 'look': 3, 'will': 3, 'faster': 3, 'than': 3, 'best': 3, 'enough': 3, 'kids': 3, 'my': 3, 'web': 2, 'help': 2, 'pc': 2, 'hardware': 2, 'newbies': 2, 'virus': 2, 'check': 2, 'user': 2, 'products': 2, 'submit': 2, 'family': 2, 'normal': 2, 'here': 2, 'scandals': 2, 'such': 2, 'trust': 2, 'message': 2, 'real': 2, 'gets': 2, 'when': 2, 'honest': 2, 'advice': 2, 'reviews': 2, 'just': 2, 'like': 2, 'interest': 2, 'love': 2, 'about': 2, 'question': 2, 'won': 2, 'com': 2, 'summer': 2, 'most': 2, 'popular': 2, 'cameras': 2, 'sNUMBER': 2, 'see': 2, 'hear': 2, 'veteran': 2, 'refuses': 2, 'take': 2, 'pick': 2, 'vs': 2, 'not': 2, 'newer': 2, 'doesn': 2, 'had': 2, 'backup': 2, 'someone': 2, 're': 2, 'same': 2, 'online': 2, 'pass': 2, 'find': 2, 'news': 2, 'zdnet': 2, 'messages': 1, 'wireless': 1, 'speakeasy': 1, 'these': 1, 'hot': 1, 'then': 1, 'own': 1, 'rambooster': 1, 'optimizers': 1, 'diagnostics': 1, 'zonealarm': 1, 'encryption': 1, 'virusmd': 1, 'webfilter': 1, 'browsing': 1, 'companions': 1, 'problems': 1, 'try': 1, 'support': 1, 'technician': 1, 'black': 1, 'color': 1, 'verdana': 1, 'arial': 1, 'helvetica': 1, 'sans': 1, 'serif': 1, 'style': 1, 'size': 1, 'NUMBERpx': 1, 'weight': 1, 'click': 1, 'go': 1, 'july': 1, 'dear': 1, 'readers': 1, 'corporate': 1, 'worldcom': 1, 'enron': 1, 'surrounding': 1, 'us': 1, 'nowadays': 1, 'starters': 1, 'comes': 1, 'down': 1, 'giving': 1, 'receiving': 1, 'place': 1, 'tests': 1, 'by': 1, 'professionals': 1, 'true': 1, 'life': 1, 'experiences': 1, 'people': 1, 'share': 1, 'common': 1, 'today': 1, 'challenging': 1, 'technology': 1, 'sneaky': 1, 'execs': 1, 'worry': 1, 'specific': 1, 'problem': 1, 'mind': 1, 'post': 1, 'disappointed': 1, 'lee': 1, 'koo': 1, 'community': 1, 'got': 1, 'suggestions': 1, 'email': 1, 'messageboards': 1, 'digicams': 1, 'shutterbugsgoing': 1, 'vacation': 1, 'headed': 1, 'beach': 1, 'indulge': 1, 'snapshot': 1, 'habit': 1, 'picks': 1, 'megapixel': 1, 'shoot': 1, 'leica': 1, 'digilux': 1, 'street': 1, 'shooter': 1, 'digicam': 1, 'digital': 1, 'gNUMBER': 1, 'aNUMBER': 1, 'nikon': 1, 'coolpix': 1, 'don': 1, 'firewalls': 1, 'do': 1, 'need': 1, 'despite': 1, 'horror': 1, 'stories': 1, 'hackers': 1, 'trojans': 1, 'intruding': 1, 'personal': 1, 'moderators': 1, 'firewall': 1, 'bit': 1, 'heated': 1, 'her': 1, 'point': 1, 'was': 1, 'taken': 1, 'she': 1, 'cent': 1, 'two': 1, 'throw': 1, 'donation': 1, 'jar': 1, 'wide': 1, 'open': 1, 'alerts': 1, 'scoop': 1, 'chances': 1, 'next': 1, 'time': 1, 'an': 1, 'external': 1, 'peripheral': 1, 'utilizing': 1, 'connect': 1, 'much': 1, 'current': 1, 'port': 1, 'compatible': 1, 'peripherals': 1, 'new': 1, 'version': 1, 'similar': 1, 'questions': 1, 'gathered': 1, 'topic': 1, 'hopes': 1, 'bring': 1, 'understanding': 1, 'store': 1, 'o': 1, 'how': 1, 'upgrade': 1, 'reverse': 1, 'compatibility': 1, 'any': 1, 'NUMBERse': 1, 'many': 1, 'users': 1, 'jumped': 1, 'ship': 1, 'moved': 1, 'supposedly': 1, 'things': 1, 'perform': 1, 'par': 1, 'actually': 1, 'slower': 1, 'previous': 1, 'os': 1, 'always': 1, 'indigent': 1, 'backing': 1, 'hard': 1, 'drive': 1, 'sounds': 1, 'task': 1, 'beginner': 1, 'asking': 1, 'sound': 1, 'sure': 1, 'he': 1, 'received': 1, 'bunch': 1, 'options': 1, 'choose': 1, 'boat': 1, 'looking': 1, 'ways': 1, 'back': 1, 'important': 1, 'data': 1, 'yours': 1, 'warning': 1, 'teens': 1, 'parent': 1, 'something': 1, 'want': 1, 'read': 1, 'found': 1, 'interesting': 1, 'along': 1, 'because': 1, 'know': 1, 'someday': 1, 'll': 1, 'faced': 1, 'worries': 1, 'surfing': 1, 'informative': 1, 'defragmenting': 1, 'ram': 1, 'worn': 1, 'winmodem': 1, 'full': 1, 'modem': 1, 'wake': 1, 'jen': 1, 'smith': 1, 'purchasing': 1, 'cd': 1, 'rw': 1, 'kind': 1, 'graham': 1, 'hurst': 1, 'now': 1, 'top': 1, 'cios': 1, 'future': 1, 'job': 1, 'over': 1, 'million': 1, 'postings': 1, 'director': 1, 'has': 1, 'microsoft': 1, 'editors': 1, 'choice': 1, 'award': 1, 'pioneer': 1, 'home': 1, 'theater': 1, 'hts': 1, 'NUMBERdv': 1, 'e': 1, 'mail': 1, 'address': 1, 'subscription': 1, 'qqqqqqqqqq': 1, 'spamassassin': 1, 'taint': 1, 'org': 1, 'unsubscribe': 1, 'manage': 1, 'subscriptions': 1, 'faq': 1, 'advertise': 1, 'price': 1, 'comparisons': 1, 'product': 1, 'services': 1, 'copyright': 1, 'networks': 1, 'inc': 1, 'rights': 1, 'reserved': 1})],\n",
       "      dtype=object)"
      ]
     },
     "execution_count": 25,
     "metadata": {},
     "output_type": "execute_result"
    }
   ],
   "source": [
    "X_few = X_train[:3]\n",
    "X_few_wordcounts = EmailToWordCounterTransformer().fit_transform(X_few)\n",
    "X_few_wordcounts"
   ]
  },
  {
   "cell_type": "markdown",
   "metadata": {},
   "source": [
    "This looks about right!"
   ]
  },
  {
   "cell_type": "markdown",
   "metadata": {},
   "source": [
    "Now we have the word counts, and we need to convert them to vectors. For this, we will build another transformer whose `fit()` method will build the vocabulary (an ordered list of the most common words) and whose `transform()` method will use the vocabulary to convert word counts to vectors. The output is a sparse matrix."
   ]
  },
  {
   "cell_type": "code",
   "execution_count": 26,
   "metadata": {},
   "outputs": [],
   "source": [
    "from scipy.sparse import csr_matrix\n",
    "\n",
    "class WordCounterToVectorTransformer(BaseEstimator, TransformerMixin):\n",
    "    def __init__(self, vocabulary_size=1000):\n",
    "        self.vocabulary_size = vocabulary_size\n",
    "    def fit(self, X, y=None):\n",
    "        total_count = Counter()\n",
    "        for word_count in X:\n",
    "            for word, count in word_count.items():\n",
    "                total_count[word] += min(count, 10)\n",
    "        most_common = total_count.most_common()[:self.vocabulary_size]\n",
    "        self.most_common_ = most_common\n",
    "        self.vocabulary_ = {word: index + 1 for index, (word, count) in enumerate(most_common)}\n",
    "        return self\n",
    "    def transform(self, X, y=None):\n",
    "        rows = []\n",
    "        cols = []\n",
    "        data = []\n",
    "        for row, word_count in enumerate(X):\n",
    "            for word, count in word_count.items():\n",
    "                rows.append(row)\n",
    "                cols.append(self.vocabulary_.get(word, 0))\n",
    "                data.append(count)\n",
    "        return csr_matrix((data, (rows, cols)), shape=(len(X), self.vocabulary_size + 1))"
   ]
  },
  {
   "cell_type": "code",
   "execution_count": 27,
   "metadata": {},
   "outputs": [
    {
     "data": {
      "text/plain": [
       "<3x11 sparse matrix of type '<class 'numpy.float64'>'\n",
       "\twith 33 stored elements in Compressed Sparse Row format>"
      ]
     },
     "execution_count": 27,
     "metadata": {},
     "output_type": "execute_result"
    }
   ],
   "source": [
    "vocab_transformer = WordCounterToVectorTransformer(vocabulary_size=10)\n",
    "X_few_vectors = vocab_transformer.fit_transform(X_few_wordcounts)\n",
    "X_few_vectors"
   ]
  },
  {
   "cell_type": "code",
   "execution_count": 28,
   "metadata": {},
   "outputs": [
    {
     "data": {
      "text/plain": [
       "array([[556.,  30.,  28.,  12.,  11.,  20.,  11.,  28.,   8.,  14.,  17.],\n",
       "       [704.,  30.,  24.,  19.,  14.,  14.,  21.,  48.,  24.,   9.,  16.],\n",
       "       [746.,  13.,  19.,  10.,  15.,  17.,  17.,  21.,  54.,   8.,   7.]])"
      ]
     },
     "execution_count": 28,
     "metadata": {},
     "output_type": "execute_result"
    }
   ],
   "source": [
    "X_few_vectors.toarray()"
   ]
  },
  {
   "cell_type": "markdown",
   "metadata": {},
   "source": [
    "What does this matrix mean? Well, the 64 in the third row, first column, means that the third email contains 64 words that are not part of the vocabulary. The 1 next to it means that the first word in the vocabulary is present once in this email. The 2 next to it means that the second word is present twice, and so on. You can look at the vocabulary to know which words we are talking about. The first word is \"of\", the second word is \"and\", etc."
   ]
  },
  {
   "cell_type": "code",
   "execution_count": 29,
   "metadata": {},
   "outputs": [
    {
     "data": {
      "text/plain": [
       "{'of': 1,\n",
       " 'to': 2,\n",
       " 'in': 3,\n",
       " 'a': 4,\n",
       " 'and': 5,\n",
       " 'you': 6,\n",
       " 'the': 7,\n",
       " 'NUMBER': 8,\n",
       " 'your': 9,\n",
       " 'this': 10}"
      ]
     },
     "execution_count": 29,
     "metadata": {},
     "output_type": "execute_result"
    }
   ],
   "source": [
    "vocab_transformer.vocabulary_"
   ]
  },
  {
   "cell_type": "markdown",
   "metadata": {},
   "source": [
    "We are now ready to train our first spam classifier! Let's transform the whole dataset:"
   ]
  },
  {
   "cell_type": "code",
   "execution_count": 30,
   "metadata": {},
   "outputs": [],
   "source": [
    "from sklearn.pipeline import Pipeline\n",
    "\n",
    "preprocess_pipeline = Pipeline([\n",
    "    (\"email_to_wordcount\", EmailToWordCounterTransformer()),\n",
    "    (\"wordcount_to_vector\", WordCounterToVectorTransformer()),\n",
    "])\n",
    "\n",
    "X_train_transformed = preprocess_pipeline.fit_transform(X_train)"
   ]
  },
  {
   "cell_type": "code",
   "execution_count": 31,
   "metadata": {},
   "outputs": [
    {
     "name": "stdout",
     "output_type": "stream",
     "text": [
      "[CV] END ................................ score: (test=0.905) total time=   0.0s\n",
      "[CV] END ................................ score: (test=0.945) total time=   0.0s\n",
      "[CV] END ................................ score: (test=0.925) total time=   0.0s\n"
     ]
    },
    {
     "name": "stderr",
     "output_type": "stream",
     "text": [
      "[Parallel(n_jobs=1)]: Using backend SequentialBackend with 1 concurrent workers.\n",
      "[Parallel(n_jobs=1)]: Done   1 out of   1 | elapsed:    0.0s remaining:    0.0s\n",
      "[Parallel(n_jobs=1)]: Done   2 out of   2 | elapsed:    0.0s remaining:    0.0s\n",
      "[Parallel(n_jobs=1)]: Done   3 out of   3 | elapsed:    0.0s finished\n"
     ]
    },
    {
     "data": {
      "text/plain": [
       "0.9250000000000002"
      ]
     },
     "execution_count": 31,
     "metadata": {},
     "output_type": "execute_result"
    }
   ],
   "source": [
    "from sklearn.linear_model import LogisticRegression\n",
    "from sklearn.model_selection import cross_val_score\n",
    "\n",
    "log_clf = LogisticRegression(solver=\"liblinear\", random_state=42)\n",
    "score = cross_val_score(log_clf, X_train_transformed, y_train, cv=3, verbose=3)\n",
    "score.mean()"
   ]
  },
  {
   "cell_type": "markdown",
   "metadata": {},
   "source": [
    "Over 98.7%, not bad for a first try! :) However, remember that we are using the \"easy\" dataset. You can try with the harder datasets, the results won't be so amazing. You would have to try multiple models, select the best ones and fine-tune them using cross-validation, and so on.\n",
    "\n",
    "But you get the picture, so let's stop now, and just print out the precision/recall we get on the test set:"
   ]
  },
  {
   "cell_type": "code",
   "execution_count": 32,
   "metadata": {},
   "outputs": [
    {
     "name": "stdout",
     "output_type": "stream",
     "text": [
      "Precision: 93.14%\n",
      "Recall: 96.94%\n"
     ]
    }
   ],
   "source": [
    "from sklearn.metrics import precision_score, recall_score\n",
    "\n",
    "X_test_transformed = preprocess_pipeline.transform(X_test)\n",
    "\n",
    "log_clf = LogisticRegression(solver=\"liblinear\", random_state=42)\n",
    "log_clf.fit(X_train_transformed, y_train)\n",
    "\n",
    "y_pred = log_clf.predict(X_test_transformed)\n",
    "\n",
    "print(\"Precision: {:.2f}%\".format(100 * precision_score(y_test, y_pred)))\n",
    "print(\"Recall: {:.2f}%\".format(100 * recall_score(y_test, y_pred)))"
   ]
  },
  {
   "cell_type": "code",
   "execution_count": 33,
   "metadata": {},
   "outputs": [
    {
     "data": {
      "text/plain": [
       "GridSearchCV(cv=10, estimator=SVC(),\n",
       "             param_grid={'C': [0.1, 1, 10, 100, 1000],\n",
       "                         'gamma': [1, 0.1, 0.01, 0.001, 0.0001],\n",
       "                         'kernel': ['rbf']})"
      ]
     },
     "execution_count": 33,
     "metadata": {},
     "output_type": "execute_result"
    }
   ],
   "source": [
    "from sklearn.svm import SVC\n",
    "from sklearn.model_selection import GridSearchCV\n",
    "param_grid = {'C': [0.1, 1, 10, 100, 1000], \n",
    "              'gamma': [1, 0.1, 0.01, 0.001, 0.0001],\n",
    "              'kernel': ['rbf']} \n",
    "  \n",
    "grid2 = GridSearchCV(SVC(), param_grid, cv=10)\n",
    "grid2.fit(X_train_transformed, y_train)"
   ]
  },
  {
   "cell_type": "code",
   "execution_count": 34,
   "metadata": {
    "scrolled": true
   },
   "outputs": [
    {
     "name": "stdout",
     "output_type": "stream",
     "text": [
      "{'C': 1000, 'gamma': 0.0001, 'kernel': 'rbf'}\n"
     ]
    }
   ],
   "source": [
    "print(grid2.best_params_)"
   ]
  },
  {
   "cell_type": "code",
   "execution_count": 35,
   "metadata": {},
   "outputs": [
    {
     "name": "stdout",
     "output_type": "stream",
     "text": [
      "Precision: 95.05%\n",
      "Recall: 97.96%\n"
     ]
    }
   ],
   "source": [
    "X_test_transformed = preprocess_pipeline.transform(X_test)\n",
    "\n",
    "SVC_clf = SVC(C= 1000, gamma = 0.0001, kernel = 'rbf')\n",
    "SVC_clf.fit(X_train_transformed, y_train)\n",
    "\n",
    "y_pred = SVC_clf.predict(X_test_transformed)\n",
    "\n",
    "print(\"Precision: {:.2f}%\".format(100 * precision_score(y_test, y_pred)))\n",
    "print(\"Recall: {:.2f}%\".format(100 * recall_score(y_test, y_pred)))"
   ]
  },
  {
   "cell_type": "code",
   "execution_count": 36,
   "metadata": {},
   "outputs": [
    {
     "data": {
      "text/plain": [
       "GridSearchCV(cv=10, estimator=DecisionTreeClassifier(random_state=0),\n",
       "             param_grid={'max_depth': [3, 5, 7, 9, 11, 15]})"
      ]
     },
     "execution_count": 36,
     "metadata": {},
     "output_type": "execute_result"
    }
   ],
   "source": [
    "from sklearn.tree import DecisionTreeClassifier\n",
    "dt = DecisionTreeClassifier(random_state = 0)\n",
    "grid_param = {'max_depth': [3, 5, 7, 9, 11, 15]}\n",
    "dt_grid = GridSearchCV(dt, grid_param, cv = 10)\n",
    "dt_grid.fit(X_train_transformed, y_train)"
   ]
  },
  {
   "cell_type": "code",
   "execution_count": 37,
   "metadata": {},
   "outputs": [
    {
     "name": "stdout",
     "output_type": "stream",
     "text": [
      "Best Parameters for Decision Tree Classifier:  {'max_depth': 5}\n"
     ]
    }
   ],
   "source": [
    "print(\"Best Parameters for Decision Tree Classifier: \", dt_grid.best_params_)"
   ]
  },
  {
   "cell_type": "code",
   "execution_count": 38,
   "metadata": {},
   "outputs": [
    {
     "name": "stdout",
     "output_type": "stream",
     "text": [
      "Precision: 89.52%\n",
      "Recall: 95.92%\n"
     ]
    }
   ],
   "source": [
    "X_test_transformed = preprocess_pipeline.transform(X_test)\n",
    "\n",
    "dt_clf = DecisionTreeClassifier(max_depth = 5)\n",
    "dt_clf.fit(X_train_transformed, y_train)\n",
    "\n",
    "y_pred = dt_clf.predict(X_test_transformed)\n",
    "\n",
    "print(\"Precision: {:.2f}%\".format(100 * precision_score(y_test, y_pred)))\n",
    "print(\"Recall: {:.2f}%\".format(100 * recall_score(y_test, y_pred)))"
   ]
  },
  {
   "cell_type": "code",
   "execution_count": 39,
   "metadata": {},
   "outputs": [
    {
     "data": {
      "image/png": "[encoded data removed]",
      "text/plain": [
       "<Figure size 432x288 with 1 Axes>"
      ]
     },
     "metadata": {
      "needs_background": "light"
     },
     "output_type": "display_data"
    }
   ],
   "source": [
    "import matplotlib.pyplot as plt\n",
    "from sklearn import metrics\n",
    "classifiers = [log_clf, SVC_clf,dt_clf]\n",
    "ax = plt.gca()\n",
    "for i in classifiers:\n",
    "    metrics.plot_precision_recall_curve(i, X_train_transformed, y_train, ax=ax)"
   ]
  },
  {
   "cell_type": "code",
   "execution_count": 40,
   "metadata": {},
   "outputs": [
    {
     "data": {
      "image/png": "[encoded data removed]",
      "text/plain": [
       "<Figure size 432x288 with 1 Axes>"
      ]
     },
     "metadata": {
      "needs_background": "light"
     },
     "output_type": "display_data"
    }
   ],
   "source": [
    "ax = plt.gca()\n",
    "for i in classifiers:\n",
    "    metrics.plot_roc_curve(i, X_test_transformed, y_test, ax=ax)"
   ]
  },
  {
   "cell_type": "code",
   "execution_count": null,
   "metadata": {},
   "outputs": [],
   "source": []
  }
 ],
 "metadata": {
  "kernelspec": {
   "display_name": "Python 3",
   "language": "python",
   "name": "python3"
  },
  "language_info": {
   "codemirror_mode": {
    "name": "ipython",
    "version": 3
   },
   "file_extension": ".py",
   "mimetype": "text/x-python",
   "name": "python",
   "nbconvert_exporter": "python",
   "pygments_lexer": "ipython3",
   "version": "3.8.3"
  },
  "nav_menu": {},
  "toc": {
   "navigate_menu": true,
   "number_sections": true,
   "sideBar": true,
   "threshold": 6,
   "toc_cell": false,
   "toc_section_display": "block",
   "toc_window_display": false
  }
 },
 "nbformat": 4,
 "nbformat_minor": 1
}
