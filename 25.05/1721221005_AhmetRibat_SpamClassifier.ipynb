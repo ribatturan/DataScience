{
 "cells": [
  {
   "cell_type": "markdown",
   "metadata": {},
   "source": [
    "## Spam classifier"
   ]
  },
  {
   "cell_type": "markdown",
   "metadata": {},
   "source": [
    "First, let's fetch the data:"
   ]
  },
  {
   "cell_type": "code",
   "execution_count": 1,
   "metadata": {},
   "outputs": [],
   "source": [
    "import os\n",
    "import tarfile\n",
    "import urllib.request\n",
    "\n",
    "DOWNLOAD_ROOT = \"http://spamassassin.apache.org/old/publiccorpus/\"\n",
    "HAM_URL = DOWNLOAD_ROOT + \"20030228_hard_ham.tar.bz2\"\n",
    "SPAM_URL = DOWNLOAD_ROOT + \"20030228_spam.tar.bz2\"\n",
    "SPAM_PATH = os.path.join(\"datasets\", \"spam\")\n",
    "\n",
    "def fetch_spam_data(spam_url=SPAM_URL, spam_path=SPAM_PATH):\n",
    "    if not os.path.isdir(spam_path):\n",
    "        os.makedirs(spam_path)\n",
    "    for filename, url in ((\"ham.tar.bz2\", HAM_URL), (\"spam.tar.bz2\", SPAM_URL)):\n",
    "        path = os.path.join(spam_path, filename)\n",
    "        if not os.path.isfile(path):\n",
    "            urllib.request.urlretrieve(url, path)\n",
    "        tar_bz2_file = tarfile.open(path)\n",
    "        tar_bz2_file.extractall(path=SPAM_PATH)\n",
    "        tar_bz2_file.close()"
   ]
  },
  {
   "cell_type": "code",
   "execution_count": 2,
   "metadata": {},
   "outputs": [],
   "source": [
    "fetch_spam_data()"
   ]
  },
  {
   "cell_type": "markdown",
   "metadata": {},
   "source": [
    "Next, let's load all the emails:"
   ]
  },
  {
   "cell_type": "code",
   "execution_count": 3,
   "metadata": {},
   "outputs": [],
   "source": [
    "HAM_DIR = os.path.join(SPAM_PATH, \"hard_ham\")\n",
    "SPAM_DIR = os.path.join(SPAM_PATH, \"spam\")\n",
    "ham_filenames = [name for name in sorted(os.listdir(HAM_DIR)) if len(name) > 20]\n",
    "spam_filenames = [name for name in sorted(os.listdir(SPAM_DIR)) if len(name) > 20]"
   ]
  },
  {
   "cell_type": "code",
   "execution_count": 4,
   "metadata": {},
   "outputs": [
    {
     "data": {
      "text/plain": [
       "250"
      ]
     },
     "execution_count": 4,
     "metadata": {},
     "output_type": "execute_result"
    }
   ],
   "source": [
    "len(ham_filenames)"
   ]
  },
  {
   "cell_type": "code",
   "execution_count": 5,
   "metadata": {},
   "outputs": [
    {
     "data": {
      "text/plain": [
       "500"
      ]
     },
     "execution_count": 5,
     "metadata": {},
     "output_type": "execute_result"
    }
   ],
   "source": [
    "len(spam_filenames)"
   ]
  },
  {
   "cell_type": "markdown",
   "metadata": {},
   "source": [
    "We can use Python's `email` module to parse these emails (this handles headers, encoding, and so on):"
   ]
  },
  {
   "cell_type": "code",
   "execution_count": 6,
   "metadata": {},
   "outputs": [],
   "source": [
    "import email\n",
    "import email.policy\n",
    "\n",
    "def load_email(is_spam, filename, spam_path=SPAM_PATH):\n",
    "    directory = \"spam\" if is_spam else \"hard_ham\"\n",
    "    with open(os.path.join(spam_path, directory, filename), \"rb\") as f:\n",
    "        return email.parser.BytesParser(policy=email.policy.default).parse(f)"
   ]
  },
  {
   "cell_type": "code",
   "execution_count": 7,
   "metadata": {},
   "outputs": [],
   "source": [
    "ham_emails = [load_email(is_spam=False, filename=name) for name in ham_filenames]\n",
    "spam_emails = [load_email(is_spam=True, filename=name) for name in spam_filenames]"
   ]
  },
  {
   "cell_type": "markdown",
   "metadata": {},
   "source": [
    "Let's look at one example of ham and one example of spam, to get a feel of what the data looks like:"
   ]
  },
  {
   "cell_type": "code",
   "execution_count": 8,
   "metadata": {
    "scrolled": true
   },
   "outputs": [
    {
     "name": "stdout",
     "output_type": "stream",
     "text": [
      "May 7, 2002\n",
      "\n",
      "\n",
      "Dear rod-3ds@arsecandle.org:\n",
      "\n",
      "\n",
      "Congratulations!  On behalf of Frito-Lay, Inc., we are pleased to advise you\n",
      " that you've won Fourth Prize in the 3D's(R) Malcolm in the Middle(TM)\n",
      " Sweepstakes.   Fourth Prize consists of 1 manufacturer's coupon redeemable at\n",
      " participating retailers for 1 free bag of 3D's(R) brand snacks (up to 7 oz.\n",
      " size), with an approximate retail value of $2.59 and an expiration date of\n",
      " 12/31/02.\n",
      "\n",
      "Follow these instructions to claim your prize:\n",
      "\n",
      "1.\tPrint out this email message.\n",
      "\n",
      "2.\tComplete ALL of the information requested.  Print clearly and legibly.  Sign\n",
      " where indicated.\n",
      "\n",
      "3.\tIf you are under 18 or otherwise under the legal age of majority in your\n",
      " state, your parent or legal guardian must co-sign where indicated below.\n",
      "\n",
      "4.\tMail the completed and signed form to:  3D's(R) Malcolm in the Middle(TM)\n",
      " Sweepstakes, Redemption Center, PO Box 1520, Elmhurst IL 60126.  WE MUST\n",
      " RECEIVE THIS FORM NO LATER THAN MAY 28, 2002 IN ORDER TO SEND YOU THE PRIZE.\n",
      "\n",
      "PLEASE DO NOT ATTEMPT TO REPLY TO THIS EMAIL.  THE ONLY WAY TO CLAIM THE PRIZE\n",
      " IS TO FOLLOW THE INSTRUCTIONS ABOVE.  YOUR PRIZE WILL BE MAILED TO YOU WITHIN 6\n",
      " TO 8 WEEKS OF RECEIPT OF THIS FORM.\n",
      "\n",
      "Once again, on behalf of Frito-Lay, Inc., congratulations and thank you for\n",
      " participating in the Game.\n",
      "\n",
      "\t\t\t\t\t\n",
      "Sincerely,\n",
      "\n",
      "\n",
      "Game Security Services\n",
      "\n",
      "\n",
      "\n",
      "\n",
      "\n",
      "\n",
      "\n",
      "\n",
      "\n",
      "\n",
      "PRIZE ACCEPTANCE/RELEASE AND INDEMNIFICATION FORM\n",
      "3D's(R) Malcolm in the Middle(TM) Sweepstakes\n",
      "\n",
      "\n",
      "1.\tMy social security number is:  _______________________________\n",
      "\n",
      "2.\tMy date of birth is:   _______________________________________\n",
      "\n",
      "3.\tMy telephone number is:   __________________________________\n",
      "\n",
      "4.\tMy home address is:   _____________________________________\n",
      "\n",
      "\t\t\t      _____________________________________\n",
      "\n",
      "5.\tMy email address is:   _____________________________________\n",
      "\n",
      "6.\tI am a legal resident of the State of:   _________________________\n",
      "\n",
      "7.\tI am above the legal age of majority in my state of residence or my parent or\n",
      " legal guardian has co-signed below.\n",
      "\n",
      "8.\tI represent that I (1) have fully complied with all of the Official Rules of\n",
      " the Sweepstakes, and (2) have not committed any fraud or deception in\n",
      " participating in the Sweepstakes or in accepting the Prize.\n",
      "\n",
      "9.\tBy accepting the prize, I (and my parent/legal guardian if I am a minor)\n",
      " agree to release Frito-Lay, Inc. (\"Sponsor\"), FOX Broadcasting Company, 20th\n",
      " Century FOX Television, Regency Entertainment, their respective parent,\n",
      " subsidiary or affiliated companies, distributors, printing suppliers for this\n",
      " promotion, advertising, fulfillment, judging or promotion agencies,\n",
      " participating retailers, and all of their respective officers, directors,\n",
      " employees, representatives and agents from any liability for, and to hold them\n",
      " harmless against, any liability for injuries, losses or damages of any kind to\n",
      " persons or property resulting in whole or in part, directly or indirectly, from\n",
      " participation in the sweepstakes or acceptance, possession, misuse or use of\n",
      " any prize. \n",
      "\n",
      "\n",
      "\n",
      "Name [print full name]:\t_______________________________\n",
      "\n",
      "Signature:\t\t_______________________________\n",
      "\n",
      "Date:\t\t\t_______________________________\n",
      "\n",
      "\n",
      "\n",
      "IF WINNER IS A MINOR IN HIS OR HER STATE OF RESIDENCE, WINNER'S PARENT OR LEGAL\n",
      " GUARDIAN MUST COMPLETE THE INFORMATION BELOW: \n",
      "\n",
      "I am the parent or legal guardian of the winner who has signed the foregoing\n",
      " Release. I AGREE TO THE TERMS OF THE RELEASE AND CONSENT TO THE ACCEPTANCE OF\n",
      " THE PRIZE ON THE WINNER'S BEHALF.\n",
      "\n",
      "\n",
      "\n",
      "Parent/Guardian's Name [print full name]:\t_______________________________\n",
      "\n",
      "Parent/Guardian's Signature:\t\t\t_______________________________\n",
      "\n",
      "Date:\t\t\t\t\t\t_______________________________\n",
      "\n",
      "\n",
      "\n",
      "\n",
      "\n",
      "\n",
      "\n",
      "2002 OFFICIAL RULES\n",
      "3D's(R) Malcolm in the Middle(TM) Sweepstakes\n",
      "\n",
      "OPEN ONLY TO LEGAL U.S. RESIDENTS LOCATED IN THE U.S. AT THE TIME OF ENTRY. VOID\n",
      " ELSEWHERE AND WHEREVER PROHIBITED BY LAW, INCLUDING BUT NOT LIMITED TO,\n",
      " FLORIDA, PUERTO RICO, U.S. VIRGIN ISLANDS AND U.S. MILITARY INSTALLATIONS\n",
      " LOCATED IN A FOREIGN COUNTRY.\n",
      "\n",
      "NO PURCHASE NECESSARY. PURCHASE DOES NOT IMPROVE CHANCE OF WINNING. MANY WILL\n",
      " ENTER. FEW WILL WIN. ODDS DEPEND ON NUMBER OF ENTRIES RECEIVED.\n",
      "\n",
      "1. ELIGIBILITY: Open only to legal U.S. residents located in the U.S. at the\n",
      " time of entry, excluding residents of Florida, Puerto Rico, the U.S. Virgin\n",
      " Islands and U.S. military installations located in a foreign country, who had\n",
      " online access on or before 1/26/02. Employees, contractors, directors and\n",
      " officers of Frito-Lay, Inc. (\"Sponsor\"), FOX Broadcasting Company, 20th Century\n",
      " FOX Television, Regency Entertainment, their respective parent, subsidiary and\n",
      " affiliated companies, distributors, printing suppliers for this promotion,\n",
      " advertising, fulfillment, judging and promotion agencies (collectively,\n",
      " \"Promotion Parties\"), and their immediate family members and those living in\n",
      " their same households are not eligible.\n",
      "\n",
      "2. TO ENTER: Beginning 12:00:01 a.m. E.T. 1/27/02, log on to www.3DsFun.com and\n",
      " click on the link on the home page to locate the official entry form. Follow\n",
      " on-screen directions to properly complete an entry form and send it\n",
      " electronically by 11:59:59 p.m. E.T. 2/11/02. In order for entry to be valid,\n",
      " entrants must click on the \"I accept\" button on the web site. All entries must\n",
      " be received no later than 11:59:59 p.m. E.T. on 2/13/02. LIMIT ONE ENTRY PER\n",
      " PERSON AND/OR E-MAIL ADDRESS. SUBSEQUENT ENTRIES WILL BE DISQUALIFIED.\n",
      " Promotion Parties assume no responsibility for lost, late, misdirected, stolen,\n",
      " undelivered, garbled, damaged, or incomplete entries, or for any computer,\n",
      " online, telephone or technical malfunctions that may occur. Promotion Parties\n",
      " also assume no responsibility for any technical problems in connection with\n",
      " transmission or receipt of online entries including faulty electronic data\n",
      " transmission, traffic congestion on the Internet or on the web site, hardware\n",
      " or software error, equipment failure or malfunction, or other online\n",
      " communications problems. In the event of a dispute regarding the identity of\n",
      " the person submitting an online entry, entries will be declared made by the\n",
      " authorized account holder of the e-mail address submitted at the time of entry.\n",
      " \"Authorized account holder\" is defined as the natural person who is assigned to\n",
      " an e-mail address by an Internet Access provider, online service provider, or\n",
      " other organization (e.g., business, educational institution, etc.) responsible\n",
      " for assigning e-mail addresses for the domain associated with the submitted\n",
      " e-mail address. All entries become the property of Sponsor and will not be\n",
      " returned to entrant. Automated entries (including but not limited to entries\n",
      " made using any script, macro, bot, or sweepstakes service) and facsimiles are\n",
      " not allowed. Potential winner may be requested to provide Sponsor with proof\n",
      " that the potential winner is the authorized account holder of the e-mail\n",
      " address associated with the winning entry.\n",
      "\n",
      "3. WINNER SELECTION: Winners will be selected in a random drawing to take place\n",
      " on or about 2/28/02 by an independent judging organization, the judge, whose\n",
      " decisions are final and binding on all matters related to the sweepstakes. Odds\n",
      " of winning depend on the number of eligible entries received. Winners will be\n",
      " notified by e-mail. If any prize or correspondence (including e-mail) regarding\n",
      " any prize is returned as non-deliverable, prize may be forfeited and an\n",
      " alternate winner selected.  Winners (or winner's parent or legal guardian, if\n",
      " winner is a minor) and Grand Prize winner's travel companions (or companion's\n",
      " parent or legal guardian for any companion who is a minor) will be required to\n",
      " complete, sign and return either a Prize Acceptance/Release and Indemnification\n",
      " form or an Affidavit of Eligibility/Liability Release (as directed by Sponsor),\n",
      " and, where lawful, a Publicity Release within twenty-one (21) days of winners'\n",
      " receipt of documents via e-mail or prize may be forfeited. Grand prize winner\n",
      " (or winner's parent or legal guardian, if winner is a minor) and winner's\n",
      " travel companions will also be required to complete, sign and return a set\n",
      " visit release together with completed I-9 and W-4 forms in order to visit the\n",
      " set of Malcolm in the Middle(TM) as described below in paragraph 4. Prizes won\n",
      " by minors will be awarded to a parent or legal guardian who must sign all\n",
      " required documents.\n",
      "\n",
      "4. PRIZES: ONE (1) GRAND PRIZE: One trip for winner and 3 travel companions of\n",
      " winner's choosing to Los Angeles, CA to be completed on or before 12/31/02.\n",
      " Trip is for 4 persons but can include up to 8 persons under the following\n",
      " conditions: Among winner and the 3 selected travel companions, each traveler\n",
      " who is a minor in his/her state of residence must be accompanied by a parent or\n",
      " legal guardian of such minor at all times; Sponsor will provide trip\n",
      " accommodations for one parent or legal guardian to accompany him/her. Trip\n",
      " includes round-trip coach air transportation from a major gateway airport near\n",
      " winner's residence within the U.S.; 3 days/2 nights double occupancy standard\n",
      " hotel accommodations in the Los Angeles, CA metropolitan area (airport, carrier\n",
      " and hotel to be selected by Sponsor); accompanied admission to the set of FOX's\n",
      " Malcolm in the Middle(TM) (\"MIM\") during a non-filming period selected by FOX\n",
      " to meet Frankie Muniz; and ground transportation between the California airport\n",
      " and hotel, and between the hotel and the MIM set. Grand Prize winner will also\n",
      " receive a check for $2,500, 1 MIM script autographed by Frankie Muniz, one\n",
      " MIM/3D's(R) brand snacks VIP pack (including 1 backpack, 1 book, 1 hat, 1\n",
      " t-shirt, and 1 case consisting of fifteen 7 oz. bags of RUFFLES(R) 3D's(R)\n",
      " brand Maximum Cheddar flavored snacks). Approximate Retail Value (\"ARV\"):\n",
      " Between $7,500 and $15,000, depending on winner's point of travel origin and\n",
      " how many persons (up to 8) take the trip. All meals, gratuities, and other\n",
      " expenses associated with prize trip not specifically mentioned in these rules\n",
      " are the winner's sole responsibility. All travel must be taken by the date\n",
      " specified; no alternative travel dates are available. Winner, travel\n",
      " companions, and any necessary parent(s)/legal guardian(s) (the \"travel party\")\n",
      " must travel on same itinerary. In the event that circumstances prevent the\n",
      " travel party from being able to attend the set visit or meet Frankie Muniz, or\n",
      " limit this portion of the Grand Prize in any way, the winner agrees that the\n",
      " Promotion Parties shall have no obligations other than to deliver the remainder\n",
      " of the Grand Prize. FIVE (5) FIRST PRIZES: Manufacturer's coupons redeemable at\n",
      " participating retailers for 52 free 7 oz. bags of any 3D'S(R) brand snacks\n",
      " (with a retail value up to $2.59). ARV: $135. TEN (10) SECOND PRIZES: One\n",
      " MIM/3D's(R) brand snacks VIP pack (including 1 backpack, 1 book, 1 hat, ,1\n",
      " t-shirt, and 1 case consisting of fifteen 7 oz. bags of RUFFLES(R) 3D's(R)\n",
      " brand Maximum Cheddar flavored snacks). ARV: $100. TWENTY (20) THIRD PRIZES:\n",
      " One MIM t-shirt and one MIM hat. ARV: $30. 100 FOURTH PRIZES: One\n",
      " manufacturer's coupon redeemable at participating retailers for 1 free bag of\n",
      " 3D's(R) brand snacks (up to 7 oz. size). ARV: $2.59. Free product coupons\n",
      " expire and must be redeemed by 12/31/02. No substitution, cash redemptions or\n",
      " transfer of prizes is permitted except at Sponsor's sole discretion. If a prize\n",
      " cannot be awarded for any reason, Sponsor reserves the right to substitute any\n",
      " prize with another prize of equal or greater value. Any portion of a prize not\n",
      " accepted by a winner shall be forfeited. All prizes will be awarded.\n",
      "\n",
      "5. GENERAL CONDITIONS: Sweepstakes is not to be used in connection with any form\n",
      " of gambling. Prizes will be awarded and/or delivered only to addresses within\n",
      " the United States. Prize winners are solely responsible for any taxes on\n",
      " Prizes. This sweepstakes is subject to all federal, state and local laws, and\n",
      " Grand Prize winner will receive an IRS Form 1099 for the approximate retail\n",
      " value of the prize. By participating, entrants (and their parent(s)/legal\n",
      " guardian(s) if entrants are minors) agree to these Official Rules, Sponsor's\n",
      " Privacy Policy (available at www.3DsFun.com) and to the decisions of the judge,\n",
      " which are final and binding in all respects. If for any reason the sweepstakes\n",
      " is not capable of running as planned; including infection by computer virus,\n",
      " bugs, tampering, unauthorized intervention, fraud, technical failures, or any\n",
      " other causes which corrupt or affect the administration, security, fairness,\n",
      " integrity or proper conduct of the sweepstakes, Sponsor reserves the right, at\n",
      " its sole discretion, to disqualify any individual who is responsible or who\n",
      " tampers with the entry process, and to cancel or terminate the sweepstakes and\n",
      " select the winners from all eligible entries received prior to the cancellation\n",
      " or termination. This sweepstakes is offered only in the United States and is\n",
      " governed by the laws of the state of Texas, with venue in Dallas County, Texas,\n",
      " and all claims must be resolved in the federal or state courts of Dallas\n",
      " County, Texas.\n",
      "\n",
      "6. LIMITATIONS OF LIABILITY AND RELEASE: By accepting prize, winners (and\n",
      " winners' parent(s)/legal guardian(s) if winners are minors) agree that the\n",
      " Promotion Parties, participating retailers, and all of their respective\n",
      " officers, directors, employees, representatives and agents will have no\n",
      " liability whatsoever for, and shall be held harmless by winners against, any\n",
      " liability for injuries, losses or damages of any kind to persons or property\n",
      " resulting in whole or in part, directly or indirectly, from participation in\n",
      " the sweepstakes or acceptance, possession, misuse or use of any prize. Except\n",
      " if winners are residents of TN or where prohibited by law, winners (and\n",
      " winners' parent(s)/legal guardian(s) if winners are minors) grant (and agree to\n",
      " confirm this grant in writing, if requested) permission for Sponsor and those\n",
      " acting under its authority to use his/her name, photograph, voice and/or\n",
      " likeness, for advertising and/or publicity purposes without additional\n",
      " compensation.\n",
      "\n",
      "7. WINNERS' LIST: For a list of winners of prizes valued over $25, mail a\n",
      " self-addressed, stamped envelope to be postmarked by 2/11/02 and received by\n",
      " 2/18/02 to: Malcolm in the Middle(TM) Sweepstakes, Winners' List Requests, P.O.\n",
      " Box 1518, Elmhurst, IL 60126.\n",
      "\n",
      "8. SPONSOR: Frito-Lay, Inc., 7701 Legacy Drive, Plano, TX 75024-4099.\n",
      "\n",
      "(c)2002. Frito-Lay, Inc. All rights reserved.\n",
      "\n",
      "Malcolm in the Middle(TM) and (c)2002 Twentieth Century Fox Film Corporation,\n",
      " Regency Entertainment (USA) Inc. and Monarchy Enterprises S.a.r.l. All rights\n",
      " reserved.\n",
      "(c)2002. FOX BROADCASTING COMPANY\n"
     ]
    }
   ],
   "source": [
    "print(ham_emails[1].get_content().strip())"
   ]
  },
  {
   "cell_type": "code",
   "execution_count": 9,
   "metadata": {},
   "outputs": [
    {
     "name": "stdout",
     "output_type": "stream",
     "text": [
      "Help wanted.  We are a 14 year old fortune 500 company, that is\n",
      "growing at a tremendous rate.  We are looking for individuals who\n",
      "want to work from home.\n",
      "\n",
      "This is an opportunity to make an excellent income.  No experience\n",
      "is required.  We will train you.\n",
      "\n",
      "So if you are looking to be employed from home with a career that has\n",
      "vast opportunities, then go:\n",
      "\n",
      "http://www.basetel.com/wealthnow\n",
      "\n",
      "We are looking for energetic and self motivated people.  If that is you\n",
      "than click on the link and fill out the form, and one of our\n",
      "employement specialist will contact you.\n",
      "\n",
      "To be removed from our link simple go to:\n",
      "\n",
      "http://www.basetel.com/remove.html\n",
      "\n",
      "\n",
      "4139vOLW7-758DoDY1425FRhM1-764SMFc8513fCsLl40\n"
     ]
    }
   ],
   "source": [
    "print(spam_emails[6].get_content().strip())"
   ]
  },
  {
   "cell_type": "markdown",
   "metadata": {},
   "source": [
    "Some emails are actually multipart, with images and attachments (which can have their own attachments). Let's look at the various types of structures we have:"
   ]
  },
  {
   "cell_type": "code",
   "execution_count": 10,
   "metadata": {},
   "outputs": [],
   "source": [
    "def get_email_structure(email):\n",
    "    if isinstance(email, str):\n",
    "        return email\n",
    "    payload = email.get_payload()\n",
    "    if isinstance(payload, list):\n",
    "        return \"multipart({})\".format(\", \".join([\n",
    "            get_email_structure(sub_email)\n",
    "            for sub_email in payload\n",
    "        ]))\n",
    "    else:\n",
    "        return email.get_content_type()"
   ]
  },
  {
   "cell_type": "code",
   "execution_count": 11,
   "metadata": {},
   "outputs": [],
   "source": [
    "from collections import Counter\n",
    "\n",
    "def structures_counter(emails):\n",
    "    structures = Counter()\n",
    "    for email in emails:\n",
    "        structure = get_email_structure(email)\n",
    "        structures[structure] += 1\n",
    "    return structures"
   ]
  },
  {
   "cell_type": "code",
   "execution_count": 12,
   "metadata": {},
   "outputs": [
    {
     "data": {
      "text/plain": [
       "[('text/html', 118),\n",
       " ('text/plain', 81),\n",
       " ('multipart(text/plain, text/html)', 43),\n",
       " ('multipart(text/html)', 2),\n",
       " ('multipart(text/plain, image/bmp)', 1),\n",
       " ('multipart(multipart(text/plain, text/html))', 1),\n",
       " ('multipart(text/plain, application/x-pkcs7-signature)', 1),\n",
       " ('multipart(text/plain, image/png, image/png)', 1),\n",
       " ('multipart(multipart(text/plain, text/html), image/gif, image/gif, image/gif, image/gif, image/gif, image/gif, image/gif, image/gif, image/gif, image/gif, image/gif, image/jpeg, image/gif, image/gif, image/gif, image/gif, image/gif, image/gif)',\n",
       "  1),\n",
       " ('multipart(text/plain, text/plain)', 1)]"
      ]
     },
     "execution_count": 12,
     "metadata": {},
     "output_type": "execute_result"
    }
   ],
   "source": [
    "structures_counter(ham_emails).most_common()"
   ]
  },
  {
   "cell_type": "code",
   "execution_count": 13,
   "metadata": {},
   "outputs": [
    {
     "data": {
      "text/plain": [
       "[('text/plain', 218),\n",
       " ('text/html', 183),\n",
       " ('multipart(text/plain, text/html)', 45),\n",
       " ('multipart(text/html)', 20),\n",
       " ('multipart(text/plain)', 19),\n",
       " ('multipart(multipart(text/html))', 5),\n",
       " ('multipart(text/plain, image/jpeg)', 3),\n",
       " ('multipart(text/html, application/octet-stream)', 2),\n",
       " ('multipart(text/plain, application/octet-stream)', 1),\n",
       " ('multipart(text/html, text/plain)', 1),\n",
       " ('multipart(multipart(text/html), application/octet-stream, image/jpeg)', 1),\n",
       " ('multipart(multipart(text/plain, text/html), image/gif)', 1),\n",
       " ('multipart/alternative', 1)]"
      ]
     },
     "execution_count": 13,
     "metadata": {},
     "output_type": "execute_result"
    }
   ],
   "source": [
    "structures_counter(spam_emails).most_common()"
   ]
  },
  {
   "cell_type": "markdown",
   "metadata": {},
   "source": [
    "It seems that the ham emails are more often plain text, while spam has quite a lot of HTML. Moreover, quite a few ham emails are signed using PGP, while no spam is. In short, it seems that the email structure is useful information to have."
   ]
  },
  {
   "cell_type": "markdown",
   "metadata": {},
   "source": [
    "Now let's take a look at the email headers:"
   ]
  },
  {
   "cell_type": "code",
   "execution_count": 14,
   "metadata": {},
   "outputs": [
    {
     "name": "stdout",
     "output_type": "stream",
     "text": [
      "Return-Path : <12a1mailbot1@web.de>\n",
      "Delivered-To : zzzz@localhost.spamassassin.taint.org\n",
      "Received : from localhost (localhost [127.0.0.1])\tby phobos.labs.spamassassin.taint.org (Postfix) with ESMTP id 136B943C32\tfor <zzzz@localhost>; Thu, 22 Aug 2002 08:17:21 -0400 (EDT)\n",
      "Received : from mail.webnote.net [193.120.211.219]\tby localhost with POP3 (fetchmail-5.9.0)\tfor zzzz@localhost (single-drop); Thu, 22 Aug 2002 13:17:21 +0100 (IST)\n",
      "Received : from dd_it7 ([210.97.77.167])\tby webnote.net (8.9.3/8.9.3) with ESMTP id NAA04623\tfor <zzzz@spamassassin.taint.org>; Thu, 22 Aug 2002 13:09:41 +0100\n",
      "From : 12a1mailbot1@web.de\n",
      "Received : from r-smtp.korea.com - 203.122.2.197 by dd_it7  with Microsoft SMTPSVC(5.5.1775.675.6);\t Sat, 24 Aug 2002 09:42:10 +0900\n",
      "To : dcek1a1@netsgo.com\n",
      "Subject : Life Insurance - Why Pay More?\n",
      "Date : Wed, 21 Aug 2002 20:31:57 -1600\n",
      "MIME-Version : 1.0\n",
      "Message-ID : <0103c1042001882DD_IT7@dd_it7>\n",
      "Content-Type : text/html; charset=\"iso-8859-1\"\n",
      "Content-Transfer-Encoding : quoted-printable\n"
     ]
    }
   ],
   "source": [
    "for header, value in spam_emails[0].items():\n",
    "    print(header,\":\",value)"
   ]
  },
  {
   "cell_type": "markdown",
   "metadata": {},
   "source": [
    "There's probably a lot of useful information in there, such as the sender's email address (12a1mailbot1@web.de looks fishy), but we will just focus on the `Subject` header:"
   ]
  },
  {
   "cell_type": "code",
   "execution_count": 15,
   "metadata": {},
   "outputs": [
    {
     "data": {
      "text/plain": [
       "'Life Insurance - Why Pay More?'"
      ]
     },
     "execution_count": 15,
     "metadata": {},
     "output_type": "execute_result"
    }
   ],
   "source": [
    "spam_emails[0][\"Subject\"]"
   ]
  },
  {
   "cell_type": "code",
   "execution_count": 16,
   "metadata": {},
   "outputs": [
    {
     "name": "stderr",
     "output_type": "stream",
     "text": [
      "<ipython-input-16-c6d32b215bf4>:4: VisibleDeprecationWarning: Creating an ndarray from ragged nested sequences (which is a list-or-tuple of lists-or-tuples-or ndarrays with different lengths or shapes) is deprecated. If you meant to do this, you must specify 'dtype=object' when creating the ndarray\n",
      "  X = np.array(ham_emails + spam_emails)\n"
     ]
    }
   ],
   "source": [
    "import numpy as np\n",
    "from sklearn.model_selection import train_test_split\n",
    "\n",
    "X = np.array(ham_emails + spam_emails)\n",
    "y = np.array([0] * len(ham_emails) + [1] * len(spam_emails))\n",
    "\n",
    "X_train, X_test, y_train, y_test = train_test_split(X, y, test_size=0.2, random_state=42)"
   ]
  },
  {
   "cell_type": "code",
   "execution_count": 17,
   "metadata": {},
   "outputs": [
    {
     "data": {
      "text/plain": [
       "600"
      ]
     },
     "execution_count": 17,
     "metadata": {},
     "output_type": "execute_result"
    }
   ],
   "source": [
    "len(X_train)"
   ]
  },
  {
   "cell_type": "markdown",
   "metadata": {},
   "source": [
    "Okay, let's start writing the preprocessing functions. First, we will need a function to convert HTML to plain text. Arguably the best way to do this would be to use the great [BeautifulSoup](https://www.crummy.com/software/BeautifulSoup/) library, but I would like to avoid adding another dependency to this project, so let's hack a quick & dirty solution using regular expressions (at the risk of [un̨ho͞ly radiańcé destro҉ying all enli̍̈́̂̈́ghtenment](https://stackoverflow.com/a/1732454/38626)). The following function first drops the `<head>` section, then converts all `<a>` tags to the word HYPERLINK, then it gets rid of all HTML tags, leaving only the plain text. For readability, it also replaces multiple newlines with single newlines, and finally it unescapes html entities (such as `&gt;` or `&nbsp;`):"
   ]
  },
  {
   "cell_type": "code",
   "execution_count": 18,
   "metadata": {},
   "outputs": [],
   "source": [
    "import re\n",
    "from html import unescape\n",
    "\n",
    "def html_to_plain_text(html):\n",
    "    text = re.sub('<head.*?>.*?</head>', '', html, flags=re.M | re.S | re.I)\n",
    "    text = re.sub('<a\\s.*?>', ' HYPERLINK ', text, flags=re.M | re.S | re.I)\n",
    "    text = re.sub('<.*?>', '', text, flags=re.M | re.S)\n",
    "    text = re.sub(r'(\\s*\\n)+', '\\n', text, flags=re.M | re.S)\n",
    "    return unescape(text)"
   ]
  },
  {
   "cell_type": "markdown",
   "metadata": {},
   "source": [
    "Let's see if it works. This is HTML spam:"
   ]
  },
  {
   "cell_type": "code",
   "execution_count": 19,
   "metadata": {},
   "outputs": [
    {
     "name": "stdout",
     "output_type": "stream",
     "text": [
      "Me and my friends have this brand new idea, a Live Webcam <a href=\"http://%31%30%31%31%30%31%31%31%30%31%31%31%31%30%31%30%31%30%31%30%31%30%31%31%31%30%31%30%31%30%31%30%31%30%31%30%31%30%31%30%31%30%31%31%30%31%30%31%30%31%30%31%30%31%30%31%30%31%30%31%30%31%31%30%31%30%31%31%30%31%30%31%30%31%30%31%30%31%30%31%30%31%30%31%30%31%30%31%30%31%31%30%31%30%31%30%31%30%31%30%31%30%31%30%31%30%31%31%30%30%30%31%30%31%31%30%31%31%31%30%31%30%31%30%31%30%31%30%31%30%30%30%31%31%30%31%30%31%30%31%31%30%31%30%31%30%31%30%31%31%30%31@%34%2E%34%37%2E%39%36%2E%31%34%31/msga.html\"> Click Here <a/>\n",
      "<br>\n",
      "<br>\n",
      "<br>\n",
      "<font size=\"1\">This is NOT SPAM - You have received this e-mail because \n",
      "at one time or another you entered the weekly draw at one of\n",
      "our portals or FFA sites. We comply with all proposed and current laws \n",
      "on commercial e-mail under (Bill s. 1618 TITLE III passed by the 105th \n",
      "Congress).\n",
      " If you have received this e-mail in error, we apologize for the \n",
      "inconvenience and ask that you remove ...\n"
     ]
    }
   ],
   "source": [
    "html_spam_emails = [email for email in X_train[y_train==1]\n",
    "                    if get_email_structure(email) == \"text/html\"]\n",
    "sample_html_spam = html_spam_emails[7]\n",
    "print(sample_html_spam.get_content().strip()[:1000], \"...\")"
   ]
  },
  {
   "cell_type": "markdown",
   "metadata": {},
   "source": [
    "And this is the resulting plain text:"
   ]
  },
  {
   "cell_type": "code",
   "execution_count": 20,
   "metadata": {},
   "outputs": [
    {
     "name": "stdout",
     "output_type": "stream",
     "text": [
      "Me and my friends have this brand new idea, a Live Webcam  HYPERLINK  Click Here\n",
      "This is NOT SPAM - You have received this e-mail because\n",
      "at one time or another you entered the weekly draw at one of\n",
      "our portals or FFA sites. We comply with all proposed and current laws\n",
      "on commercial e-mail under (Bill s. 1618 TITLE III passed by the 105th\n",
      "Congress).\n",
      " If you have received this e-mail in error, we apologize for the\n",
      "inconvenience and ask that you remove yourself.\n",
      "Click   HYPERLINK Here to Unsubscribe\n",
      "fysibvcgjyuwinmyvbpjtaebsymyukbrkn\n",
      " ...\n"
     ]
    }
   ],
   "source": [
    "print(html_to_plain_text(sample_html_spam.get_content())[:1000], \"...\")"
   ]
  },
  {
   "cell_type": "markdown",
   "metadata": {},
   "source": [
    "Great! Now let's write a function that takes an email as input and returns its content as plain text, whatever its format is:"
   ]
  },
  {
   "cell_type": "code",
   "execution_count": 21,
   "metadata": {},
   "outputs": [],
   "source": [
    "def email_to_text(email):\n",
    "    html = None\n",
    "    for part in email.walk():\n",
    "        ctype = part.get_content_type()\n",
    "        if not ctype in (\"text/plain\", \"text/html\"):\n",
    "            continue\n",
    "        try:\n",
    "            content = part.get_content()\n",
    "        except: # in case of encoding issues\n",
    "            content = str(part.get_payload())\n",
    "        if ctype == \"text/plain\":\n",
    "            return content\n",
    "        else:\n",
    "            html = content\n",
    "    if html:\n",
    "        return html_to_plain_text(html)"
   ]
  },
  {
   "cell_type": "code",
   "execution_count": 22,
   "metadata": {},
   "outputs": [
    {
     "name": "stdout",
     "output_type": "stream",
     "text": [
      "Me and my friends have this brand new idea, a Live Webcam  HYPERLINK  Click Here\n",
      "This is NOT SPAM -  ...\n"
     ]
    }
   ],
   "source": [
    "print(email_to_text(sample_html_spam)[:100], \"...\")"
   ]
  },
  {
   "cell_type": "markdown",
   "metadata": {},
   "source": [
    "Let's throw in some stemming! For this to work, you need to install the Natural Language Toolkit ([NLTK](http://www.nltk.org/)). It's as simple as running the following command (don't forget to activate your virtualenv first; if you don't have one, you will likely need administrator rights, or use the `--user` option):\n",
    "\n",
    "`$ pip3 install nltk`"
   ]
  },
  {
   "cell_type": "code",
   "execution_count": 23,
   "metadata": {},
   "outputs": [
    {
     "name": "stdout",
     "output_type": "stream",
     "text": [
      "Computations => comput\n",
      "Computation => comput\n",
      "Computing => comput\n",
      "Computed => comput\n",
      "Compute => comput\n",
      "Compulsive => compuls\n"
     ]
    }
   ],
   "source": [
    "try:\n",
    "    import nltk\n",
    "\n",
    "    stemmer = nltk.PorterStemmer()\n",
    "    for word in (\"Computations\", \"Computation\", \"Computing\", \"Computed\", \"Compute\", \"Compulsive\"):\n",
    "        print(word, \"=>\", stemmer.stem(word))\n",
    "except ImportError:\n",
    "    print(\"Error: stemming requires the NLTK module.\")\n",
    "    stemmer = None"
   ]
  },
  {
   "cell_type": "markdown",
   "metadata": {},
   "source": [
    "We will also need a way to replace URLs with the word \"URL\". For this, we could use hard core [regular expressions](https://mathiasbynens.be/demo/url-regex) but we will just use the [urlextract](https://github.com/lipoja/URLExtract) library. You can install it with the following command (don't forget to activate your virtualenv first; if you don't have one, you will likely need administrator rights, or use the `--user` option):\n",
    "\n",
    "`$ pip3 install urlextract`"
   ]
  },
  {
   "cell_type": "code",
   "execution_count": 24,
   "metadata": {},
   "outputs": [
    {
     "name": "stdout",
     "output_type": "stream",
     "text": [
      "Error: replacing URLs requires the urlextract module.\n"
     ]
    }
   ],
   "source": [
    "try:\n",
    "    import urlextract # may require an Internet connection to download root domain names\n",
    "    \n",
    "    url_extractor = urlextract.URLExtract()\n",
    "    print(url_extractor.find_urls(\"Will it detect github.com and https://youtu.be/7Pq-S557XQU?t=3m32s\"))\n",
    "except ImportError:\n",
    "    print(\"Error: replacing URLs requires the urlextract module.\")\n",
    "    url_extractor = None"
   ]
  },
  {
   "cell_type": "markdown",
   "metadata": {},
   "source": [
    "We are ready to put all this together into a transformer that we will use to convert emails to word counters. Note that we split sentences into words using Python's `split()` method, which uses whitespaces for word boundaries. This works for many written languages, but not all. For example, Chinese and Japanese scripts generally don't use spaces between words, and Vietnamese often uses spaces even between syllables. It's okay in this exercise, because the dataset is (mostly) in English."
   ]
  },
  {
   "cell_type": "code",
   "execution_count": 25,
   "metadata": {},
   "outputs": [],
   "source": [
    "from sklearn.base import BaseEstimator, TransformerMixin\n",
    "\n",
    "class EmailToWordCounterTransformer(BaseEstimator, TransformerMixin):\n",
    "    def __init__(self, strip_headers=True, lower_case=True, remove_punctuation=True,\n",
    "                 replace_urls=True, replace_numbers=True, stemming=True):\n",
    "        self.strip_headers = strip_headers\n",
    "        self.lower_case = lower_case\n",
    "        self.remove_punctuation = remove_punctuation\n",
    "        self.replace_urls = replace_urls\n",
    "        self.replace_numbers = replace_numbers\n",
    "        self.stemming = stemming\n",
    "    def fit(self, X, y=None):\n",
    "        return self\n",
    "    def transform(self, X, y=None):\n",
    "        X_transformed = []\n",
    "        for email in X:\n",
    "            text = email_to_text(email) or \"\"\n",
    "            if self.lower_case:\n",
    "                text = text.lower()\n",
    "            if self.replace_urls and url_extractor is not None:\n",
    "                urls = list(set(url_extractor.find_urls(text)))\n",
    "                urls.sort(key=lambda url: len(url), reverse=True)\n",
    "                for url in urls:\n",
    "                    text = text.replace(url, \" URL \")\n",
    "            if self.replace_numbers:\n",
    "                text = re.sub(r'\\d+(?:\\.\\d*(?:[eE]\\d+))?', 'NUMBER', text)\n",
    "            if self.remove_punctuation:\n",
    "                text = re.sub(r'\\W+', ' ', text, flags=re.M)\n",
    "            word_counts = Counter(text.split())\n",
    "            if self.stemming and stemmer is not None:\n",
    "                stemmed_word_counts = Counter()\n",
    "                for word, count in word_counts.items():\n",
    "                    stemmed_word = stemmer.stem(word)\n",
    "                    stemmed_word_counts[stemmed_word] += count\n",
    "                word_counts = stemmed_word_counts\n",
    "            X_transformed.append(word_counts)\n",
    "        return np.array(X_transformed)"
   ]
  },
  {
   "cell_type": "markdown",
   "metadata": {},
   "source": [
    "Let's try this transformer on a few emails:"
   ]
  },
  {
   "cell_type": "code",
   "execution_count": 26,
   "metadata": {},
   "outputs": [
    {
     "data": {
      "text/plain": [
       "array([Counter({'of': 30, 'to': 28, 'the': 28, 'and': 20, 'thi': 17, 'your': 14, 'in': 12, 'we': 12, 'a': 11, 'you': 11, 'number': 9, 'kabila': 9, 'congo': 8, 'countri': 8, 'is': 8, 'my': 8, 'us': 8, 'i': 7, 'presid': 7, 'assist': 6, 'out': 6, 'fund': 6, 'by': 5, 'laurent': 5, 'our': 5, 'as': 5, 'will': 5, 'with': 5, 'from': 4, 'col': 4, 'democrat': 4, 'republ': 4, 'code': 4, 'inform': 4, 'that': 4, 'money': 4, 'secur': 4, 'for': 4, 'be': 4, 'who': 4, 'move': 4, 'are': 4, 'linux': 4, 'michael': 3, 'bundu': 3, 'no': 3, 'intl': 3, 'access': 3, 'email': 3, 'immedi': 3, 'pleas': 3, 'me': 3, 'need': 3, 'one': 3, 'hi': 3, 'were': 3, 'late': 3, 'then': 3, 'other': 3, 'here': 3, 'can': 3, 'have': 3, 'contact': 3, 'confidenti': 3, 'not': 3, 'through': 3, 'work': 3, 'dial': 3, 'ie': 3, 'tel': 2, 'rediffmail': 2, 'com': 2, 'so': 2, 'trust': 2, 'foreign': 2, 'partner': 2, 'may': 2, 'but': 2, 'indulg': 2, 'view': 2, 'it': 2, 'name': 2, 'aid': 2, 'bless': 2, 'militari': 2, 'rebel': 2, 'some': 2, 'state': 2, 'group': 2, 'privat': 2, 'when': 2, 'compani': 2, 'keep': 2, 'said': 2, 'follow': 2, 'son': 2, 'beneficiari': 2, 'under': 2, 'diplomat': 2, 'europ': 2, 'while': 2, 'ha': 2, 'sincer': 2, 'requir': 2, 'henc': 2, 'if': 2, 'address': 2, 'fax': 2, 'abov': 2, 'deal': 2, 'ilug': 2, 'mikebundu': 1, 'dear': 1, 'sir': 1, 'madam': 1, 'seek': 1, 'permit': 1, 'make': 1, 'acquaint': 1, 'manner': 1, 'necessit': 1, 'urgent': 1, 'reach': 1, 'depend': 1, 'worthi': 1, 'request': 1, 'seem': 1, 'strang': 1, 'unsolicit': 1, 'crave': 1, 'pray': 1, 'serious': 1, 'close': 1, 'former': 1, 'memori': 1, 'soul': 1, 'rest': 1, 'peac': 1, 'due': 1, 'campaign': 1, 'forc': 1, 'colleagu': 1, 'instruct': 1, 'go': 1, 'abroad': 1, 'purchas': 1, 'arm': 1, 'ammunit': 1, 'worth': 1, 'twenti': 1, 'million': 1, 'five': 1, 'hundr': 1, 'thousand': 1, 'unit': 1, 'dollar': 1, 'onli': 1, 'fight': 1, 'given': 1, 'without': 1, 'knowledg': 1, 'cabinet': 1, 'member': 1, 'wa': 1, 'kill': 1, 'bloodi': 1, 'shoot': 1, 'bodyguard': 1, 'day': 1, 'befor': 1, 'schedul': 1, 'travel': 1, 'decid': 1, 'put': 1, 'into': 1, 'safe': 1, 'amount': 1, 'present': 1, 'threaten': 1, 'arrest': 1, 'seizur': 1, 'properti': 1, 'rasheidi': 1, 'karesava': 1, 'tribesman': 1, 'personnel': 1, 'same': 1, 'tribe': 1, 'new': 1, 'joseph': 1, 'reliabl': 1, 'trustworthi': 1, 'suffici': 1, 'cover': 1, 'ensur': 1, 'baggag': 1, 'mark': 1, 'pass': 1, 'normal': 1, 'custom': 1, 'airport': 1, 'screen': 1, 'clearanc': 1, 'inabl': 1, 'all': 1, 'stem': 1, 'lack': 1, 'suppos': 1, 'good': 1, 'friend': 1, 'western': 1, 'suddenli': 1, 'becam': 1, 'hostil': 1, 'those': 1, 'after': 1, 'took': 1, 'offic': 1, 'though': 1, 'neither': 1, 'seen': 1, 'nor': 1, 'met': 1, 'each': 1, 'gather': 1, 'an': 1, 'associ': 1, 'encourag': 1, 'convinc': 1, 'transact': 1, 'properli': 1, 'handl': 1, 'modesti': 1, 'honesti': 1, 'huge': 1, 'success': 1, 'within': 1, 'two': 1, 'week': 1, 'therefor': 1, 'total': 1, 'would': 1, 'stand': 1, 'on': 1, 'behalf': 1, 'becaus': 1, 'restrict': 1, 'movement': 1, 'watch': 1, 'want': 1, 'veri': 1, 'care': 1, 'order': 1, 'lose': 1, 'which': 1, 'hard': 1, 'thu': 1, 'telephon': 1, 'person': 1, 'enabl': 1, 'discuss': 1, 'modal': 1, 'what': 1, 'share': 1, 'percentag': 1, 'note': 1, 'there': 1, 'risk': 1, 'involv': 1, 'everyon': 1, 's': 1, 'guarante': 1, 'guidelin': 1, 'furnish': 1, 'further': 1, 'detail': 1, 'soon': 1, 'am': 1, 'assur': 1, 'interest': 1, 'must': 1, 'use': 1, 'opportun': 1, 'medium': 1, 'implor': 1, 'exercis': 1, 'utmost': 1, 'matter': 1, 'extraordinarili': 1, 'whatev': 1, 'decis': 1, 'await': 1, 'prompt': 1, 'respons': 1, 'thank': 1, 'god': 1, 'best': 1, 'regard': 1, 'rtd': 1, 'm_bundu': 1, 'n': 1, 'b': 1, 'call': 1, 'line': 1, 'directli': 1, 'do': 1, 'includ': 1, 'e': 1, 'just': 1, 'also': 1, 'irish': 1, 'user': 1, 'http': 1, 'www': 1, 'mailman': 1, 'listinfo': 1, 'un': 1, 'subscript': 1, 'list': 1, 'maintain': 1, 'listmast': 1}),\n",
       "       Counter({'the': 48, 'divx': 38, 'of': 30, 'com': 30, 'number': 29, 'to': 24, 'you': 21, 'in': 19, 'mailshel': 19, 'skin': 18, 'thi': 16, 'and': 14, 'a': 14, 'http': 14, 'rd': 13, 'video': 12, 'www': 11, 'battl': 9, 'your': 9, 's': 8, 'planet': 8, 'is': 8, 'email': 7, 'if': 7, 'for': 7, 'that': 7, 'warcraft': 6, 'iii': 6, 'newslett': 6, 'unsubscrib': 6, 'from': 6, 'php': 6, 'by': 6, 'about': 5, 'be': 5, 'not': 5, 'forward': 5, 'news': 4, 'week': 4, 'sent': 4, 'cool': 4, 'at': 4, 'follow': 4, 'messag': 4, 'with': 4, 'more': 4, 'anim': 4, 'on': 4, 'can': 4, 'showcas': 4, 'futur': 4, 'detail': 4, 'id': 4, 'divxnetwork': 4, 'what': 3, 'latest': 3, 'over': 3, 'fan': 3, 'are': 3, 'like': 3, 'up': 3, 'seri': 3, 'adventur': 3, 'as': 3, 'read': 3, 'player': 3, 'have': 3, 'will': 3, 'submit': 3, 'all': 3, 'pleas': 3, 'receiv': 3, 'list': 3, 'hot': 2, 'world': 2, 'now': 2, 'million': 2, 'weekli': 2, 'subscrib': 2, 'd': 2, 'instruct': 2, 'classic': 2, 'one': 2, 'way': 2, 'it': 2, 'ha': 2, 'great': 2, 'new': 2, 'entertain': 2, 'popular': 2, 'wa': 2, 'group': 2, 'protect': 2, 'who': 2, 'enjoy': 2, 're': 2, 'high': 2, 'qualiti': 2, 'episod': 2, 'mammoth': 2, 'shark': 2, 'menac': 2, 'featur': 2, 'watch': 2, 'set': 2, 'record': 2, 'we': 2, 'game': 2, 'reign': 2, 'chao': 2, 'blizzard': 2, 'would': 2, 'experi': 2, 'design': 2, 'suggest': 2, 'creat': 2, 'send': 2, 'us': 2, 'friend': 2, 'inc': 2, 'advertis': 2, 'an': 2, 'repli': 2, 'do': 2, 'address': 2, 'safe': 2, 'tm': 1, 'worldwid': 1, 'welcom': 1, 'edit': 1, 'fix': 1, 'inform': 1, 'becaus': 1, 'end': 1, 'issu': 1, 'sell': 1, 'hotcak': 1, 'best': 1, 'thing': 1, 'open': 1, 'distribut': 1, 'possibl': 1, 'lot': 1, 'may': 1, 'otherwis': 1, 'wide': 1, 'seen': 1, 'independ': 1, 'short': 1, 'film': 1, 'cult': 1, 'movi': 1, 'strong': 1, 'underground': 1, 'filmmak': 1, 'distributor': 1, 'discov': 1, 'provid': 1, 'get': 1, 'their': 1, 'content': 1, 'front': 1, 'audienc': 1, 'perfect': 1, 'exampl': 1, 'phenomenon': 1, 'groundbreak': 1, 'sandi': 1, 'frank': 1, 'origin': 1, 'shown': 1, 'american': 1, 'televis': 1, 'late': 1, 'gain': 1, 'forerunn': 1, 'wildli': 1, 'style': 1, 'chronicl': 1, 'intergalact': 1, 'they': 1, 'evil': 1, 'univers': 1, 'invad': 1, 'belov': 1, 'among': 1, 'nostalgia': 1, 'buff': 1, 'anyon': 1, 'sci': 1, 'fi': 1, 'subject': 1, 'site': 1, 'discuss': 1, 'throughout': 1, 'internet': 1, 'live': 1, 'crew': 1, 'current': 1, 'stay': 1, 'tune': 1, 'come': 1, 'sale': 1, 'while': 1, 'ago': 1, 'told': 1, 'highli': 1, 'anticip': 1, 'cinemat': 1, 'cut': 1, 'scene': 1, 'earli': 1, 'juli': 1, 'releas': 1, 'result': 1, 'ship': 1, 'copi': 1, 'retail': 1, 'coincid': 1, 'judg': 1, 'look': 1, 'announc': 1, 'technolog': 1, 'some': 1, 'favorit': 1, 'near': 1, 'trailer': 1, 'success': 1, 'launch': 1, 'money': 1, 'cnn': 1, 'commentari': 1, 'game_ov': 1, 'column_gam': 1, 'index': 1, 'ht': 1, 'm': 1, 'let': 1, 'face': 1, 'don': 1, 't': 1, 'just': 1, 'display': 1, 'sleek': 1, 'stylish': 1, 'full': 1, 'screen': 1, 'give': 1, 'home': 1, 'theatr': 1, 'pc': 1, 'budman': 1, 'coldfus': 1, 'futurist': 1, 'drip': 1, 'gryphix': 1, 'dvdesqu': 1, 'titl': 1, 'groovi': 1, 'dvd': 1, 'complement': 1, 'nellynel': 1, 'check': 1, 'out': 1, 'section': 1, 'make': 1, 'own': 1, 'how': 1, 'page': 1, 'thank': 1, 'support': 1, 'feel': 1, 'free': 1, 'ani': 1, 'comment': 1, 'info': 1, 'until': 1, 'next': 1, 'time': 1, 'team': 1, 'p': 1, 'think': 1, 'them': 1, 'copyright': 1, 'c': 1, 'right': 1, 'reserv': 1, 'trademark': 1, 'opt': 1, 'interest': 1, 'write': 1, 'autom': 1, 'account': 1, 'below': 1, 'want': 1, 'wish': 1, 'visit': 1, 'enter': 1, 'altern': 1, 'remov': 1, 'request': 1, 'keep': 1, 'privat': 1, 'easili': 1, 'use': 1, 'or': 1, 'stop': 1, 'control': 1, 'html': 1, 'b_fanumbereeqnumberznumberxlnumberzjrnumbercpnumbervnumberadnumberadmz': 1, 'freshaddress': 1, 'adnumb': 1, 'earn': 1, 'each': 1, 'sign': 1, 'spnumber': 1}),\n",
       "       Counter({'hyperlink': 62, 'number': 54, 'the': 21, 'to': 19, 'and': 17, 'you': 17, 'a': 15, 'it': 14, 'of': 13, 'usb': 11, 'in': 10, 'for': 10, 'discuss': 10, 'on': 9, 'your': 9, 'that': 9, 'is': 9, 'cnet': 8, 'be': 8, 'comput': 7, 'window': 7, 'with': 7, 's': 7, 'if': 7, 'thi': 7, 'all': 6, 'from': 6, 'or': 6, 'have': 6, 'up': 6, 'download': 5, 'xp': 5, 'out': 5, 'one': 5, 'more': 5, 'are': 5, 't': 5, 'i': 5, 'what': 5, 'may': 5, 'font': 4, 'as': 4, 'canon': 4, 'powershot': 4, 'use': 4, 'look': 4, 'system': 4, 'messag': 3, 'me': 3, 'secur': 3, 'user': 3, 'opinion': 3, 'product': 3, 'vote': 3, 'our': 3, 'live': 3, 'type': 3, 'who': 3, 'can': 3, 'well': 3, 'board': 3, 'tech': 3, 'there': 3, 'no': 3, 'better': 3, 'interest': 3, 'so': 3, 'question': 3, 'pick': 3, 'whi': 3, 'some': 3, 'but': 3, 'will': 3, 'faster': 3, 'than': 3, 'best': 3, 'enough': 3, 'kid': 3, 'my': 3, 'web': 2, 'help': 2, 'pc': 2, 'hardwar': 2, 'newbi': 2, 'viru': 2, 'check': 2, 'submit': 2, 'famili': 2, 'problem': 2, 'normal': 2, 'here': 2, 'scandal': 2, 'such': 2, 'trust': 2, 'real': 2, 'get': 2, 'when': 2, 'receiv': 2, 'honest': 2, 'advic': 2, 'review': 2, 'just': 2, 'like': 2, 'love': 2, 'worri': 2, 'about': 2, 'post': 2, 'won': 2, 'com': 2, 'digicam': 2, 'summer': 2, 'most': 2, 'popular': 2, 'camera': 2, 'snumber': 2, 'see': 2, 'firewal': 2, 'hear': 2, 'veteran': 2, 'refus': 2, 'take': 2, 'peripher': 2, 'compat': 2, 'vs': 2, 'not': 2, 'newer': 2, 'doesn': 2, 'had': 2, 'backup': 2, 'someon': 2, 'back': 2, 'sound': 2, 're': 2, 'same': 2, 'onlin': 2, 'pass': 2, 'find': 2, 'news': 2, 'zdnet': 2, 'subscript': 2, 'wireless': 1, 'speakeasi': 1, 'these': 1, 'hot': 1, 'then': 1, 'own': 1, 'ramboost': 1, 'optim': 1, 'diagnost': 1, 'zonealarm': 1, 'encrypt': 1, 'virusmd': 1, 'webfilt': 1, 'brows': 1, 'companion': 1, 'tri': 1, 'support': 1, 'technician': 1, 'black': 1, 'color': 1, 'verdana': 1, 'arial': 1, 'helvetica': 1, 'san': 1, 'serif': 1, 'style': 1, 'size': 1, 'numberpx': 1, 'weight': 1, 'click': 1, 'go': 1, 'juli': 1, 'dear': 1, 'reader': 1, 'corpor': 1, 'worldcom': 1, 'enron': 1, 'surround': 1, 'us': 1, 'nowaday': 1, 'starter': 1, 'come': 1, 'down': 1, 'give': 1, 'place': 1, 'test': 1, 'by': 1, 'profession': 1, 'true': 1, 'life': 1, 'experi': 1, 'peopl': 1, 'share': 1, 'common': 1, 'today': 1, 'challeng': 1, 'technolog': 1, 'sneaki': 1, 'exec': 1, 'specif': 1, 'mind': 1, 'disappoint': 1, 'lee': 1, 'koo': 1, 'commun': 1, 'got': 1, 'suggest': 1, 'email': 1, 'messageboard': 1, 'shutterbugsgo': 1, 'vacat': 1, 'head': 1, 'beach': 1, 'indulg': 1, 'snapshot': 1, 'habit': 1, 'megapixel': 1, 'shoot': 1, 'leica': 1, 'digilux': 1, 'street': 1, 'shooter': 1, 'digit': 1, 'gnumber': 1, 'anumb': 1, 'nikon': 1, 'coolpix': 1, 'don': 1, 'do': 1, 'need': 1, 'despit': 1, 'horror': 1, 'stori': 1, 'hacker': 1, 'trojan': 1, 'intrud': 1, 'person': 1, 'moder': 1, 'bit': 1, 'heat': 1, 'her': 1, 'point': 1, 'wa': 1, 'taken': 1, 'she': 1, 'cent': 1, 'two': 1, 'throw': 1, 'donat': 1, 'jar': 1, 'wide': 1, 'open': 1, 'alert': 1, 'scoop': 1, 'chanc': 1, 'next': 1, 'time': 1, 'an': 1, 'extern': 1, 'util': 1, 'connect': 1, 'much': 1, 'current': 1, 'port': 1, 'new': 1, 'version': 1, 'similar': 1, 'gather': 1, 'topic': 1, 'hope': 1, 'bring': 1, 'understand': 1, 'store': 1, 'o': 1, 'how': 1, 'upgrad': 1, 'revers': 1, 'ani': 1, 'numbers': 1, 'mani': 1, 'jump': 1, 'ship': 1, 'move': 1, 'supposedli': 1, 'thing': 1, 'perform': 1, 'par': 1, 'actual': 1, 'slower': 1, 'previou': 1, 'os': 1, 'alway': 1, 'indig': 1, 'hard': 1, 'drive': 1, 'task': 1, 'beginn': 1, 'ask': 1, 'sure': 1, 'he': 1, 'bunch': 1, 'option': 1, 'choos': 1, 'boat': 1, 'way': 1, 'import': 1, 'data': 1, 'warn': 1, 'teen': 1, 'parent': 1, 'someth': 1, 'want': 1, 'read': 1, 'found': 1, 'along': 1, 'becaus': 1, 'know': 1, 'someday': 1, 'll': 1, 'face': 1, 'surf': 1, 'inform': 1, 'defrag': 1, 'ram': 1, 'worn': 1, 'winmodem': 1, 'full': 1, 'modem': 1, 'wake': 1, 'jen': 1, 'smith': 1, 'purchas': 1, 'cd': 1, 'rw': 1, 'kind': 1, 'graham': 1, 'hurst': 1, 'now': 1, 'top': 1, 'cio': 1, 'futur': 1, 'job': 1, 'over': 1, 'million': 1, 'director': 1, 'ha': 1, 'microsoft': 1, 'editor': 1, 'choic': 1, 'award': 1, 'pioneer': 1, 'home': 1, 'theater': 1, 'ht': 1, 'numberdv': 1, 'e': 1, 'mail': 1, 'address': 1, 'qqqqqqqqqq': 1, 'spamassassin': 1, 'taint': 1, 'org': 1, 'unsubscrib': 1, 'manag': 1, 'faq': 1, 'advertis': 1, 'price': 1, 'comparison': 1, 'servic': 1, 'copyright': 1, 'network': 1, 'inc': 1, 'right': 1, 'reserv': 1})],\n",
       "      dtype=object)"
      ]
     },
     "execution_count": 26,
     "metadata": {},
     "output_type": "execute_result"
    }
   ],
   "source": [
    "X_few = X_train[:3]\n",
    "X_few_wordcounts = EmailToWordCounterTransformer().fit_transform(X_few)\n",
    "X_few_wordcounts"
   ]
  },
  {
   "cell_type": "markdown",
   "metadata": {},
   "source": [
    "This looks about right!"
   ]
  },
  {
   "cell_type": "markdown",
   "metadata": {},
   "source": [
    "Now we have the word counts, and we need to convert them to vectors. For this, we will build another transformer whose `fit()` method will build the vocabulary (an ordered list of the most common words) and whose `transform()` method will use the vocabulary to convert word counts to vectors. The output is a sparse matrix."
   ]
  },
  {
   "cell_type": "code",
   "execution_count": 27,
   "metadata": {},
   "outputs": [],
   "source": [
    "from scipy.sparse import csr_matrix\n",
    "\n",
    "class WordCounterToVectorTransformer(BaseEstimator, TransformerMixin):\n",
    "    def __init__(self, vocabulary_size=1000):\n",
    "        self.vocabulary_size = vocabulary_size\n",
    "    def fit(self, X, y=None):\n",
    "        total_count = Counter()\n",
    "        for word_count in X:\n",
    "            for word, count in word_count.items():\n",
    "                total_count[word] += min(count, 10)\n",
    "        most_common = total_count.most_common()[:self.vocabulary_size]\n",
    "        self.most_common_ = most_common\n",
    "        self.vocabulary_ = {word: index + 1 for index, (word, count) in enumerate(most_common)}\n",
    "        return self\n",
    "    def transform(self, X, y=None):\n",
    "        rows = []\n",
    "        cols = []\n",
    "        data = []\n",
    "        for row, word_count in enumerate(X):\n",
    "            for word, count in word_count.items():\n",
    "                rows.append(row)\n",
    "                cols.append(self.vocabulary_.get(word, 0))\n",
    "                data.append(count)\n",
    "        return csr_matrix((data, (rows, cols)), shape=(len(X), self.vocabulary_size + 1))"
   ]
  },
  {
   "cell_type": "code",
   "execution_count": 28,
   "metadata": {},
   "outputs": [
    {
     "data": {
      "text/plain": [
       "<3x11 sparse matrix of type '<class 'numpy.int64'>'\n",
       "\twith 33 stored elements in Compressed Sparse Row format>"
      ]
     },
     "execution_count": 28,
     "metadata": {},
     "output_type": "execute_result"
    }
   ],
   "source": [
    "vocab_transformer = WordCounterToVectorTransformer(vocabulary_size=10)\n",
    "X_few_vectors = vocab_transformer.fit_transform(X_few_wordcounts)\n",
    "X_few_vectors"
   ]
  },
  {
   "cell_type": "code",
   "execution_count": 29,
   "metadata": {},
   "outputs": [
    {
     "data": {
      "text/plain": [
       "array([[555,  30,  28,  12,  11,  20,  11,  28,   9,  14,  17],\n",
       "       [699,  30,  24,  19,  14,  14,  21,  48,  29,   9,  16],\n",
       "       [745,  13,  19,  10,  15,  17,  17,  21,  54,   9,   7]])"
      ]
     },
     "execution_count": 29,
     "metadata": {},
     "output_type": "execute_result"
    }
   ],
   "source": [
    "X_few_vectors.toarray()"
   ]
  },
  {
   "cell_type": "markdown",
   "metadata": {},
   "source": [
    "What does this matrix mean? Well, the 64 in the third row, first column, means that the third email contains 64 words that are not part of the vocabulary. The 1 next to it means that the first word in the vocabulary is present once in this email. The 2 next to it means that the second word is present twice, and so on. You can look at the vocabulary to know which words we are talking about. The first word is \"of\", the second word is \"and\", etc."
   ]
  },
  {
   "cell_type": "code",
   "execution_count": 29,
   "metadata": {},
   "outputs": [
    {
     "data": {
      "text/plain": [
       "{'of': 1,\n",
       " 'to': 2,\n",
       " 'in': 3,\n",
       " 'a': 4,\n",
       " 'and': 5,\n",
       " 'you': 6,\n",
       " 'the': 7,\n",
       " 'number': 8,\n",
       " 'your': 9,\n",
       " 'thi': 10}"
      ]
     },
     "execution_count": 29,
     "metadata": {},
     "output_type": "execute_result"
    }
   ],
   "source": [
    "vocab_transformer.vocabulary_"
   ]
  },
  {
   "cell_type": "markdown",
   "metadata": {},
   "source": [
    "We are now ready to train our first spam classifier! Let's transform the whole dataset:"
   ]
  },
  {
   "cell_type": "code",
   "execution_count": 30,
   "metadata": {},
   "outputs": [],
   "source": [
    "from sklearn.pipeline import Pipeline\n",
    "\n",
    "preprocess_pipeline = Pipeline([\n",
    "    (\"email_to_wordcount\", EmailToWordCounterTransformer()),\n",
    "    (\"wordcount_to_vector\", WordCounterToVectorTransformer()),\n",
    "])\n",
    "\n",
    "X_train_transformed = preprocess_pipeline.fit_transform(X_train)"
   ]
  },
  {
   "cell_type": "markdown",
   "metadata": {},
   "source": [
    "## How to evaluate each classifier\n",
    "- Using 5-fold cross validation:\n",
    " - Evaluate accuracy\n",
    " - Calculate the confusion matrix, precision, recall and f1-score\n",
    "- Select some promising models\n",
    " - For models that implement decision_function() or predict_probas(),\n",
    "  - Plot the precision vs recall curve\n",
    "  - Plot ROC curve and calculate the ROC AUC\n",
    "- Pick the classifier with best precision and recall"
   ]
  },
  {
   "cell_type": "code",
   "execution_count": 31,
   "metadata": {},
   "outputs": [],
   "source": [
    "from sklearn.metrics import confusion_matrix\n",
    "from sklearn.metrics import precision_score, recall_score, f1_score\n",
    "\n",
    "def eval_confusion(y_pred, y_true=y_train):\n",
    "    conf_matrix = confusion_matrix(y_true, y_pred)\n",
    "    precision = precision_score(y_true, y_pred)\n",
    "    recall = recall_score(y_true, y_pred)\n",
    "    f1 = f1_score(y_true, y_pred)\n",
    "    return {'matrix': conf_matrix, 'precision': precision, 'recall': recall, 'f1': f1}"
   ]
  },
  {
   "cell_type": "code",
   "execution_count": 32,
   "metadata": {},
   "outputs": [],
   "source": [
    "import matplotlib as mpl\n",
    "import matplotlib.pyplot as plt"
   ]
  },
  {
   "cell_type": "code",
   "execution_count": 33,
   "metadata": {},
   "outputs": [],
   "source": [
    "import warnings\n",
    "\n",
    "# stop scikit-learn's deprecation warnings\n",
    "warnings.filterwarnings(\"ignore\", category=FutureWarning)"
   ]
  },
  {
   "cell_type": "code",
   "execution_count": 34,
   "metadata": {},
   "outputs": [],
   "source": [
    "from sklearn.linear_model import SGDClassifier\n",
    "from sklearn.linear_model import LogisticRegression\n",
    "from sklearn.neural_network import MLPClassifier\n",
    "from sklearn.tree import DecisionTreeClassifier\n",
    "from sklearn.ensemble import RandomForestClassifier\n",
    "from sklearn.ensemble import AdaBoostClassifier\n",
    "from sklearn.neighbors import KNeighborsClassifier\n",
    "from sklearn.svm import SVC\n",
    "\n",
    "# classification models\n",
    "sgd_clf = SGDClassifier(random_state=42, max_iter=500)\n",
    "mlp_clf = MLPClassifier(hidden_layer_sizes=(16,))\n",
    "tree_clf = DecisionTreeClassifier()\n",
    "forest_clf = RandomForestClassifier()\n",
    "adaboost_clf = AdaBoostClassifier()\n",
    "knn_clf = KNeighborsClassifier()\n",
    "svm_clf = SVC()\n",
    "log_clf = LogisticRegression(solver=\"liblinear\", random_state=42)\n",
    "\n",
    "classifiers = {\n",
    "    'SGD': sgd_clf,\n",
    "    'Decision Tree': tree_clf,\n",
    "    'Random Forest': forest_clf,\n",
    "    'AdaBoost': adaboost_clf,\n",
    "    'KNN': knn_clf,\n",
    "    'SVM': svm_clf,\n",
    "    'MLP': mlp_clf,\n",
    "    'LogisticRegression': log_clf\n",
    "}"
   ]
  },
  {
   "cell_type": "code",
   "execution_count": 35,
   "metadata": {},
   "outputs": [
    {
     "name": "stderr",
     "output_type": "stream",
     "text": [
      "D:\\ProgramData\\Anaconda3\\envs\\Bitirme\\lib\\site-packages\\sklearn\\neural_network\\_multilayer_perceptron.py:614: ConvergenceWarning: Stochastic Optimizer: Maximum iterations (200) reached and the optimization hasn't converged yet.\n",
      "  warnings.warn(\n"
     ]
    }
   ],
   "source": [
    "from sklearn.model_selection import cross_val_predict\n",
    "\n",
    "# make predictions using each model\n",
    "y_preds = {}\n",
    "for clf_name, clf in classifiers.items():\n",
    "    y_preds[clf_name] = cross_val_predict(clf, X_train_transformed, y_train, cv=5)"
   ]
  },
  {
   "cell_type": "code",
   "execution_count": 36,
   "metadata": {},
   "outputs": [
    {
     "name": "stdout",
     "output_type": "stream",
     "text": [
      "SGD:\n",
      "0.7716666666666666\n",
      "\n",
      "Decision Tree:\n",
      "0.8683333333333333\n",
      "\n",
      "Random Forest:\n",
      "0.92\n",
      "\n",
      "AdaBoost:\n",
      "0.93\n",
      "\n",
      "KNN:\n",
      "0.8783333333333333\n",
      "\n",
      "SVM:\n",
      "0.8416666666666667\n",
      "\n",
      "MLP:\n",
      "0.9333333333333333\n",
      "\n",
      "LogisticRegression:\n",
      "0.9333333333333333\n",
      "\n"
     ]
    }
   ],
   "source": [
    "from sklearn.metrics import accuracy_score\n",
    "\n",
    "# evaluate each classifier's accuracy\n",
    "for clf_name, y_pred in y_preds.items():\n",
    "    print(\"{}:\".format(clf_name))\n",
    "    print(accuracy_score(y_train, y_pred))\n",
    "    print()"
   ]
  },
  {
   "cell_type": "markdown",
   "metadata": {},
   "source": [
    "## Promising models\n",
    "- Logistic Regression 0.9333 \n",
    "- Ada Boost 0.9300\n",
    "- MLP 0.92\n",
    "- Random Forest 0.916"
   ]
  },
  {
   "cell_type": "code",
   "execution_count": 37,
   "metadata": {},
   "outputs": [
    {
     "name": "stdout",
     "output_type": "stream",
     "text": [
      "SGD:\n",
      "[[169  29]\n",
      " [108 294]]\n",
      "precision: 0.9102167182662538\n",
      "recall: 0.7313432835820896\n",
      "f1-score: 0.8110344827586207\n",
      "\n",
      "Decision Tree:\n",
      "[[156  42]\n",
      " [ 37 365]]\n",
      "precision: 0.8968058968058968\n",
      "recall: 0.9079601990049752\n",
      "f1-score: 0.9023485784919654\n",
      "\n",
      "Random Forest:\n",
      "[[158  40]\n",
      " [  8 394]]\n",
      "precision: 0.9078341013824884\n",
      "recall: 0.9800995024875622\n",
      "f1-score: 0.9425837320574162\n",
      "\n",
      "AdaBoost:\n",
      "[[170  28]\n",
      " [ 14 388]]\n",
      "precision: 0.9326923076923077\n",
      "recall: 0.9651741293532339\n",
      "f1-score: 0.9486552567237164\n",
      "\n",
      "KNN:\n",
      "[[151  47]\n",
      " [ 26 376]]\n",
      "precision: 0.8888888888888888\n",
      "recall: 0.9353233830845771\n",
      "f1-score: 0.9115151515151514\n",
      "\n",
      "SVM:\n",
      "[[117  81]\n",
      " [ 14 388]]\n",
      "precision: 0.8272921108742004\n",
      "recall: 0.9651741293532339\n",
      "f1-score: 0.8909299655568312\n",
      "\n",
      "MLP:\n",
      "[[166  32]\n",
      " [  8 394]]\n",
      "precision: 0.9248826291079812\n",
      "recall: 0.9800995024875622\n",
      "f1-score: 0.9516908212560387\n",
      "\n",
      "LogisticRegression:\n",
      "[[167  31]\n",
      " [  9 393]]\n",
      "precision: 0.9268867924528302\n",
      "recall: 0.9776119402985075\n",
      "f1-score: 0.9515738498789348\n",
      "\n"
     ]
    }
   ],
   "source": [
    "# evaluate the confusion matrix, precision, recall and f1 score for each classifier\n",
    "for clf_name, y_pred in y_preds.items():\n",
    "    conf = eval_confusion(y_pred)\n",
    "    print(\"{}:\".format(clf_name))\n",
    "    print(conf['matrix'])\n",
    "    print(\"precision: {}\".format(conf['precision']))\n",
    "    print(\"recall: {}\".format(conf['recall']))\n",
    "    print(\"f1-score: {}\".format(conf['f1']))\n",
    "    print()"
   ]
  },
  {
   "cell_type": "markdown",
   "metadata": {},
   "source": [
    "- SVM and SGD doesn't seem to be promising\n",
    "- Best model so far is the MLP and LogisticRegression classifiers\n"
   ]
  },
  {
   "cell_type": "code",
   "execution_count": 38,
   "metadata": {},
   "outputs": [
    {
     "name": "stderr",
     "output_type": "stream",
     "text": [
      "D:\\ProgramData\\Anaconda3\\envs\\Bitirme\\lib\\site-packages\\sklearn\\neural_network\\_multilayer_perceptron.py:614: ConvergenceWarning: Stochastic Optimizer: Maximum iterations (200) reached and the optimization hasn't converged yet.\n",
      "  warnings.warn(\n"
     ]
    }
   ],
   "source": [
    "from sklearn.model_selection import cross_val_predict\n",
    "\n",
    "# calculate scores for each model\n",
    "y_scores = {}\n",
    "clf_thresholds = {}\n",
    "\n",
    "for clf_name, clf in classifiers.items():\n",
    "    method = 'predict_proba'\n",
    "    if not hasattr(clf, 'predict_proba') and hasattr(clf, 'decision_function'):\n",
    "        method = 'decision_function'\n",
    "    y_scores[clf_name] = cross_val_predict(clf, X_train_transformed, y_train, cv=5,\n",
    "                                           method=method)\n",
    "    if method == 'predict_proba':\n",
    "        y_scores[clf_name] = y_scores[clf_name][:,1]\n",
    "        clf_thresholds[clf_name] = 0.5\n",
    "    else:\n",
    "        clf_thresholds[clf_name] = 0"
   ]
  },
  {
   "cell_type": "code",
   "execution_count": 39,
   "metadata": {},
   "outputs": [
    {
     "name": "stdout",
     "output_type": "stream",
     "text": [
      "Classifier : SGD , Thresholds: 0\n",
      "Classifier : Decision Tree , Thresholds: 0.5\n",
      "Classifier : Random Forest , Thresholds: 0.5\n",
      "Classifier : AdaBoost , Thresholds: 0.5\n",
      "Classifier : KNN , Thresholds: 0.5\n",
      "Classifier : SVM , Thresholds: 0\n",
      "Classifier : MLP , Thresholds: 0.5\n",
      "Classifier : LogisticRegression , Thresholds: 0.5\n"
     ]
    }
   ],
   "source": [
    "for clf_name, clf in classifiers.items():\n",
    "    print(\"Classifier : {} , Thresholds: {}\".format(clf_name,clf_thresholds[clf_name]))"
   ]
  },
  {
   "cell_type": "code",
   "execution_count": 40,
   "metadata": {},
   "outputs": [],
   "source": [
    "from sklearn.metrics import precision_recall_curve\n",
    "\n",
    "def plot_precision_vs_recall(y_scores, threshold=0, label=None, style='b-'):\n",
    "    \"\"\"plot precision vs recall for different thresholds, highlight the specified threshold\"\"\"\n",
    "    \n",
    "    # calculate scores and precisions and recalls at different thresholds\n",
    "    precisions, recalls, thresholds = precision_recall_curve(y_train, y_scores)\n",
    "    \n",
    "    # plot the precision and recall curves\n",
    "    plt.plot(recalls, precisions, style, label=label)\n",
    "    \n",
    "    # highlight the threshold\n",
    "    y_pred = y_scores >= threshold\n",
    "    hl_precision = precision_score(y_train, y_pred)\n",
    "    hl_recall = recall_score(y_train, y_pred)\n",
    "    \n",
    "    plt.plot([0, hl_recall], [hl_precision, hl_precision], 'r:')\n",
    "    plt.plot([hl_recall, hl_recall], [0, hl_precision], 'r:')\n",
    "    plt.plot([hl_recall], [hl_precision], 'ro')"
   ]
  },
  {
   "cell_type": "code",
   "execution_count": 41,
   "metadata": {},
   "outputs": [
    {
     "data": {
      "image/png": "[encoded data removed]",
      "text/plain": [
       "<Figure size 800x500 with 1 Axes>"
      ]
     },
     "metadata": {},
     "output_type": "display_data"
    }
   ],
   "source": [
    "# plot recall vs precision for each model\n",
    "mpl.style.use('default')\n",
    "plt.figure(figsize=(8, 5))\n",
    "\n",
    "styles = {\n",
    "    'SGD': 'r--',\n",
    "    'Decision Tree': 'g--',\n",
    "    'Random Forest': 'b--',\n",
    "    'AdaBoost': 'k--',\n",
    "    'KNN': 'y--',\n",
    "    'SVM': 'c--',\n",
    "    'MLP': 'm--',\n",
    "    'LogisticRegression':'indigo'\n",
    "}\n",
    "\n",
    "for clf_name, y_score in y_scores.items():\n",
    "    plot_precision_vs_recall(y_score, threshold=clf_thresholds[clf_name], label=clf_name,\n",
    "                             style=styles[clf_name])\n",
    "    \n",
    "plt.grid(True)\n",
    "plt.xlabel('Recall')\n",
    "plt.ylabel('Precision')\n",
    "plt.legend(loc='lower right')\n",
    "plt.show()"
   ]
  },
  {
   "cell_type": "code",
   "execution_count": 42,
   "metadata": {},
   "outputs": [],
   "source": [
    "from sklearn.metrics import roc_curve\n",
    "\n",
    "def plot_roc(y_scores, threshold=0, label=None, style='b-'):\n",
    "    \"\"\"plot the ROC curve\"\"\"\n",
    "    \n",
    "    fpr, tpr, thresholds = roc_curve(y_train, y_scores)\n",
    "    \n",
    "    # plot the ROC curve\n",
    "    plt.plot(fpr, tpr, style, label=label)\n",
    "    \n",
    "    # false positive rate: false positives / true negatives + false positives\n",
    "    # true positive rate (recall): true positives / (true positives + false negatives)\n",
    "    # highlight the threshold\n",
    "    y_pred = y_scores > threshold\n",
    "    hl_fp = np.sum(np.logical_and(y_pred == True, y_train == 0))\n",
    "    hl_tp = np.sum(np.logical_and(y_pred == True, y_train == 1))\n",
    "    hl_fpr = hl_fp / np.sum(y_train == 0)\n",
    "    hl_tpr = hl_tp / np.sum(y_train == 1)\n",
    "    \n",
    "    plt.plot([0, hl_fpr], [hl_tpr, hl_tpr], 'r:')\n",
    "    plt.plot([hl_fpr, hl_fpr], [0, hl_tpr], 'r:')\n",
    "    plt.plot([hl_fpr], [hl_tpr], 'ro')"
   ]
  },
  {
   "cell_type": "code",
   "execution_count": 43,
   "metadata": {},
   "outputs": [
    {
     "data": {
      "image/png": "[encoded data removed]",
      "text/plain": [
       "<Figure size 800x500 with 1 Axes>"
      ]
     },
     "metadata": {},
     "output_type": "display_data"
    }
   ],
   "source": [
    "# plot ROC curve for each model\n",
    "mpl.style.use('default')\n",
    "plt.figure(figsize=(8, 5))\n",
    "\n",
    "# ROC for purely random classifier\n",
    "plt.plot([0, 1], [0, 1], 'k--')\n",
    "\n",
    "for clf_name, y_score in y_scores.items():\n",
    "    plot_roc(y_score, threshold=clf_thresholds[clf_name], label=clf_name, style=styles[clf_name])\n",
    "    \n",
    "plt.grid(True)\n",
    "plt.xlabel('False Positive Rate')\n",
    "plt.ylabel('True Positive Rate (Recall)')\n",
    "plt.legend(loc='lower right')\n",
    "plt.show()"
   ]
  },
  {
   "cell_type": "code",
   "execution_count": 44,
   "metadata": {},
   "outputs": [
    {
     "name": "stdout",
     "output_type": "stream",
     "text": [
      "ROC AUC scores:\n",
      "- SGD: 0.8952083019247199\n",
      "- Decision Tree: 0.8415121362882556\n",
      "- Random Forest: 0.9658839640182925\n",
      "- AdaBoost: 0.9711543293632846\n",
      "- KNN: 0.9106048042615206\n",
      "- SVM: 0.8477938589878887\n",
      "- MLP: 0.9589426604351977\n",
      "- LogisticRegression: 0.9564927885823408\n"
     ]
    }
   ],
   "source": [
    "# calculate all ROC AUCs\n",
    "from sklearn.metrics import roc_auc_score\n",
    "\n",
    "print(\"ROC AUC scores:\")\n",
    "for clf_name, y_score in y_scores.items():\n",
    "    roc_auc = roc_auc_score(y_train, y_score)\n",
    "    print(\"- {}: {}\".format(clf_name, roc_auc))"
   ]
  },
  {
   "cell_type": "markdown",
   "metadata": {},
   "source": [
    "## Best classifiers to fine-tune:\n",
    "- MLP\n",
    "- LogisticRegression\n",
    "- AdaBoost\n",
    "- RandomForest"
   ]
  },
  {
   "cell_type": "markdown",
   "metadata": {},
   "source": [
    "# Fine-tune the Best Classifiers"
   ]
  },
  {
   "cell_type": "markdown",
   "metadata": {},
   "source": [
    "## To fine-tune each model:\n",
    "- Use Grid Search or Random Search depending on the model type and use 5-fold CV\n",
    "- Save each model to a file\n",
    "- Evaluate the model on the test set"
   ]
  },
  {
   "cell_type": "code",
   "execution_count": 45,
   "metadata": {
    "scrolled": true
   },
   "outputs": [
    {
     "name": "stdout",
     "output_type": "stream",
     "text": [
      "Fitting 5 folds for each of 15 candidates, totalling 75 fits\n"
     ]
    },
    {
     "name": "stderr",
     "output_type": "stream",
     "text": [
      "D:\\ProgramData\\Anaconda3\\envs\\Bitirme\\lib\\site-packages\\sklearn\\neural_network\\_multilayer_perceptron.py:614: ConvergenceWarning: Stochastic Optimizer: Maximum iterations (200) reached and the optimization hasn't converged yet.\n",
      "  warnings.warn(\n"
     ]
    },
    {
     "name": "stdout",
     "output_type": "stream",
     "text": [
      "[CV] END ..........activation=relu, hidden_layer_sizes=(16,); total time=   0.9s\n",
      "[CV] END ..........activation=relu, hidden_layer_sizes=(16,); total time=   0.6s\n",
      "[CV] END ..........activation=relu, hidden_layer_sizes=(16,); total time=   0.7s\n",
      "[CV] END ..........activation=relu, hidden_layer_sizes=(16,); total time=   0.6s\n",
      "[CV] END ..........activation=relu, hidden_layer_sizes=(16,); total time=   0.8s\n",
      "[CV] END .......activation=relu, hidden_layer_sizes=(16, 16); total time=   0.8s\n",
      "[CV] END .......activation=relu, hidden_layer_sizes=(16, 16); total time=   0.6s\n",
      "[CV] END .......activation=relu, hidden_layer_sizes=(16, 16); total time=   0.6s\n",
      "[CV] END .......activation=relu, hidden_layer_sizes=(16, 16); total time=   0.8s\n",
      "[CV] END .......activation=relu, hidden_layer_sizes=(16, 16); total time=   0.8s\n",
      "[CV] END ..........activation=relu, hidden_layer_sizes=(32,); total time=   0.8s\n",
      "[CV] END ..........activation=relu, hidden_layer_sizes=(32,); total time=   0.9s\n",
      "[CV] END ..........activation=relu, hidden_layer_sizes=(32,); total time=   0.8s\n",
      "[CV] END ..........activation=relu, hidden_layer_sizes=(32,); total time=   0.9s\n",
      "[CV] END ..........activation=relu, hidden_layer_sizes=(32,); total time=   0.9s\n",
      "[CV] END .......activation=relu, hidden_layer_sizes=(32, 32); total time=   0.8s\n",
      "[CV] END .......activation=relu, hidden_layer_sizes=(32, 32); total time=   0.8s\n",
      "[CV] END .......activation=relu, hidden_layer_sizes=(32, 32); total time=   0.8s\n",
      "[CV] END .......activation=relu, hidden_layer_sizes=(32, 32); total time=   0.9s\n",
      "[CV] END .......activation=relu, hidden_layer_sizes=(32, 32); total time=   0.8s\n",
      "[CV] END ...activation=relu, hidden_layer_sizes=(64, 32, 16); total time=   1.2s\n",
      "[CV] END ...activation=relu, hidden_layer_sizes=(64, 32, 16); total time=   1.1s\n",
      "[CV] END ...activation=relu, hidden_layer_sizes=(64, 32, 16); total time=   0.8s\n",
      "[CV] END ...activation=relu, hidden_layer_sizes=(64, 32, 16); total time=   1.0s\n",
      "[CV] END ...activation=relu, hidden_layer_sizes=(64, 32, 16); total time=   1.1s\n",
      "[CV] END ..........activation=tanh, hidden_layer_sizes=(16,); total time=   0.8s\n",
      "[CV] END ..........activation=tanh, hidden_layer_sizes=(16,); total time=   0.7s\n"
     ]
    },
    {
     "name": "stderr",
     "output_type": "stream",
     "text": [
      "D:\\ProgramData\\Anaconda3\\envs\\Bitirme\\lib\\site-packages\\sklearn\\neural_network\\_multilayer_perceptron.py:614: ConvergenceWarning: Stochastic Optimizer: Maximum iterations (200) reached and the optimization hasn't converged yet.\n",
      "  warnings.warn(\n"
     ]
    },
    {
     "name": "stdout",
     "output_type": "stream",
     "text": [
      "[CV] END ..........activation=tanh, hidden_layer_sizes=(16,); total time=   0.9s\n",
      "[CV] END ..........activation=tanh, hidden_layer_sizes=(16,); total time=   0.7s\n"
     ]
    },
    {
     "name": "stderr",
     "output_type": "stream",
     "text": [
      "D:\\ProgramData\\Anaconda3\\envs\\Bitirme\\lib\\site-packages\\sklearn\\neural_network\\_multilayer_perceptron.py:614: ConvergenceWarning: Stochastic Optimizer: Maximum iterations (200) reached and the optimization hasn't converged yet.\n",
      "  warnings.warn(\n"
     ]
    },
    {
     "name": "stdout",
     "output_type": "stream",
     "text": [
      "[CV] END ..........activation=tanh, hidden_layer_sizes=(16,); total time=   0.9s\n",
      "[CV] END .......activation=tanh, hidden_layer_sizes=(16, 16); total time=   0.8s\n",
      "[CV] END .......activation=tanh, hidden_layer_sizes=(16, 16); total time=   1.0s\n",
      "[CV] END .......activation=tanh, hidden_layer_sizes=(16, 16); total time=   1.1s\n",
      "[CV] END .......activation=tanh, hidden_layer_sizes=(16, 16); total time=   0.7s\n",
      "[CV] END .......activation=tanh, hidden_layer_sizes=(16, 16); total time=   0.8s\n",
      "[CV] END ..........activation=tanh, hidden_layer_sizes=(32,); total time=   0.9s\n",
      "[CV] END ..........activation=tanh, hidden_layer_sizes=(32,); total time=   1.0s\n",
      "[CV] END ..........activation=tanh, hidden_layer_sizes=(32,); total time=   0.9s\n",
      "[CV] END ..........activation=tanh, hidden_layer_sizes=(32,); total time=   0.8s\n",
      "[CV] END ..........activation=tanh, hidden_layer_sizes=(32,); total time=   1.2s\n",
      "[CV] END .......activation=tanh, hidden_layer_sizes=(32, 32); total time=   1.2s\n",
      "[CV] END .......activation=tanh, hidden_layer_sizes=(32, 32); total time=   0.9s\n",
      "[CV] END .......activation=tanh, hidden_layer_sizes=(32, 32); total time=   0.8s\n",
      "[CV] END .......activation=tanh, hidden_layer_sizes=(32, 32); total time=   1.5s\n",
      "[CV] END .......activation=tanh, hidden_layer_sizes=(32, 32); total time=   1.5s\n",
      "[CV] END ...activation=tanh, hidden_layer_sizes=(64, 32, 16); total time=   2.3s\n",
      "[CV] END ...activation=tanh, hidden_layer_sizes=(64, 32, 16); total time=   1.9s\n",
      "[CV] END ...activation=tanh, hidden_layer_sizes=(64, 32, 16); total time=   1.0s\n",
      "[CV] END ...activation=tanh, hidden_layer_sizes=(64, 32, 16); total time=   1.4s\n",
      "[CV] END ...activation=tanh, hidden_layer_sizes=(64, 32, 16); total time=   1.2s\n"
     ]
    },
    {
     "name": "stderr",
     "output_type": "stream",
     "text": [
      "D:\\ProgramData\\Anaconda3\\envs\\Bitirme\\lib\\site-packages\\sklearn\\neural_network\\_multilayer_perceptron.py:614: ConvergenceWarning: Stochastic Optimizer: Maximum iterations (200) reached and the optimization hasn't converged yet.\n",
      "  warnings.warn(\n"
     ]
    },
    {
     "name": "stdout",
     "output_type": "stream",
     "text": [
      "[CV] END ......activation=logistic, hidden_layer_sizes=(16,); total time=   1.0s\n"
     ]
    },
    {
     "name": "stderr",
     "output_type": "stream",
     "text": [
      "D:\\ProgramData\\Anaconda3\\envs\\Bitirme\\lib\\site-packages\\sklearn\\neural_network\\_multilayer_perceptron.py:614: ConvergenceWarning: Stochastic Optimizer: Maximum iterations (200) reached and the optimization hasn't converged yet.\n",
      "  warnings.warn(\n"
     ]
    },
    {
     "name": "stdout",
     "output_type": "stream",
     "text": [
      "[CV] END ......activation=logistic, hidden_layer_sizes=(16,); total time=   1.2s\n"
     ]
    },
    {
     "name": "stderr",
     "output_type": "stream",
     "text": [
      "D:\\ProgramData\\Anaconda3\\envs\\Bitirme\\lib\\site-packages\\sklearn\\neural_network\\_multilayer_perceptron.py:614: ConvergenceWarning: Stochastic Optimizer: Maximum iterations (200) reached and the optimization hasn't converged yet.\n",
      "  warnings.warn(\n"
     ]
    },
    {
     "name": "stdout",
     "output_type": "stream",
     "text": [
      "[CV] END ......activation=logistic, hidden_layer_sizes=(16,); total time=   1.3s\n"
     ]
    },
    {
     "name": "stderr",
     "output_type": "stream",
     "text": [
      "D:\\ProgramData\\Anaconda3\\envs\\Bitirme\\lib\\site-packages\\sklearn\\neural_network\\_multilayer_perceptron.py:614: ConvergenceWarning: Stochastic Optimizer: Maximum iterations (200) reached and the optimization hasn't converged yet.\n",
      "  warnings.warn(\n"
     ]
    },
    {
     "name": "stdout",
     "output_type": "stream",
     "text": [
      "[CV] END ......activation=logistic, hidden_layer_sizes=(16,); total time=   0.9s\n"
     ]
    },
    {
     "name": "stderr",
     "output_type": "stream",
     "text": [
      "D:\\ProgramData\\Anaconda3\\envs\\Bitirme\\lib\\site-packages\\sklearn\\neural_network\\_multilayer_perceptron.py:614: ConvergenceWarning: Stochastic Optimizer: Maximum iterations (200) reached and the optimization hasn't converged yet.\n",
      "  warnings.warn(\n"
     ]
    },
    {
     "name": "stdout",
     "output_type": "stream",
     "text": [
      "[CV] END ......activation=logistic, hidden_layer_sizes=(16,); total time=   0.9s\n"
     ]
    },
    {
     "name": "stderr",
     "output_type": "stream",
     "text": [
      "D:\\ProgramData\\Anaconda3\\envs\\Bitirme\\lib\\site-packages\\sklearn\\neural_network\\_multilayer_perceptron.py:614: ConvergenceWarning: Stochastic Optimizer: Maximum iterations (200) reached and the optimization hasn't converged yet.\n",
      "  warnings.warn(\n"
     ]
    },
    {
     "name": "stdout",
     "output_type": "stream",
     "text": [
      "[CV] END ...activation=logistic, hidden_layer_sizes=(16, 16); total time=   1.0s\n"
     ]
    },
    {
     "name": "stderr",
     "output_type": "stream",
     "text": [
      "D:\\ProgramData\\Anaconda3\\envs\\Bitirme\\lib\\site-packages\\sklearn\\neural_network\\_multilayer_perceptron.py:614: ConvergenceWarning: Stochastic Optimizer: Maximum iterations (200) reached and the optimization hasn't converged yet.\n",
      "  warnings.warn(\n"
     ]
    },
    {
     "name": "stdout",
     "output_type": "stream",
     "text": [
      "[CV] END ...activation=logistic, hidden_layer_sizes=(16, 16); total time=   1.1s\n"
     ]
    },
    {
     "name": "stderr",
     "output_type": "stream",
     "text": [
      "D:\\ProgramData\\Anaconda3\\envs\\Bitirme\\lib\\site-packages\\sklearn\\neural_network\\_multilayer_perceptron.py:614: ConvergenceWarning: Stochastic Optimizer: Maximum iterations (200) reached and the optimization hasn't converged yet.\n",
      "  warnings.warn(\n"
     ]
    },
    {
     "name": "stdout",
     "output_type": "stream",
     "text": [
      "[CV] END ...activation=logistic, hidden_layer_sizes=(16, 16); total time=   1.0s\n"
     ]
    },
    {
     "name": "stderr",
     "output_type": "stream",
     "text": [
      "D:\\ProgramData\\Anaconda3\\envs\\Bitirme\\lib\\site-packages\\sklearn\\neural_network\\_multilayer_perceptron.py:614: ConvergenceWarning: Stochastic Optimizer: Maximum iterations (200) reached and the optimization hasn't converged yet.\n",
      "  warnings.warn(\n"
     ]
    },
    {
     "name": "stdout",
     "output_type": "stream",
     "text": [
      "[CV] END ...activation=logistic, hidden_layer_sizes=(16, 16); total time=   1.0s\n"
     ]
    },
    {
     "name": "stderr",
     "output_type": "stream",
     "text": [
      "D:\\ProgramData\\Anaconda3\\envs\\Bitirme\\lib\\site-packages\\sklearn\\neural_network\\_multilayer_perceptron.py:614: ConvergenceWarning: Stochastic Optimizer: Maximum iterations (200) reached and the optimization hasn't converged yet.\n",
      "  warnings.warn(\n"
     ]
    },
    {
     "name": "stdout",
     "output_type": "stream",
     "text": [
      "[CV] END ...activation=logistic, hidden_layer_sizes=(16, 16); total time=   1.1s\n"
     ]
    },
    {
     "name": "stderr",
     "output_type": "stream",
     "text": [
      "D:\\ProgramData\\Anaconda3\\envs\\Bitirme\\lib\\site-packages\\sklearn\\neural_network\\_multilayer_perceptron.py:614: ConvergenceWarning: Stochastic Optimizer: Maximum iterations (200) reached and the optimization hasn't converged yet.\n",
      "  warnings.warn(\n"
     ]
    },
    {
     "name": "stdout",
     "output_type": "stream",
     "text": [
      "[CV] END ......activation=logistic, hidden_layer_sizes=(32,); total time=   1.3s\n"
     ]
    },
    {
     "name": "stderr",
     "output_type": "stream",
     "text": [
      "D:\\ProgramData\\Anaconda3\\envs\\Bitirme\\lib\\site-packages\\sklearn\\neural_network\\_multilayer_perceptron.py:614: ConvergenceWarning: Stochastic Optimizer: Maximum iterations (200) reached and the optimization hasn't converged yet.\n",
      "  warnings.warn(\n"
     ]
    },
    {
     "name": "stdout",
     "output_type": "stream",
     "text": [
      "[CV] END ......activation=logistic, hidden_layer_sizes=(32,); total time=   1.6s\n"
     ]
    },
    {
     "name": "stderr",
     "output_type": "stream",
     "text": [
      "D:\\ProgramData\\Anaconda3\\envs\\Bitirme\\lib\\site-packages\\sklearn\\neural_network\\_multilayer_perceptron.py:614: ConvergenceWarning: Stochastic Optimizer: Maximum iterations (200) reached and the optimization hasn't converged yet.\n",
      "  warnings.warn(\n"
     ]
    },
    {
     "name": "stdout",
     "output_type": "stream",
     "text": [
      "[CV] END ......activation=logistic, hidden_layer_sizes=(32,); total time=   1.3s\n"
     ]
    },
    {
     "name": "stderr",
     "output_type": "stream",
     "text": [
      "D:\\ProgramData\\Anaconda3\\envs\\Bitirme\\lib\\site-packages\\sklearn\\neural_network\\_multilayer_perceptron.py:614: ConvergenceWarning: Stochastic Optimizer: Maximum iterations (200) reached and the optimization hasn't converged yet.\n",
      "  warnings.warn(\n"
     ]
    },
    {
     "name": "stdout",
     "output_type": "stream",
     "text": [
      "[CV] END ......activation=logistic, hidden_layer_sizes=(32,); total time=   1.3s\n"
     ]
    },
    {
     "name": "stderr",
     "output_type": "stream",
     "text": [
      "D:\\ProgramData\\Anaconda3\\envs\\Bitirme\\lib\\site-packages\\sklearn\\neural_network\\_multilayer_perceptron.py:614: ConvergenceWarning: Stochastic Optimizer: Maximum iterations (200) reached and the optimization hasn't converged yet.\n",
      "  warnings.warn(\n"
     ]
    },
    {
     "name": "stdout",
     "output_type": "stream",
     "text": [
      "[CV] END ......activation=logistic, hidden_layer_sizes=(32,); total time=   1.4s\n",
      "[CV] END ...activation=logistic, hidden_layer_sizes=(32, 32); total time=   1.4s\n"
     ]
    },
    {
     "name": "stderr",
     "output_type": "stream",
     "text": [
      "D:\\ProgramData\\Anaconda3\\envs\\Bitirme\\lib\\site-packages\\sklearn\\neural_network\\_multilayer_perceptron.py:614: ConvergenceWarning: Stochastic Optimizer: Maximum iterations (200) reached and the optimization hasn't converged yet.\n",
      "  warnings.warn(\n"
     ]
    },
    {
     "name": "stdout",
     "output_type": "stream",
     "text": [
      "[CV] END ...activation=logistic, hidden_layer_sizes=(32, 32); total time=   1.5s\n",
      "[CV] END ...activation=logistic, hidden_layer_sizes=(32, 32); total time=   1.5s\n"
     ]
    },
    {
     "name": "stderr",
     "output_type": "stream",
     "text": [
      "D:\\ProgramData\\Anaconda3\\envs\\Bitirme\\lib\\site-packages\\sklearn\\neural_network\\_multilayer_perceptron.py:614: ConvergenceWarning: Stochastic Optimizer: Maximum iterations (200) reached and the optimization hasn't converged yet.\n",
      "  warnings.warn(\n"
     ]
    },
    {
     "name": "stdout",
     "output_type": "stream",
     "text": [
      "[CV] END ...activation=logistic, hidden_layer_sizes=(32, 32); total time=   1.5s\n",
      "[CV] END ...activation=logistic, hidden_layer_sizes=(32, 32); total time=   1.5s\n"
     ]
    },
    {
     "name": "stderr",
     "output_type": "stream",
     "text": [
      "D:\\ProgramData\\Anaconda3\\envs\\Bitirme\\lib\\site-packages\\sklearn\\neural_network\\_multilayer_perceptron.py:614: ConvergenceWarning: Stochastic Optimizer: Maximum iterations (200) reached and the optimization hasn't converged yet.\n",
      "  warnings.warn(\n"
     ]
    },
    {
     "name": "stdout",
     "output_type": "stream",
     "text": [
      "[CV] END activation=logistic, hidden_layer_sizes=(64, 32, 16); total time=   2.8s\n"
     ]
    },
    {
     "name": "stderr",
     "output_type": "stream",
     "text": [
      "D:\\ProgramData\\Anaconda3\\envs\\Bitirme\\lib\\site-packages\\sklearn\\neural_network\\_multilayer_perceptron.py:614: ConvergenceWarning: Stochastic Optimizer: Maximum iterations (200) reached and the optimization hasn't converged yet.\n",
      "  warnings.warn(\n"
     ]
    },
    {
     "name": "stdout",
     "output_type": "stream",
     "text": [
      "[CV] END activation=logistic, hidden_layer_sizes=(64, 32, 16); total time=   2.7s\n"
     ]
    },
    {
     "name": "stderr",
     "output_type": "stream",
     "text": [
      "D:\\ProgramData\\Anaconda3\\envs\\Bitirme\\lib\\site-packages\\sklearn\\neural_network\\_multilayer_perceptron.py:614: ConvergenceWarning: Stochastic Optimizer: Maximum iterations (200) reached and the optimization hasn't converged yet.\n",
      "  warnings.warn(\n"
     ]
    },
    {
     "name": "stdout",
     "output_type": "stream",
     "text": [
      "[CV] END activation=logistic, hidden_layer_sizes=(64, 32, 16); total time=   2.7s\n"
     ]
    },
    {
     "name": "stderr",
     "output_type": "stream",
     "text": [
      "D:\\ProgramData\\Anaconda3\\envs\\Bitirme\\lib\\site-packages\\sklearn\\neural_network\\_multilayer_perceptron.py:614: ConvergenceWarning: Stochastic Optimizer: Maximum iterations (200) reached and the optimization hasn't converged yet.\n",
      "  warnings.warn(\n"
     ]
    },
    {
     "name": "stdout",
     "output_type": "stream",
     "text": [
      "[CV] END activation=logistic, hidden_layer_sizes=(64, 32, 16); total time=   2.8s\n"
     ]
    },
    {
     "name": "stderr",
     "output_type": "stream",
     "text": [
      "D:\\ProgramData\\Anaconda3\\envs\\Bitirme\\lib\\site-packages\\sklearn\\neural_network\\_multilayer_perceptron.py:614: ConvergenceWarning: Stochastic Optimizer: Maximum iterations (200) reached and the optimization hasn't converged yet.\n",
      "  warnings.warn(\n"
     ]
    },
    {
     "name": "stdout",
     "output_type": "stream",
     "text": [
      "[CV] END activation=logistic, hidden_layer_sizes=(64, 32, 16); total time=   2.7s\n"
     ]
    },
    {
     "data": {
      "text/plain": [
       "GridSearchCV(cv=5, estimator=MLPClassifier(),\n",
       "             param_grid={'activation': ['relu', 'tanh', 'logistic'],\n",
       "                         'hidden_layer_sizes': [(16,), (16, 16), (32,),\n",
       "                                                (32, 32), (64, 32, 16)]},\n",
       "             scoring='f1', verbose=2)"
      ]
     },
     "execution_count": 45,
     "metadata": {},
     "output_type": "execute_result"
    }
   ],
   "source": [
    "from sklearn.model_selection import GridSearchCV\n",
    "\n",
    "# fine-tune MLP classifier\n",
    "mlp_best = MLPClassifier()\n",
    "mlp_param_grid = {\n",
    "    'hidden_layer_sizes': [(16,), (16, 16), (32,),(32,32),(64,32,16)],\n",
    "    'activation': ['relu', 'tanh', 'logistic']\n",
    "}\n",
    "\n",
    "mlp_grid_search = GridSearchCV(mlp_best, mlp_param_grid, 'f1', cv=5, verbose=2)\n",
    "mlp_grid_search.fit(X_train_transformed, y_train)"
   ]
  },
  {
   "cell_type": "code",
   "execution_count": 46,
   "metadata": {
    "scrolled": true
   },
   "outputs": [
    {
     "name": "stdout",
     "output_type": "stream",
     "text": [
      "Fitting 5 folds for each of 16 candidates, totalling 80 fits\n",
      "[CV] END ................learning_rate=0.01, n_estimators=10; total time=   0.0s\n",
      "[CV] END ................learning_rate=0.01, n_estimators=10; total time=   0.0s\n",
      "[CV] END ................learning_rate=0.01, n_estimators=10; total time=   0.0s\n",
      "[CV] END ................learning_rate=0.01, n_estimators=10; total time=   0.0s\n",
      "[CV] END ................learning_rate=0.01, n_estimators=10; total time=   0.0s\n",
      "[CV] END ................learning_rate=0.01, n_estimators=30; total time=   0.1s\n",
      "[CV] END ................learning_rate=0.01, n_estimators=30; total time=   0.1s\n",
      "[CV] END ................learning_rate=0.01, n_estimators=30; total time=   0.1s\n",
      "[CV] END ................learning_rate=0.01, n_estimators=30; total time=   0.1s\n",
      "[CV] END ................learning_rate=0.01, n_estimators=30; total time=   0.1s\n",
      "[CV] END ................learning_rate=0.01, n_estimators=50; total time=   0.2s\n",
      "[CV] END ................learning_rate=0.01, n_estimators=50; total time=   0.2s\n",
      "[CV] END ................learning_rate=0.01, n_estimators=50; total time=   0.2s\n",
      "[CV] END ................learning_rate=0.01, n_estimators=50; total time=   0.2s\n",
      "[CV] END ................learning_rate=0.01, n_estimators=50; total time=   0.2s\n",
      "[CV] END ...............learning_rate=0.01, n_estimators=100; total time=   0.4s\n",
      "[CV] END ...............learning_rate=0.01, n_estimators=100; total time=   0.4s\n",
      "[CV] END ...............learning_rate=0.01, n_estimators=100; total time=   0.4s\n",
      "[CV] END ...............learning_rate=0.01, n_estimators=100; total time=   0.4s\n",
      "[CV] END ...............learning_rate=0.01, n_estimators=100; total time=   0.4s\n",
      "[CV] END .................learning_rate=0.1, n_estimators=10; total time=   0.0s\n",
      "[CV] END .................learning_rate=0.1, n_estimators=10; total time=   0.0s\n",
      "[CV] END .................learning_rate=0.1, n_estimators=10; total time=   0.0s\n",
      "[CV] END .................learning_rate=0.1, n_estimators=10; total time=   0.0s\n",
      "[CV] END .................learning_rate=0.1, n_estimators=10; total time=   0.0s\n",
      "[CV] END .................learning_rate=0.1, n_estimators=30; total time=   0.1s\n",
      "[CV] END .................learning_rate=0.1, n_estimators=30; total time=   0.1s\n",
      "[CV] END .................learning_rate=0.1, n_estimators=30; total time=   0.1s\n",
      "[CV] END .................learning_rate=0.1, n_estimators=30; total time=   0.1s\n",
      "[CV] END .................learning_rate=0.1, n_estimators=30; total time=   0.1s\n",
      "[CV] END .................learning_rate=0.1, n_estimators=50; total time=   0.2s\n",
      "[CV] END .................learning_rate=0.1, n_estimators=50; total time=   0.2s\n",
      "[CV] END .................learning_rate=0.1, n_estimators=50; total time=   0.2s\n",
      "[CV] END .................learning_rate=0.1, n_estimators=50; total time=   0.2s\n",
      "[CV] END .................learning_rate=0.1, n_estimators=50; total time=   0.2s\n",
      "[CV] END ................learning_rate=0.1, n_estimators=100; total time=   0.4s\n",
      "[CV] END ................learning_rate=0.1, n_estimators=100; total time=   0.4s\n",
      "[CV] END ................learning_rate=0.1, n_estimators=100; total time=   0.4s\n",
      "[CV] END ................learning_rate=0.1, n_estimators=100; total time=   0.4s\n",
      "[CV] END ................learning_rate=0.1, n_estimators=100; total time=   0.4s\n",
      "[CV] END ...................learning_rate=1, n_estimators=10; total time=   0.0s\n",
      "[CV] END ...................learning_rate=1, n_estimators=10; total time=   0.0s\n",
      "[CV] END ...................learning_rate=1, n_estimators=10; total time=   0.0s\n",
      "[CV] END ...................learning_rate=1, n_estimators=10; total time=   0.0s\n",
      "[CV] END ...................learning_rate=1, n_estimators=10; total time=   0.0s\n",
      "[CV] END ...................learning_rate=1, n_estimators=30; total time=   0.1s\n",
      "[CV] END ...................learning_rate=1, n_estimators=30; total time=   0.1s\n",
      "[CV] END ...................learning_rate=1, n_estimators=30; total time=   0.1s\n",
      "[CV] END ...................learning_rate=1, n_estimators=30; total time=   0.1s\n",
      "[CV] END ...................learning_rate=1, n_estimators=30; total time=   0.1s\n",
      "[CV] END ...................learning_rate=1, n_estimators=50; total time=   0.2s\n",
      "[CV] END ...................learning_rate=1, n_estimators=50; total time=   0.2s\n",
      "[CV] END ...................learning_rate=1, n_estimators=50; total time=   0.2s\n",
      "[CV] END ...................learning_rate=1, n_estimators=50; total time=   0.2s\n",
      "[CV] END ...................learning_rate=1, n_estimators=50; total time=   0.2s\n",
      "[CV] END ..................learning_rate=1, n_estimators=100; total time=   0.4s\n",
      "[CV] END ..................learning_rate=1, n_estimators=100; total time=   0.4s\n",
      "[CV] END ..................learning_rate=1, n_estimators=100; total time=   0.4s\n",
      "[CV] END ..................learning_rate=1, n_estimators=100; total time=   0.5s\n",
      "[CV] END ..................learning_rate=1, n_estimators=100; total time=   0.4s\n",
      "[CV] END ..................learning_rate=10, n_estimators=10; total time=   0.0s\n",
      "[CV] END ..................learning_rate=10, n_estimators=10; total time=   0.0s\n",
      "[CV] END ..................learning_rate=10, n_estimators=10; total time=   0.0s\n",
      "[CV] END ..................learning_rate=10, n_estimators=10; total time=   0.0s\n",
      "[CV] END ..................learning_rate=10, n_estimators=10; total time=   0.0s\n",
      "[CV] END ..................learning_rate=10, n_estimators=30; total time=   0.1s\n",
      "[CV] END ..................learning_rate=10, n_estimators=30; total time=   0.1s\n",
      "[CV] END ..................learning_rate=10, n_estimators=30; total time=   0.1s\n",
      "[CV] END ..................learning_rate=10, n_estimators=30; total time=   0.1s\n",
      "[CV] END ..................learning_rate=10, n_estimators=30; total time=   0.0s\n",
      "[CV] END ..................learning_rate=10, n_estimators=50; total time=   0.2s\n",
      "[CV] END ..................learning_rate=10, n_estimators=50; total time=   0.2s\n",
      "[CV] END ..................learning_rate=10, n_estimators=50; total time=   0.2s\n",
      "[CV] END ..................learning_rate=10, n_estimators=50; total time=   0.2s\n",
      "[CV] END ..................learning_rate=10, n_estimators=50; total time=   0.1s\n",
      "[CV] END .................learning_rate=10, n_estimators=100; total time=   0.5s\n",
      "[CV] END .................learning_rate=10, n_estimators=100; total time=   0.4s\n",
      "[CV] END .................learning_rate=10, n_estimators=100; total time=   0.4s\n",
      "[CV] END .................learning_rate=10, n_estimators=100; total time=   0.5s\n",
      "[CV] END .................learning_rate=10, n_estimators=100; total time=   0.2s\n"
     ]
    },
    {
     "data": {
      "text/plain": [
       "GridSearchCV(cv=5, estimator=AdaBoostClassifier(),\n",
       "             param_grid={'learning_rate': [0.01, 0.1, 1, 10],\n",
       "                         'n_estimators': [10, 30, 50, 100]},\n",
       "             scoring='f1', verbose=2)"
      ]
     },
     "execution_count": 46,
     "metadata": {},
     "output_type": "execute_result"
    }
   ],
   "source": [
    "# fine-tune AdaBoost classifier\n",
    "adaboost_best = AdaBoostClassifier()\n",
    "adaboost_param_grid = {\n",
    "    'n_estimators': [10, 30, 50, 100],\n",
    "    'learning_rate':[0.01,0.1,1,10]\n",
    "}\n",
    "\n",
    "adaboost_grid_search = GridSearchCV(adaboost_best, adaboost_param_grid, 'f1', cv=5, verbose=2)\n",
    "adaboost_grid_search.fit(X_train_transformed, y_train)"
   ]
  },
  {
   "cell_type": "code",
   "execution_count": 47,
   "metadata": {},
   "outputs": [
    {
     "name": "stdout",
     "output_type": "stream",
     "text": [
      "Fitting 5 folds for each of 5 candidates, totalling 25 fits\n",
      "[CV] END ...C=629.782329591372, penalty=l1, solver=liblinear; total time=   0.0s\n",
      "[CV] END ...C=629.782329591372, penalty=l1, solver=liblinear; total time=   0.0s\n",
      "[CV] END ...C=629.782329591372, penalty=l1, solver=liblinear; total time=   0.0s\n",
      "[CV] END ...C=629.782329591372, penalty=l1, solver=liblinear; total time=   0.0s\n",
      "[CV] END ...C=629.782329591372, penalty=l1, solver=liblinear; total time=   0.0s\n",
      "[CV] END .....C=26290.206464300216, penalty=l1, solver=lbfgs; total time=   0.0s\n",
      "[CV] END .....C=26290.206464300216, penalty=l1, solver=lbfgs; total time=   0.0s\n",
      "[CV] END .....C=26290.206464300216, penalty=l1, solver=lbfgs; total time=   0.0s\n",
      "[CV] END .....C=26290.206464300216, penalty=l1, solver=lbfgs; total time=   0.0s\n",
      "[CV] END .....C=26290.206464300216, penalty=l1, solver=lbfgs; total time=   0.0s\n",
      "[CV] END C=84.14107900575871, penalty=elasticnet, solver=liblinear; total time=   0.0s\n",
      "[CV] END C=84.14107900575871, penalty=elasticnet, solver=liblinear; total time=   0.0s\n",
      "[CV] END C=84.14107900575871, penalty=elasticnet, solver=liblinear; total time=   0.0s\n",
      "[CV] END C=84.14107900575871, penalty=elasticnet, solver=liblinear; total time=   0.0s\n",
      "[CV] END C=84.14107900575871, penalty=elasticnet, solver=liblinear; total time=   0.0s\n",
      "[CV] END C=58308.86378307505, penalty=none, solver=liblinear; total time=   0.0s\n",
      "[CV] END C=58308.86378307505, penalty=none, solver=liblinear; total time=   0.0s\n",
      "[CV] END C=58308.86378307505, penalty=none, solver=liblinear; total time=   0.0s\n",
      "[CV] END C=58308.86378307505, penalty=none, solver=liblinear; total time=   0.0s\n",
      "[CV] END C=58308.86378307505, penalty=none, solver=liblinear; total time=   0.0s\n",
      "[CV] END ........C=24.17508294611391, penalty=l2, solver=sag; total time=   0.0s\n"
     ]
    },
    {
     "name": "stderr",
     "output_type": "stream",
     "text": [
      "D:\\ProgramData\\Anaconda3\\envs\\Bitirme\\lib\\site-packages\\sklearn\\model_selection\\_validation.py:610: FitFailedWarning: Estimator fit failed. The score on this train-test partition for these parameters will be set to nan. Details: \n",
      "Traceback (most recent call last):\n",
      "  File \"D:\\ProgramData\\Anaconda3\\envs\\Bitirme\\lib\\site-packages\\sklearn\\model_selection\\_validation.py\", line 593, in _fit_and_score\n",
      "    estimator.fit(X_train, y_train, **fit_params)\n",
      "  File \"D:\\ProgramData\\Anaconda3\\envs\\Bitirme\\lib\\site-packages\\sklearn\\linear_model\\_logistic.py\", line 1306, in fit\n",
      "    solver = _check_solver(self.solver, self.penalty, self.dual)\n",
      "  File \"D:\\ProgramData\\Anaconda3\\envs\\Bitirme\\lib\\site-packages\\sklearn\\linear_model\\_logistic.py\", line 443, in _check_solver\n",
      "    raise ValueError(\"Solver %s supports only 'l2' or 'none' penalties, \"\n",
      "ValueError: Solver lbfgs supports only 'l2' or 'none' penalties, got l1 penalty.\n",
      "\n",
      "  warnings.warn(\"Estimator fit failed. The score on this train-test\"\n",
      "D:\\ProgramData\\Anaconda3\\envs\\Bitirme\\lib\\site-packages\\sklearn\\model_selection\\_validation.py:610: FitFailedWarning: Estimator fit failed. The score on this train-test partition for these parameters will be set to nan. Details: \n",
      "Traceback (most recent call last):\n",
      "  File \"D:\\ProgramData\\Anaconda3\\envs\\Bitirme\\lib\\site-packages\\sklearn\\model_selection\\_validation.py\", line 593, in _fit_and_score\n",
      "    estimator.fit(X_train, y_train, **fit_params)\n",
      "  File \"D:\\ProgramData\\Anaconda3\\envs\\Bitirme\\lib\\site-packages\\sklearn\\linear_model\\_logistic.py\", line 1306, in fit\n",
      "    solver = _check_solver(self.solver, self.penalty, self.dual)\n",
      "  File \"D:\\ProgramData\\Anaconda3\\envs\\Bitirme\\lib\\site-packages\\sklearn\\linear_model\\_logistic.py\", line 443, in _check_solver\n",
      "    raise ValueError(\"Solver %s supports only 'l2' or 'none' penalties, \"\n",
      "ValueError: Solver lbfgs supports only 'l2' or 'none' penalties, got l1 penalty.\n",
      "\n",
      "  warnings.warn(\"Estimator fit failed. The score on this train-test\"\n",
      "D:\\ProgramData\\Anaconda3\\envs\\Bitirme\\lib\\site-packages\\sklearn\\model_selection\\_validation.py:610: FitFailedWarning: Estimator fit failed. The score on this train-test partition for these parameters will be set to nan. Details: \n",
      "Traceback (most recent call last):\n",
      "  File \"D:\\ProgramData\\Anaconda3\\envs\\Bitirme\\lib\\site-packages\\sklearn\\model_selection\\_validation.py\", line 593, in _fit_and_score\n",
      "    estimator.fit(X_train, y_train, **fit_params)\n",
      "  File \"D:\\ProgramData\\Anaconda3\\envs\\Bitirme\\lib\\site-packages\\sklearn\\linear_model\\_logistic.py\", line 1306, in fit\n",
      "    solver = _check_solver(self.solver, self.penalty, self.dual)\n",
      "  File \"D:\\ProgramData\\Anaconda3\\envs\\Bitirme\\lib\\site-packages\\sklearn\\linear_model\\_logistic.py\", line 443, in _check_solver\n",
      "    raise ValueError(\"Solver %s supports only 'l2' or 'none' penalties, \"\n",
      "ValueError: Solver lbfgs supports only 'l2' or 'none' penalties, got l1 penalty.\n",
      "\n",
      "  warnings.warn(\"Estimator fit failed. The score on this train-test\"\n",
      "D:\\ProgramData\\Anaconda3\\envs\\Bitirme\\lib\\site-packages\\sklearn\\model_selection\\_validation.py:610: FitFailedWarning: Estimator fit failed. The score on this train-test partition for these parameters will be set to nan. Details: \n",
      "Traceback (most recent call last):\n",
      "  File \"D:\\ProgramData\\Anaconda3\\envs\\Bitirme\\lib\\site-packages\\sklearn\\model_selection\\_validation.py\", line 593, in _fit_and_score\n",
      "    estimator.fit(X_train, y_train, **fit_params)\n",
      "  File \"D:\\ProgramData\\Anaconda3\\envs\\Bitirme\\lib\\site-packages\\sklearn\\linear_model\\_logistic.py\", line 1306, in fit\n",
      "    solver = _check_solver(self.solver, self.penalty, self.dual)\n",
      "  File \"D:\\ProgramData\\Anaconda3\\envs\\Bitirme\\lib\\site-packages\\sklearn\\linear_model\\_logistic.py\", line 443, in _check_solver\n",
      "    raise ValueError(\"Solver %s supports only 'l2' or 'none' penalties, \"\n",
      "ValueError: Solver lbfgs supports only 'l2' or 'none' penalties, got l1 penalty.\n",
      "\n",
      "  warnings.warn(\"Estimator fit failed. The score on this train-test\"\n",
      "D:\\ProgramData\\Anaconda3\\envs\\Bitirme\\lib\\site-packages\\sklearn\\model_selection\\_validation.py:610: FitFailedWarning: Estimator fit failed. The score on this train-test partition for these parameters will be set to nan. Details: \n",
      "Traceback (most recent call last):\n",
      "  File \"D:\\ProgramData\\Anaconda3\\envs\\Bitirme\\lib\\site-packages\\sklearn\\model_selection\\_validation.py\", line 593, in _fit_and_score\n",
      "    estimator.fit(X_train, y_train, **fit_params)\n",
      "  File \"D:\\ProgramData\\Anaconda3\\envs\\Bitirme\\lib\\site-packages\\sklearn\\linear_model\\_logistic.py\", line 1306, in fit\n",
      "    solver = _check_solver(self.solver, self.penalty, self.dual)\n",
      "  File \"D:\\ProgramData\\Anaconda3\\envs\\Bitirme\\lib\\site-packages\\sklearn\\linear_model\\_logistic.py\", line 443, in _check_solver\n",
      "    raise ValueError(\"Solver %s supports only 'l2' or 'none' penalties, \"\n",
      "ValueError: Solver lbfgs supports only 'l2' or 'none' penalties, got l1 penalty.\n",
      "\n",
      "  warnings.warn(\"Estimator fit failed. The score on this train-test\"\n",
      "D:\\ProgramData\\Anaconda3\\envs\\Bitirme\\lib\\site-packages\\sklearn\\model_selection\\_validation.py:610: FitFailedWarning: Estimator fit failed. The score on this train-test partition for these parameters will be set to nan. Details: \n",
      "Traceback (most recent call last):\n",
      "  File \"D:\\ProgramData\\Anaconda3\\envs\\Bitirme\\lib\\site-packages\\sklearn\\model_selection\\_validation.py\", line 593, in _fit_and_score\n",
      "    estimator.fit(X_train, y_train, **fit_params)\n",
      "  File \"D:\\ProgramData\\Anaconda3\\envs\\Bitirme\\lib\\site-packages\\sklearn\\linear_model\\_logistic.py\", line 1306, in fit\n",
      "    solver = _check_solver(self.solver, self.penalty, self.dual)\n",
      "  File \"D:\\ProgramData\\Anaconda3\\envs\\Bitirme\\lib\\site-packages\\sklearn\\linear_model\\_logistic.py\", line 450, in _check_solver\n",
      "    raise ValueError(\"Only 'saga' solver supports elasticnet penalty,\"\n",
      "ValueError: Only 'saga' solver supports elasticnet penalty, got solver=liblinear.\n",
      "\n",
      "  warnings.warn(\"Estimator fit failed. The score on this train-test\"\n",
      "D:\\ProgramData\\Anaconda3\\envs\\Bitirme\\lib\\site-packages\\sklearn\\model_selection\\_validation.py:610: FitFailedWarning: Estimator fit failed. The score on this train-test partition for these parameters will be set to nan. Details: \n",
      "Traceback (most recent call last):\n",
      "  File \"D:\\ProgramData\\Anaconda3\\envs\\Bitirme\\lib\\site-packages\\sklearn\\model_selection\\_validation.py\", line 593, in _fit_and_score\n",
      "    estimator.fit(X_train, y_train, **fit_params)\n",
      "  File \"D:\\ProgramData\\Anaconda3\\envs\\Bitirme\\lib\\site-packages\\sklearn\\linear_model\\_logistic.py\", line 1306, in fit\n",
      "    solver = _check_solver(self.solver, self.penalty, self.dual)\n",
      "  File \"D:\\ProgramData\\Anaconda3\\envs\\Bitirme\\lib\\site-packages\\sklearn\\linear_model\\_logistic.py\", line 450, in _check_solver\n",
      "    raise ValueError(\"Only 'saga' solver supports elasticnet penalty,\"\n",
      "ValueError: Only 'saga' solver supports elasticnet penalty, got solver=liblinear.\n",
      "\n",
      "  warnings.warn(\"Estimator fit failed. The score on this train-test\"\n",
      "D:\\ProgramData\\Anaconda3\\envs\\Bitirme\\lib\\site-packages\\sklearn\\model_selection\\_validation.py:610: FitFailedWarning: Estimator fit failed. The score on this train-test partition for these parameters will be set to nan. Details: \n",
      "Traceback (most recent call last):\n",
      "  File \"D:\\ProgramData\\Anaconda3\\envs\\Bitirme\\lib\\site-packages\\sklearn\\model_selection\\_validation.py\", line 593, in _fit_and_score\n",
      "    estimator.fit(X_train, y_train, **fit_params)\n",
      "  File \"D:\\ProgramData\\Anaconda3\\envs\\Bitirme\\lib\\site-packages\\sklearn\\linear_model\\_logistic.py\", line 1306, in fit\n",
      "    solver = _check_solver(self.solver, self.penalty, self.dual)\n",
      "  File \"D:\\ProgramData\\Anaconda3\\envs\\Bitirme\\lib\\site-packages\\sklearn\\linear_model\\_logistic.py\", line 450, in _check_solver\n",
      "    raise ValueError(\"Only 'saga' solver supports elasticnet penalty,\"\n",
      "ValueError: Only 'saga' solver supports elasticnet penalty, got solver=liblinear.\n",
      "\n",
      "  warnings.warn(\"Estimator fit failed. The score on this train-test\"\n",
      "D:\\ProgramData\\Anaconda3\\envs\\Bitirme\\lib\\site-packages\\sklearn\\model_selection\\_validation.py:610: FitFailedWarning: Estimator fit failed. The score on this train-test partition for these parameters will be set to nan. Details: \n",
      "Traceback (most recent call last):\n",
      "  File \"D:\\ProgramData\\Anaconda3\\envs\\Bitirme\\lib\\site-packages\\sklearn\\model_selection\\_validation.py\", line 593, in _fit_and_score\n",
      "    estimator.fit(X_train, y_train, **fit_params)\n",
      "  File \"D:\\ProgramData\\Anaconda3\\envs\\Bitirme\\lib\\site-packages\\sklearn\\linear_model\\_logistic.py\", line 1306, in fit\n",
      "    solver = _check_solver(self.solver, self.penalty, self.dual)\n",
      "  File \"D:\\ProgramData\\Anaconda3\\envs\\Bitirme\\lib\\site-packages\\sklearn\\linear_model\\_logistic.py\", line 450, in _check_solver\n",
      "    raise ValueError(\"Only 'saga' solver supports elasticnet penalty,\"\n",
      "ValueError: Only 'saga' solver supports elasticnet penalty, got solver=liblinear.\n",
      "\n",
      "  warnings.warn(\"Estimator fit failed. The score on this train-test\"\n",
      "D:\\ProgramData\\Anaconda3\\envs\\Bitirme\\lib\\site-packages\\sklearn\\model_selection\\_validation.py:610: FitFailedWarning: Estimator fit failed. The score on this train-test partition for these parameters will be set to nan. Details: \n",
      "Traceback (most recent call last):\n",
      "  File \"D:\\ProgramData\\Anaconda3\\envs\\Bitirme\\lib\\site-packages\\sklearn\\model_selection\\_validation.py\", line 593, in _fit_and_score\n",
      "    estimator.fit(X_train, y_train, **fit_params)\n",
      "  File \"D:\\ProgramData\\Anaconda3\\envs\\Bitirme\\lib\\site-packages\\sklearn\\linear_model\\_logistic.py\", line 1306, in fit\n",
      "    solver = _check_solver(self.solver, self.penalty, self.dual)\n",
      "  File \"D:\\ProgramData\\Anaconda3\\envs\\Bitirme\\lib\\site-packages\\sklearn\\linear_model\\_logistic.py\", line 450, in _check_solver\n",
      "    raise ValueError(\"Only 'saga' solver supports elasticnet penalty,\"\n",
      "ValueError: Only 'saga' solver supports elasticnet penalty, got solver=liblinear.\n",
      "\n",
      "  warnings.warn(\"Estimator fit failed. The score on this train-test\"\n",
      "D:\\ProgramData\\Anaconda3\\envs\\Bitirme\\lib\\site-packages\\sklearn\\model_selection\\_validation.py:610: FitFailedWarning: Estimator fit failed. The score on this train-test partition for these parameters will be set to nan. Details: \n",
      "Traceback (most recent call last):\n",
      "  File \"D:\\ProgramData\\Anaconda3\\envs\\Bitirme\\lib\\site-packages\\sklearn\\model_selection\\_validation.py\", line 593, in _fit_and_score\n",
      "    estimator.fit(X_train, y_train, **fit_params)\n",
      "  File \"D:\\ProgramData\\Anaconda3\\envs\\Bitirme\\lib\\site-packages\\sklearn\\linear_model\\_logistic.py\", line 1306, in fit\n",
      "    solver = _check_solver(self.solver, self.penalty, self.dual)\n",
      "  File \"D:\\ProgramData\\Anaconda3\\envs\\Bitirme\\lib\\site-packages\\sklearn\\linear_model\\_logistic.py\", line 454, in _check_solver\n",
      "    raise ValueError(\n",
      "ValueError: penalty='none' is not supported for the liblinear solver\n",
      "\n",
      "  warnings.warn(\"Estimator fit failed. The score on this train-test\"\n",
      "D:\\ProgramData\\Anaconda3\\envs\\Bitirme\\lib\\site-packages\\sklearn\\model_selection\\_validation.py:610: FitFailedWarning: Estimator fit failed. The score on this train-test partition for these parameters will be set to nan. Details: \n",
      "Traceback (most recent call last):\n",
      "  File \"D:\\ProgramData\\Anaconda3\\envs\\Bitirme\\lib\\site-packages\\sklearn\\model_selection\\_validation.py\", line 593, in _fit_and_score\n",
      "    estimator.fit(X_train, y_train, **fit_params)\n",
      "  File \"D:\\ProgramData\\Anaconda3\\envs\\Bitirme\\lib\\site-packages\\sklearn\\linear_model\\_logistic.py\", line 1306, in fit\n",
      "    solver = _check_solver(self.solver, self.penalty, self.dual)\n",
      "  File \"D:\\ProgramData\\Anaconda3\\envs\\Bitirme\\lib\\site-packages\\sklearn\\linear_model\\_logistic.py\", line 454, in _check_solver\n",
      "    raise ValueError(\n",
      "ValueError: penalty='none' is not supported for the liblinear solver\n",
      "\n",
      "  warnings.warn(\"Estimator fit failed. The score on this train-test\"\n",
      "D:\\ProgramData\\Anaconda3\\envs\\Bitirme\\lib\\site-packages\\sklearn\\model_selection\\_validation.py:610: FitFailedWarning: Estimator fit failed. The score on this train-test partition for these parameters will be set to nan. Details: \n",
      "Traceback (most recent call last):\n",
      "  File \"D:\\ProgramData\\Anaconda3\\envs\\Bitirme\\lib\\site-packages\\sklearn\\model_selection\\_validation.py\", line 593, in _fit_and_score\n",
      "    estimator.fit(X_train, y_train, **fit_params)\n",
      "  File \"D:\\ProgramData\\Anaconda3\\envs\\Bitirme\\lib\\site-packages\\sklearn\\linear_model\\_logistic.py\", line 1306, in fit\n",
      "    solver = _check_solver(self.solver, self.penalty, self.dual)\n",
      "  File \"D:\\ProgramData\\Anaconda3\\envs\\Bitirme\\lib\\site-packages\\sklearn\\linear_model\\_logistic.py\", line 454, in _check_solver\n",
      "    raise ValueError(\n",
      "ValueError: penalty='none' is not supported for the liblinear solver\n",
      "\n",
      "  warnings.warn(\"Estimator fit failed. The score on this train-test\"\n",
      "D:\\ProgramData\\Anaconda3\\envs\\Bitirme\\lib\\site-packages\\sklearn\\model_selection\\_validation.py:610: FitFailedWarning: Estimator fit failed. The score on this train-test partition for these parameters will be set to nan. Details: \n",
      "Traceback (most recent call last):\n",
      "  File \"D:\\ProgramData\\Anaconda3\\envs\\Bitirme\\lib\\site-packages\\sklearn\\model_selection\\_validation.py\", line 593, in _fit_and_score\n",
      "    estimator.fit(X_train, y_train, **fit_params)\n",
      "  File \"D:\\ProgramData\\Anaconda3\\envs\\Bitirme\\lib\\site-packages\\sklearn\\linear_model\\_logistic.py\", line 1306, in fit\n",
      "    solver = _check_solver(self.solver, self.penalty, self.dual)\n",
      "  File \"D:\\ProgramData\\Anaconda3\\envs\\Bitirme\\lib\\site-packages\\sklearn\\linear_model\\_logistic.py\", line 454, in _check_solver\n",
      "    raise ValueError(\n",
      "ValueError: penalty='none' is not supported for the liblinear solver\n",
      "\n",
      "  warnings.warn(\"Estimator fit failed. The score on this train-test\"\n",
      "D:\\ProgramData\\Anaconda3\\envs\\Bitirme\\lib\\site-packages\\sklearn\\model_selection\\_validation.py:610: FitFailedWarning: Estimator fit failed. The score on this train-test partition for these parameters will be set to nan. Details: \n",
      "Traceback (most recent call last):\n",
      "  File \"D:\\ProgramData\\Anaconda3\\envs\\Bitirme\\lib\\site-packages\\sklearn\\model_selection\\_validation.py\", line 593, in _fit_and_score\n",
      "    estimator.fit(X_train, y_train, **fit_params)\n",
      "  File \"D:\\ProgramData\\Anaconda3\\envs\\Bitirme\\lib\\site-packages\\sklearn\\linear_model\\_logistic.py\", line 1306, in fit\n",
      "    solver = _check_solver(self.solver, self.penalty, self.dual)\n",
      "  File \"D:\\ProgramData\\Anaconda3\\envs\\Bitirme\\lib\\site-packages\\sklearn\\linear_model\\_logistic.py\", line 454, in _check_solver\n",
      "    raise ValueError(\n",
      "ValueError: penalty='none' is not supported for the liblinear solver\n",
      "\n",
      "  warnings.warn(\"Estimator fit failed. The score on this train-test\"\n",
      "D:\\ProgramData\\Anaconda3\\envs\\Bitirme\\lib\\site-packages\\sklearn\\linear_model\\_sag.py:328: ConvergenceWarning: The max_iter was reached which means the coef_ did not converge\n",
      "  warnings.warn(\"The max_iter was reached which means \"\n",
      "D:\\ProgramData\\Anaconda3\\envs\\Bitirme\\lib\\site-packages\\sklearn\\linear_model\\_sag.py:328: ConvergenceWarning: The max_iter was reached which means the coef_ did not converge\n",
      "  warnings.warn(\"The max_iter was reached which means \"\n"
     ]
    },
    {
     "name": "stdout",
     "output_type": "stream",
     "text": [
      "[CV] END ........C=24.17508294611391, penalty=l2, solver=sag; total time=   0.0s\n",
      "[CV] END ........C=24.17508294611391, penalty=l2, solver=sag; total time=   0.0s\n",
      "[CV] END ........C=24.17508294611391, penalty=l2, solver=sag; total time=   0.0s\n",
      "[CV] END ........C=24.17508294611391, penalty=l2, solver=sag; total time=   0.0s\n"
     ]
    },
    {
     "name": "stderr",
     "output_type": "stream",
     "text": [
      "D:\\ProgramData\\Anaconda3\\envs\\Bitirme\\lib\\site-packages\\sklearn\\linear_model\\_sag.py:328: ConvergenceWarning: The max_iter was reached which means the coef_ did not converge\n",
      "  warnings.warn(\"The max_iter was reached which means \"\n",
      "D:\\ProgramData\\Anaconda3\\envs\\Bitirme\\lib\\site-packages\\sklearn\\linear_model\\_sag.py:328: ConvergenceWarning: The max_iter was reached which means the coef_ did not converge\n",
      "  warnings.warn(\"The max_iter was reached which means \"\n",
      "D:\\ProgramData\\Anaconda3\\envs\\Bitirme\\lib\\site-packages\\sklearn\\linear_model\\_sag.py:328: ConvergenceWarning: The max_iter was reached which means the coef_ did not converge\n",
      "  warnings.warn(\"The max_iter was reached which means \"\n",
      "D:\\ProgramData\\Anaconda3\\envs\\Bitirme\\lib\\site-packages\\sklearn\\model_selection\\_search.py:918: UserWarning: One or more of the test scores are non-finite: [0.9412285         nan        nan        nan 0.77791927]\n",
      "  warnings.warn(\n"
     ]
    },
    {
     "data": {
      "text/plain": [
       "RandomizedSearchCV(cv=5, estimator=LogisticRegression(), n_iter=5,\n",
       "                   param_distributions={'C': <scipy.stats._distn_infrastructure.rv_frozen object at 0x0000020DAE0CC9D0>,\n",
       "                                        'penalty': ['l1', 'l2', 'elasticnet',\n",
       "                                                    'none'],\n",
       "                                        'solver': ['newton-cg', 'lbfgs',\n",
       "                                                   'liblinear', 'sag',\n",
       "                                                   'saga']},\n",
       "                   random_state=42, scoring='f1', verbose=2)"
      ]
     },
     "execution_count": 47,
     "metadata": {},
     "output_type": "execute_result"
    }
   ],
   "source": [
    "from sklearn.model_selection import RandomizedSearchCV\n",
    "import scipy.stats\n",
    "\n",
    "# fine-tune SVM classifier\n",
    "logistic_best = LogisticRegression()\n",
    "logistic_param_dist = {\n",
    "    'penalty': ['l1', 'l2', 'elasticnet', 'none'],\n",
    "    'C': scipy.stats.reciprocal(20, 200000),\n",
    "    'solver' : ['newton-cg', 'lbfgs', 'liblinear', 'sag', 'saga']\n",
    "}\n",
    "\n",
    "logistic_randomized_search = RandomizedSearchCV(logistic_best, logistic_param_dist, n_iter=5, scoring='f1',\n",
    "                                           cv=5, verbose=2, random_state=42)\n",
    "logistic_randomized_search.fit(X_train_transformed, y_train)"
   ]
  },
  {
   "cell_type": "code",
   "execution_count": 48,
   "metadata": {},
   "outputs": [
    {
     "name": "stdout",
     "output_type": "stream",
     "text": [
      "Fitting 5 folds for each of 5 candidates, totalling 25 fits\n",
      "[CV] END ....................criterion=gini, n_estimators=10; total time=   0.0s\n",
      "[CV] END ....................criterion=gini, n_estimators=10; total time=   0.0s\n",
      "[CV] END ....................criterion=gini, n_estimators=10; total time=   0.0s\n",
      "[CV] END ....................criterion=gini, n_estimators=10; total time=   0.0s\n",
      "[CV] END ....................criterion=gini, n_estimators=10; total time=   0.0s\n",
      "[CV] END ...................criterion=gini, n_estimators=100; total time=   0.2s\n",
      "[CV] END ...................criterion=gini, n_estimators=100; total time=   0.2s\n",
      "[CV] END ...................criterion=gini, n_estimators=100; total time=   0.2s\n",
      "[CV] END ...................criterion=gini, n_estimators=100; total time=   0.2s\n",
      "[CV] END ...................criterion=gini, n_estimators=100; total time=   0.2s\n",
      "[CV] END ...............criterion=entropy, n_estimators=1000; total time=   2.8s\n",
      "[CV] END ...............criterion=entropy, n_estimators=1000; total time=   2.8s\n",
      "[CV] END ...............criterion=entropy, n_estimators=1000; total time=   2.8s\n",
      "[CV] END ...............criterion=entropy, n_estimators=1000; total time=   2.8s\n",
      "[CV] END ...............criterion=entropy, n_estimators=1000; total time=   3.3s\n",
      "[CV] END ..................criterion=gini, n_estimators=1000; total time=   3.0s\n",
      "[CV] END ..................criterion=gini, n_estimators=1000; total time=   2.9s\n",
      "[CV] END ..................criterion=gini, n_estimators=1000; total time=   2.7s\n",
      "[CV] END ..................criterion=gini, n_estimators=1000; total time=   2.7s\n",
      "[CV] END ..................criterion=gini, n_estimators=1000; total time=   2.8s\n",
      "[CV] END ................criterion=entropy, n_estimators=100; total time=   0.2s\n",
      "[CV] END ................criterion=entropy, n_estimators=100; total time=   0.2s\n",
      "[CV] END ................criterion=entropy, n_estimators=100; total time=   0.2s\n",
      "[CV] END ................criterion=entropy, n_estimators=100; total time=   0.2s\n",
      "[CV] END ................criterion=entropy, n_estimators=100; total time=   0.2s\n"
     ]
    },
    {
     "data": {
      "text/plain": [
       "RandomizedSearchCV(cv=5, estimator=RandomForestClassifier(), n_iter=5,\n",
       "                   param_distributions={'criterion': ['gini', 'entropy'],\n",
       "                                        'n_estimators': [10, 100, 1000]},\n",
       "                   random_state=42, scoring='f1', verbose=2)"
      ]
     },
     "execution_count": 48,
     "metadata": {},
     "output_type": "execute_result"
    }
   ],
   "source": [
    "from sklearn.model_selection import RandomizedSearchCV\n",
    "import scipy.stats\n",
    "\n",
    "# fine-tune SVM classifier\n",
    "random_best = RandomForestClassifier()\n",
    "random_param_dist = {\n",
    "    'n_estimators': [10,100,1000],\n",
    "    'criterion': ['gini', 'entropy'],\n",
    "}\n",
    "\n",
    "random_randomized_search = RandomizedSearchCV(random_best, random_param_dist, n_iter=5, scoring='f1',\n",
    "                                           cv=5, verbose=2, random_state=42)\n",
    "random_randomized_search.fit(X_train_transformed, y_train)"
   ]
  },
  {
   "cell_type": "code",
   "execution_count": 49,
   "metadata": {},
   "outputs": [],
   "source": [
    "import joblib\n",
    "\n",
    "def save_model(model, filename):\n",
    "    # create directory if it doesn't exist\n",
    "    if not os.path.isdir(MODELS_DIR):\n",
    "        os.makedirs(MODELS_DIR)\n",
    "        \n",
    "    path = os.path.join(MODELS_DIR, filename)\n",
    "    joblib.dump(model, path)"
   ]
  },
  {
   "cell_type": "code",
   "execution_count": 50,
   "metadata": {},
   "outputs": [],
   "source": [
    "# get the best estimators\n",
    "mlp_best = mlp_grid_search.best_estimator_\n",
    "adaboost_best = adaboost_grid_search.best_estimator_\n",
    "logistic_best = logistic_randomized_search.best_estimator_\n",
    "random_best =  random_randomized_search.best_estimator_\n",
    "MODELS_DIR = 'models'\n",
    "# save each model\n",
    "save_model(mlp_best, 'mlp_best.pkl')\n",
    "save_model(adaboost_best, 'adaboost_best.pkl')\n",
    "save_model(logistic_best, 'logistic_best.pkl')\n",
    "save_model(random_best, 'random_best.pkl')"
   ]
  },
  {
   "cell_type": "code",
   "execution_count": 51,
   "metadata": {},
   "outputs": [
    {
     "data": {
      "text/plain": [
       "MLPClassifier(activation='tanh', hidden_layer_sizes=(16, 16))"
      ]
     },
     "execution_count": 51,
     "metadata": {},
     "output_type": "execute_result"
    }
   ],
   "source": [
    "mlp_grid_search.best_estimator_"
   ]
  },
  {
   "cell_type": "code",
   "execution_count": 52,
   "metadata": {},
   "outputs": [
    {
     "data": {
      "text/plain": [
       "AdaBoostClassifier(learning_rate=1, n_estimators=100)"
      ]
     },
     "execution_count": 52,
     "metadata": {},
     "output_type": "execute_result"
    }
   ],
   "source": [
    "adaboost_grid_search.best_estimator_"
   ]
  },
  {
   "cell_type": "code",
   "execution_count": 53,
   "metadata": {},
   "outputs": [
    {
     "data": {
      "text/plain": [
       "LogisticRegression(C=629.782329591372, penalty='l1', solver='liblinear')"
      ]
     },
     "execution_count": 53,
     "metadata": {},
     "output_type": "execute_result"
    }
   ],
   "source": [
    "logistic_randomized_search.best_estimator_"
   ]
  },
  {
   "cell_type": "code",
   "execution_count": 54,
   "metadata": {},
   "outputs": [
    {
     "data": {
      "text/plain": [
       "RandomForestClassifier(criterion='entropy')"
      ]
     },
     "execution_count": 54,
     "metadata": {},
     "output_type": "execute_result"
    }
   ],
   "source": [
    "random_randomized_search.best_estimator_"
   ]
  },
  {
   "cell_type": "code",
   "execution_count": 55,
   "metadata": {},
   "outputs": [
    {
     "name": "stdout",
     "output_type": "stream",
     "text": [
      "MLP:\n",
      "[[198   0]\n",
      " [  0 402]]\n",
      "precision: 1.0\n",
      "recall: 1.0\n",
      "f1-score: 1.0\n",
      "accuracy: 1.0\n",
      "\n",
      "AdaBoost:\n",
      "[[198   0]\n",
      " [  0 402]]\n",
      "precision: 1.0\n",
      "recall: 1.0\n",
      "f1-score: 1.0\n",
      "accuracy: 1.0\n",
      "\n",
      "LogisticRegression:\n",
      "[[198   0]\n",
      " [  0 402]]\n",
      "precision: 1.0\n",
      "recall: 1.0\n",
      "f1-score: 1.0\n",
      "accuracy: 1.0\n",
      "\n",
      "RandomForestClassifier:\n",
      "[[198   0]\n",
      " [  0 402]]\n",
      "precision: 1.0\n",
      "recall: 1.0\n",
      "f1-score: 1.0\n",
      "accuracy: 1.0\n",
      "\n"
     ]
    }
   ],
   "source": [
    "# evaluate each model on the training set\n",
    "best_clf = {\n",
    "    'MLP': mlp_best,\n",
    "    'AdaBoost': adaboost_best,\n",
    "    'LogisticRegression': logistic_best,\n",
    "    'RandomForestClassifier' : random_best\n",
    "}\n",
    "\n",
    "for clf_name, clf in best_clf.items():\n",
    "    y_pred = clf.predict(X_train_transformed)\n",
    "    conf = eval_confusion(y_pred, y_train)\n",
    "    print(\"{}:\".format(clf_name))\n",
    "    print(conf['matrix'])\n",
    "    print(\"precision: {}\".format(conf['precision']))\n",
    "    print(\"recall: {}\".format(conf['recall']))\n",
    "    print(\"f1-score: {}\".format(conf['f1']))\n",
    "    print(\"accuracy: {}\".format(accuracy_score(y_pred, y_train)))\n",
    "    print()"
   ]
  },
  {
   "cell_type": "code",
   "execution_count": 56,
   "metadata": {},
   "outputs": [
    {
     "name": "stdout",
     "output_type": "stream",
     "text": [
      "MLP:\n",
      "[[46  6]\n",
      " [ 2 96]]\n",
      "precision: 0.9411764705882353\n",
      "recall: 0.9795918367346939\n",
      "f1-score: 0.96\n",
      "accuracy: 0.9466666666666667\n",
      "\n",
      "AdaBoost:\n",
      "[[46  6]\n",
      " [ 1 97]]\n",
      "precision: 0.941747572815534\n",
      "recall: 0.9897959183673469\n",
      "f1-score: 0.9651741293532338\n",
      "accuracy: 0.9533333333333334\n",
      "\n",
      "LogisticRegression:\n",
      "[[43  9]\n",
      " [ 4 94]]\n",
      "precision: 0.912621359223301\n",
      "recall: 0.9591836734693877\n",
      "f1-score: 0.9353233830845772\n",
      "accuracy: 0.9133333333333333\n",
      "\n",
      "RandomForestClassifier:\n",
      "[[42 10]\n",
      " [ 1 97]]\n",
      "precision: 0.9065420560747663\n",
      "recall: 0.9897959183673469\n",
      "f1-score: 0.9463414634146342\n",
      "accuracy: 0.9266666666666666\n",
      "\n"
     ]
    }
   ],
   "source": [
    "# prepare the test dataset\n",
    "X_test_prepared = preprocess_pipeline.transform(X_test)\n",
    "\n",
    "# evaluate each model on the test set\n",
    "for clf_name, clf in best_clf.items():\n",
    "    y_pred = clf.predict(X_test_prepared)\n",
    "    conf = eval_confusion(y_pred, y_test)\n",
    "    print(\"{}:\".format(clf_name))\n",
    "    print(conf['matrix'])\n",
    "    print(\"precision: {}\".format(conf['precision']))\n",
    "    print(\"recall: {}\".format(conf['recall']))\n",
    "    print(\"f1-score: {}\".format(conf['f1']))\n",
    "    print(\"accuracy: {}\".format(accuracy_score(y_pred, y_test)))\n",
    "    print()\n",
    "    "
   ]
  },
  {
   "cell_type": "markdown",
   "metadata": {},
   "source": [
    "The Best Classifier is the AdaBoost Classifier with about : \n",
    "- 95.53% accuracy\n",
    "- 94.17% precision\n",
    "- 98.97% recall\n",
    "- 94.17% f1-score"
   ]
  },
  {
   "cell_type": "code",
   "execution_count": null,
   "metadata": {},
   "outputs": [],
   "source": []
  },
  {
   "cell_type": "code",
   "execution_count": null,
   "metadata": {},
   "outputs": [],
   "source": []
  }
 ],
 "metadata": {
  "kernelspec": {
   "display_name": "Python 3",
   "language": "python",
   "name": "python3"
  },
  "language_info": {
   "codemirror_mode": {
    "name": "ipython",
    "version": 3
   },
   "file_extension": ".py",
   "mimetype": "text/x-python",
   "name": "python",
   "nbconvert_exporter": "python",
   "pygments_lexer": "ipython3",
   "version": "3.8.3"
  }
 },
 "nbformat": 4,
 "nbformat_minor": 5
}
